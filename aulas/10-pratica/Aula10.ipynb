{
 "cells": [
  {
   "cell_type": "markdown",
   "id": "f62ded59",
   "metadata": {},
   "source": [
    "# Prática com base `classicmodels`"
   ]
  },
  {
   "cell_type": "markdown",
   "id": "8a630554",
   "metadata": {},
   "source": [
    "Nesta aula iremos praticar **SQL** e fixar os conteúdos aprendidos nas últimas aulas.\n",
    "\n",
    "## Instalação da base\n",
    "\n",
    "Vamos utilizar a base de dados exemplo disponível em https://www.mysqltutorial.org/wp-content/uploads/2018/03/mysqlsampledatabase.zip. Faça o download e execute o script `mysqlsampledatabase.sql` para gerar a base de dados.\n",
    "\n",
    "## Como resolver os exercícios?\n",
    "\n",
    "Indicamos que crie uma cópia da base de dados em sua máquina (passo anterior). Utilize o MySQL Workbench ou o conector para testar as queries. Quando estiver bastante certo de que a resposta está correta, faça a submissão para o servidor.\n",
    "\n",
    "## Import das bibliotecas\n",
    "\n",
    "Vamos realizar o import das bibliotecas."
   ]
  },
  {
   "cell_type": "code",
   "execution_count": 9,
   "id": "b2f1597a",
   "metadata": {},
   "outputs": [],
   "source": [
    "import mysql.connector\n",
    "from functools import partial\n",
    "import os\n",
    "import insperautograder.jupyter as ia\n",
    "from dotenv import load_dotenv"
   ]
  },
  {
   "cell_type": "markdown",
   "id": "33eefa0d",
   "metadata": {},
   "source": [
    "E vamos criar nosso HELPER de conexão com o banco! Perceba que, uma vez configurado o `.env` não precisaremos mais informar usuários, senhas e URLs!"
   ]
  },
  {
   "cell_type": "code",
   "execution_count": 10,
   "id": "f5147533",
   "metadata": {},
   "outputs": [],
   "source": [
    "load_dotenv(override=True)\n",
    "\n",
    "def get_connection_helper():\n",
    "\n",
    "    def run_db_query(connection, query, args=None):\n",
    "        with connection.cursor() as cursor:\n",
    "            print(\"Executando query:\")\n",
    "            cursor.execute(query, args)\n",
    "            for result in cursor:\n",
    "                print(result)\n",
    "\n",
    "    connection = mysql.connector.connect(\n",
    "        host=os.getenv(\"MD_DB_SERVER\"),\n",
    "        user=os.getenv(\"MD_DB_USERNAME\"),\n",
    "        password=os.getenv(\"MD_DB_PASSWORD\"),\n",
    "        database=\"classicmodels\",\n",
    "    )\n",
    "    return connection, partial(run_db_query, connection)\n",
    "\n",
    "\n",
    "connection, db = get_connection_helper()"
   ]
  },
  {
   "cell_type": "markdown",
   "id": "86e481dc",
   "metadata": {},
   "source": [
    "### Tarefas e Notas\n",
    "Vamos conferir as tarefas e notas"
   ]
  },
  {
   "cell_type": "code",
   "execution_count": 3,
   "id": "47c6bae1",
   "metadata": {},
   "outputs": [
    {
     "data": {
      "text/markdown": [
       "|    | Atividade    | De                        | Até                       |\n",
       "|---:|:-------------|:--------------------------|:--------------------------|\n",
       "|  0 | newborn      | 2024-02-01 03:00:00+00:00 | 2024-05-30 03:00:00+00:00 |\n",
       "|  1 | select01     | 2024-02-08 03:00:00+00:00 | 2024-02-19 02:59:59+00:00 |\n",
       "|  2 | ddl          | 2024-02-22 03:00:00+00:00 | 2024-02-27 02:59:59+00:00 |\n",
       "|  3 | dml          | 2024-02-26 03:00:00+00:00 | 2024-03-03 02:59:59+00:00 |\n",
       "|  4 | views        | 2024-02-29 03:00:00+00:00 | 2024-03-20 02:59:59+00:00 |\n",
       "|  5 | group_having | 2024-02-29 03:00:00+00:00 | 2024-03-12 02:59:59+00:00 |\n",
       "|  6 | agg_join     | 2024-02-29 03:00:00+00:00 | 2024-03-05 02:59:59+00:00 |\n",
       "|  7 | sql_review1  | 2024-03-11 03:00:00+00:00 | 2024-03-20 02:59:59+00:00 |"
      ],
      "text/plain": [
       "<IPython.core.display.Markdown object>"
      ]
     },
     "metadata": {},
     "output_type": "display_data"
    }
   ],
   "source": [
    "ia.tasks()"
   ]
  },
  {
   "cell_type": "code",
   "execution_count": 4,
   "id": "bfbfcd1f-8d59-4820-880d-5ec881598472",
   "metadata": {},
   "outputs": [
    {
     "data": {
      "text/markdown": [
       "|    | Tarefa       |   Nota |\n",
       "|---:|:-------------|-------:|\n",
       "|  0 | agg_join     |  10    |\n",
       "|  1 | ddl          |  10    |\n",
       "|  2 | dml          |  10    |\n",
       "|  3 | group_having |  10    |\n",
       "|  4 | newborn      |  10    |\n",
       "|  5 | select01     |  10    |\n",
       "|  6 | sql_review1  |   8.5  |\n",
       "|  7 | views        |   9.17 |"
      ],
      "text/plain": [
       "<IPython.core.display.Markdown object>"
      ]
     },
     "metadata": {},
     "output_type": "display_data"
    }
   ],
   "source": [
    "ia.grades(by=\"TASK\")"
   ]
  },
  {
   "cell_type": "code",
   "execution_count": 5,
   "id": "9d0c9a82",
   "metadata": {},
   "outputs": [
    {
     "data": {
      "text/markdown": [
       "|    | Atividade   | Exercício   |   Peso |   Nota |\n",
       "|---:|:------------|:------------|-------:|-------:|\n",
       "|  0 | sql_review1 | ex01        |      1 |     10 |\n",
       "|  1 | sql_review1 | ex02        |      1 |     10 |\n",
       "|  2 | sql_review1 | ex03        |      1 |     10 |\n",
       "|  3 | sql_review1 | ex04        |      1 |     10 |\n",
       "|  4 | sql_review1 | ex05        |      1 |     10 |\n",
       "|  5 | sql_review1 | ex06        |      1 |     10 |\n",
       "|  6 | sql_review1 | ex07        |      2 |     10 |\n",
       "|  7 | sql_review1 | ex08        |      3 |     10 |\n",
       "|  8 | sql_review1 | ex09        |      2 |     10 |\n",
       "|  9 | sql_review1 | ex10        |      1 |     10 |\n",
       "| 10 | sql_review1 | ex11        |      3 |     10 |\n",
       "| 11 | sql_review1 | ex12        |      3 |      0 |"
      ],
      "text/plain": [
       "<IPython.core.display.Markdown object>"
      ]
     },
     "metadata": {},
     "output_type": "display_data"
    }
   ],
   "source": [
    "ia.grades(task=\"sql_review1\")"
   ]
  },
  {
   "cell_type": "markdown",
   "id": "c167b70e",
   "metadata": {},
   "source": [
    "**Exercício 1**: Crie uma query que conte a quantidade de registros na tabela `offices`."
   ]
  },
  {
   "cell_type": "code",
   "execution_count": 14,
   "id": "0203756a",
   "metadata": {},
   "outputs": [
    {
     "name": "stdout",
     "output_type": "stream",
     "text": [
      "Executando query:\n",
      "(7,)\n"
     ]
    }
   ],
   "source": [
    "sql_ex01 = \"\"\"\n",
    "-- Sua query AQUI!\n",
    "SELECT COUNT(*)\n",
    "FROM offices;\n",
    "\"\"\"\n",
    "\n",
    "db(sql_ex01)"
   ]
  },
  {
   "cell_type": "markdown",
   "id": "ed653f31",
   "metadata": {},
   "source": [
    "Após testar localmente e considerar sua solução correta, faça o envio clicando no botão abaixo!"
   ]
  },
  {
   "cell_type": "code",
   "execution_count": 15,
   "id": "b38f883b",
   "metadata": {},
   "outputs": [
    {
     "data": {
      "application/vnd.jupyter.widget-view+json": {
       "model_id": "13e6d5334cbe497aa5558c139e662681",
       "version_major": 2,
       "version_minor": 0
      },
      "text/plain": [
       "interactive(children=(Button(description='Enviar ex01', style=ButtonStyle()), Output()), _dom_classes=('widget…"
      ]
     },
     "execution_count": 15,
     "metadata": {},
     "output_type": "execute_result"
    }
   ],
   "source": [
    "ia.sender(answer=\"sql_ex01\", task=\"sql_review1\", question=\"ex01\", answer_type=\"pyvar\")"
   ]
  },
  {
   "cell_type": "markdown",
   "id": "718b1256",
   "metadata": {},
   "source": [
    "#### Conferir a nota\n",
    "Se obter um **correto**, confira se a nota foi atualizada:"
   ]
  },
  {
   "cell_type": "code",
   "execution_count": 16,
   "id": "769b5ee8",
   "metadata": {},
   "outputs": [
    {
     "data": {
      "text/markdown": [
       "|    | Atividade   | Exercício   |   Peso |   Nota |\n",
       "|---:|:------------|:------------|-------:|-------:|\n",
       "|  0 | sql_review1 | ex01        |      1 |     10 |\n",
       "|  1 | sql_review1 | ex02        |      1 |      0 |\n",
       "|  2 | sql_review1 | ex03        |      1 |      0 |\n",
       "|  3 | sql_review1 | ex04        |      1 |      0 |\n",
       "|  4 | sql_review1 | ex05        |      1 |      0 |\n",
       "|  5 | sql_review1 | ex06        |      1 |      0 |\n",
       "|  6 | sql_review1 | ex07        |      2 |      0 |\n",
       "|  7 | sql_review1 | ex08        |      3 |      0 |\n",
       "|  8 | sql_review1 | ex09        |      2 |      0 |\n",
       "|  9 | sql_review1 | ex10        |      1 |      0 |\n",
       "| 10 | sql_review1 | ex11        |      3 |      0 |\n",
       "| 11 | sql_review1 | ex12        |      3 |      0 |"
      ],
      "text/plain": [
       "<IPython.core.display.Markdown object>"
      ]
     },
     "metadata": {},
     "output_type": "display_data"
    }
   ],
   "source": [
    "ia.grades(task=\"sql_review1\")"
   ]
  },
  {
   "cell_type": "markdown",
   "id": "4799a2b3",
   "metadata": {},
   "source": [
    "**Exercício 2**: Crie uma query que retorne todos os países diferentes considerando os registros da tabela de consumidores. Ainda, retorne em ordem crescente pelo nome do país."
   ]
  },
  {
   "cell_type": "code",
   "execution_count": 17,
   "id": "3be41b9a",
   "metadata": {
    "scrolled": true
   },
   "outputs": [
    {
     "name": "stdout",
     "output_type": "stream",
     "text": [
      "Executando query:\n",
      "('Australia',)\n",
      "('Austria',)\n",
      "('Belgium',)\n",
      "('Canada',)\n",
      "('Denmark',)\n",
      "('Finland',)\n",
      "('France',)\n",
      "('Germany',)\n",
      "('Hong Kong',)\n",
      "('Ireland',)\n",
      "('Israel',)\n",
      "('Italy',)\n",
      "('Japan',)\n",
      "('Netherlands',)\n",
      "('New Zealand',)\n",
      "('Norway',)\n",
      "('Philippines',)\n",
      "('Poland',)\n",
      "('Portugal',)\n",
      "('Russia',)\n",
      "('Singapore',)\n",
      "('South Africa',)\n",
      "('Spain',)\n",
      "('Sweden',)\n",
      "('Switzerland',)\n",
      "('UK',)\n",
      "('USA',)\n"
     ]
    }
   ],
   "source": [
    "sql_ex02 = \"\"\"\n",
    "-- Sua query AQUI!\n",
    "SELECT DISTINCT country\n",
    "FROM customers\n",
    "ORDER BY country;\n",
    "\"\"\"\n",
    "\n",
    "db(sql_ex02)"
   ]
  },
  {
   "cell_type": "markdown",
   "id": "b5a7c345",
   "metadata": {},
   "source": [
    "Após testar localmente e considerar sua solução correta, faça o envio clicando no botão abaixo!"
   ]
  },
  {
   "cell_type": "code",
   "execution_count": 18,
   "id": "9046bc51",
   "metadata": {},
   "outputs": [
    {
     "data": {
      "application/vnd.jupyter.widget-view+json": {
       "model_id": "4965ce14c70b4cc1aca1da3a4ab91738",
       "version_major": 2,
       "version_minor": 0
      },
      "text/plain": [
       "interactive(children=(Button(description='Enviar ex02', style=ButtonStyle()), Output()), _dom_classes=('widget…"
      ]
     },
     "execution_count": 18,
     "metadata": {},
     "output_type": "execute_result"
    }
   ],
   "source": [
    "ia.sender(answer=\"sql_ex02\", task=\"sql_review1\", question=\"ex02\", answer_type=\"pyvar\")"
   ]
  },
  {
   "cell_type": "markdown",
   "id": "01da05ca",
   "metadata": {},
   "source": [
    "**Exercício 3**: Crie uma query que CONTE quantos são os países diferentes (sem repetição) considerando os registros da tabela de consumidores."
   ]
  },
  {
   "cell_type": "code",
   "execution_count": 19,
   "id": "261f49cb",
   "metadata": {
    "scrolled": true
   },
   "outputs": [
    {
     "name": "stdout",
     "output_type": "stream",
     "text": [
      "Executando query:\n",
      "(27,)\n"
     ]
    }
   ],
   "source": [
    "sql_ex03 = \"\"\"\n",
    "-- Sua query AQUI!\n",
    "SELECT COUNT(*)\n",
    "FROM\n",
    "(SELECT DISTINCT country\n",
    "FROM customers) as c;\n",
    "\"\"\"\n",
    "\n",
    "db(sql_ex03)"
   ]
  },
  {
   "cell_type": "markdown",
   "id": "7c1caa11",
   "metadata": {},
   "source": [
    "Após testar localmente e considerar sua solução correta, faça o envio clicando no botão abaixo!"
   ]
  },
  {
   "cell_type": "code",
   "execution_count": 20,
   "id": "9439ee14",
   "metadata": {},
   "outputs": [
    {
     "data": {
      "application/vnd.jupyter.widget-view+json": {
       "model_id": "83fd8703fb9349d0a53f52ab1defea8a",
       "version_major": 2,
       "version_minor": 0
      },
      "text/plain": [
       "interactive(children=(Button(description='Enviar ex03', style=ButtonStyle()), Output()), _dom_classes=('widget…"
      ]
     },
     "execution_count": 20,
     "metadata": {},
     "output_type": "execute_result"
    }
   ],
   "source": [
    "ia.sender(answer=\"sql_ex03\", task=\"sql_review1\", question=\"ex03\", answer_type=\"pyvar\")"
   ]
  },
  {
   "cell_type": "markdown",
   "id": "caeec0a6",
   "metadata": {},
   "source": [
    "**Exercício 4**: Crie uma query que retorne o **Nome do consumidor** e **telefone** de todos os consumidores que possuem a substring `Ltd` em seu nome. Ainda, retorne em ordem decrescente por nome."
   ]
  },
  {
   "cell_type": "code",
   "execution_count": 25,
   "id": "b757e995",
   "metadata": {
    "scrolled": true
   },
   "outputs": [
    {
     "name": "stdout",
     "output_type": "stream",
     "text": [
      "Executando query:\n",
      "('Vida Sport, Ltd', '0897-034555')\n",
      "('UK Collectables, Ltd.', '(171) 555-2282')\n",
      "('Toms Spezialitäten, Ltd', '0221-5554327')\n",
      "('Tokyo Collectables, Ltd', '+81 3 3584 0555')\n",
      "('Signal Collectibles Ltd.', '4155554312')\n",
      "('Royal Canadian Collectables, Ltd.', '(604) 555-4555')\n",
      "('Mini Gifts Distributors Ltd.', '4155551450')\n",
      "('Mini Creations Ltd.', '5085559555')\n",
      "(\"Men 'R' US Retailers, Ltd.\", '2155554369')\n",
      "('Extreme Desk Decorations, Ltd', '04 499 9555')\n",
      "('Dragon Souveniers, Ltd.', '+65 221 7555')\n",
      "('Double Decker Gift Stores, Ltd', '(171) 555-7555')\n",
      "('Cramer Spezialitäten, Ltd', '0555-09555')\n",
      "('Corrida Auto Replicas, Ltd', '(91) 555 22 82')\n",
      "('Australian Collectables, Ltd', '61-9-3844-6555')\n",
      "('Anton Designs, Ltd.', '+34 913 728555')\n",
      "(\"Anna's Decorations, Ltd\", '02 9936 8555')\n"
     ]
    }
   ],
   "source": [
    "sql_ex04 = \"\"\"\n",
    "-- Sua query AQUI!\n",
    "SELECT customerName, phone\n",
    "FROM customers\n",
    "WHERE customerName LIKE '%Ltd%'\n",
    "ORDER BY\n",
    "customerName DESC;\n",
    "\"\"\"\n",
    "\n",
    "db(sql_ex04)"
   ]
  },
  {
   "cell_type": "markdown",
   "id": "58d5f71f",
   "metadata": {},
   "source": [
    "Após testar localmente e considerar sua solução correta, faça o envio clicando no botão abaixo!"
   ]
  },
  {
   "cell_type": "code",
   "execution_count": 26,
   "id": "94416a57",
   "metadata": {},
   "outputs": [
    {
     "data": {
      "application/vnd.jupyter.widget-view+json": {
       "model_id": "caa36a2955b34778b9efbb2beac18742",
       "version_major": 2,
       "version_minor": 0
      },
      "text/plain": [
       "interactive(children=(Button(description='Enviar ex04', style=ButtonStyle()), Output()), _dom_classes=('widget…"
      ]
     },
     "execution_count": 26,
     "metadata": {},
     "output_type": "execute_result"
    }
   ],
   "source": [
    "ia.sender(answer=\"sql_ex04\", task=\"sql_review1\", question=\"ex04\", answer_type=\"pyvar\")"
   ]
  },
  {
   "cell_type": "markdown",
   "id": "a6cd4aa2",
   "metadata": {},
   "source": [
    "**Exercício 5**: Considerando os **produtos** e **categorias** cadastradas, crie uma query que retorne:\n",
    "- o **id** do produto\n",
    "- o **nome** do produto\n",
    "- o **id da categoria** do produto\n",
    "- a **descrição** da categoria cadastrada\n",
    "\n",
    "Restrições:\n",
    "- Ordene pelo **nome** do produto\n",
    "- Exiba apenas os primeiros `5` registros\n",
    "- Retorne as colunas na ordem requisitada\n",
    "- As três primeiras colunas deverão manter o mesmo nome dos campos na base. A quarta coluna (**descrição** da categoria cadastrada) deverá se chamar `productLineDescription`."
   ]
  },
  {
   "cell_type": "code",
   "execution_count": 27,
   "id": "191a5519",
   "metadata": {
    "scrolled": true
   },
   "outputs": [
    {
     "name": "stdout",
     "output_type": "stream",
     "text": [
      "Executando query:\n",
      "('S24_2011', '18th century schooner', 'Ships', 'The perfect holiday or anniversary gift for executives, clients, friends, and family. These handcrafted model ships are unique, stunning works of art that will be treasured for generations! They come fully assembled and ready for display in the home or office. We guarantee the highest quality, and best value.')\n",
      "('S18_3136', '18th Century Vintage Horse Carriage', 'Vintage Cars', 'Our Vintage Car models realistically portray automobiles produced from the early 1900s through the 1940s. Materials used include Bakelite, diecast, plastic and wood. Most of the replicas are in the 1:18 and 1:24 scale sizes, which provide the optimum in detail and accuracy. Prices range from $30.00 up to $180.00 for some special limited edition replicas. All models include a certificate of authenticity from their manufacturers and come fully assembled and ready for display in the home or office.')\n",
      "('S24_2841', '1900s Vintage Bi-Plane', 'Planes', 'Unique, diecast airplane and helicopter replicas suitable for collections, as well as home, office or classroom decorations. Models contain stunning details such as official logos and insignias, rotating jet engines and propellers, retractable wheels, and so on. Most come fully assembled and with a certificate of authenticity from their manufacturers.')\n",
      "('S24_4278', '1900s Vintage Tri-Plane', 'Planes', 'Unique, diecast airplane and helicopter replicas suitable for collections, as well as home, office or classroom decorations. Models contain stunning details such as official logos and insignias, rotating jet engines and propellers, retractable wheels, and so on. Most come fully assembled and with a certificate of authenticity from their manufacturers.')\n",
      "('S18_3140', '1903 Ford Model A', 'Vintage Cars', 'Our Vintage Car models realistically portray automobiles produced from the early 1900s through the 1940s. Materials used include Bakelite, diecast, plastic and wood. Most of the replicas are in the 1:18 and 1:24 scale sizes, which provide the optimum in detail and accuracy. Prices range from $30.00 up to $180.00 for some special limited edition replicas. All models include a certificate of authenticity from their manufacturers and come fully assembled and ready for display in the home or office.')\n"
     ]
    }
   ],
   "source": [
    "sql_ex05 = \"\"\"\n",
    "-- Sua query AQUI!\n",
    "\n",
    "SELECT p.productCode, p.productName, p.productLine, pl.textDescription AS productLineDescription\n",
    "FROM products as p\n",
    "INNER JOIN productlines as pl ON pl.productLine = p.productLine\n",
    "ORDER BY p.productName\n",
    "LIMIT 5;\n",
    "\"\"\"\n",
    "\n",
    "db(sql_ex05)"
   ]
  },
  {
   "cell_type": "markdown",
   "id": "5662f55d",
   "metadata": {},
   "source": [
    "Após testar localmente e considerar sua solução correta, faça o envio clicando no botão abaixo!"
   ]
  },
  {
   "cell_type": "code",
   "execution_count": 28,
   "id": "703369f2",
   "metadata": {},
   "outputs": [
    {
     "data": {
      "application/vnd.jupyter.widget-view+json": {
       "model_id": "ce7fe99608f140a18cbe7a952967ac6c",
       "version_major": 2,
       "version_minor": 0
      },
      "text/plain": [
       "interactive(children=(Button(description='Enviar ex05', style=ButtonStyle()), Output()), _dom_classes=('widget…"
      ]
     },
     "execution_count": 28,
     "metadata": {},
     "output_type": "execute_result"
    }
   ],
   "source": [
    "ia.sender(answer=\"sql_ex05\", task=\"sql_review1\", question=\"ex05\", answer_type=\"pyvar\")"
   ]
  },
  {
   "cell_type": "markdown",
   "id": "6e69bb3b",
   "metadata": {},
   "source": [
    "**Exercício 6**: Crie uma query que retorne o **código** e **nome** dos produtos sem nenhuma venda."
   ]
  },
  {
   "cell_type": "code",
   "execution_count": 29,
   "id": "930f6550",
   "metadata": {
    "scrolled": true
   },
   "outputs": [
    {
     "name": "stdout",
     "output_type": "stream",
     "text": [
      "Executando query:\n",
      "('S18_3233', '1985 Toyota Supra')\n"
     ]
    }
   ],
   "source": [
    "sql_ex06 = \"\"\"\n",
    "-- Sua query AQUI!\n",
    "SELECT p.productCode, p.productName\n",
    "FROM orderdetails as o\n",
    "RIGHT JOIN products as p ON p.productCode=o.productCode\n",
    "WHERE orderNumber IS NULL;\n",
    "\n",
    "\n",
    "\"\"\"\n",
    "\n",
    "db(sql_ex06)"
   ]
  },
  {
   "cell_type": "markdown",
   "id": "dcc8cc88",
   "metadata": {},
   "source": [
    "Após testar localmente e considerar sua solução correta, faça o envio clicando no botão abaixo!"
   ]
  },
  {
   "cell_type": "code",
   "execution_count": 30,
   "id": "8690469c",
   "metadata": {},
   "outputs": [
    {
     "data": {
      "application/vnd.jupyter.widget-view+json": {
       "model_id": "8cde4647379c4af9b3f9aee5ea80e341",
       "version_major": 2,
       "version_minor": 0
      },
      "text/plain": [
       "interactive(children=(Button(description='Enviar ex06', style=ButtonStyle()), Output()), _dom_classes=('widget…"
      ]
     },
     "execution_count": 30,
     "metadata": {},
     "output_type": "execute_result"
    }
   ],
   "source": [
    "ia.sender(answer=\"sql_ex06\", task=\"sql_review1\", question=\"ex06\", answer_type=\"pyvar\")"
   ]
  },
  {
   "cell_type": "markdown",
   "id": "3f97b901",
   "metadata": {},
   "source": [
    "**Exercício 7**: Crie uma query que retorne o **código**, **nome** e **total vendido** dos cinco produtos com maior valor total vendido.\n",
    "\n",
    "**Requisitos**:\n",
    "- As duas primeiras colunas devem seguir a mesma nomenclatura dos campos na tabela\n",
    "- A coluna com a informação do **total vendido** (valor) deve se chamar `totalOrdered`\n",
    "- Retorne em ordem decrescente por **total vendido**"
   ]
  },
  {
   "cell_type": "code",
   "execution_count": 31,
   "id": "724d965e",
   "metadata": {
    "scrolled": true
   },
   "outputs": [
    {
     "name": "stdout",
     "output_type": "stream",
     "text": [
      "Executando query:\n",
      "('S18_3232', '1992 Ferrari 360 Spider red', Decimal('276839.98'))\n",
      "('S12_1108', '2001 Ferrari Enzo', Decimal('190755.86'))\n",
      "('S10_1949', '1952 Alpine Renault 1300', Decimal('190017.96'))\n",
      "('S10_4698', '2003 Harley-Davidson Eagle Drag Bike', Decimal('170686.00'))\n",
      "('S12_1099', '1968 Ford Mustang', Decimal('161531.48'))\n"
     ]
    }
   ],
   "source": [
    "sql_ex07 = \"\"\"\n",
    "-- Sua query AQUI!\n",
    "SELECT vl.productCode, o.productName, SUM(vl.valor) AS totalOrdered\n",
    "FROM \n",
    "(SELECT o.productCode, o.priceEach * o.quantityOrdered as valor\n",
    "FROM orderdetails as o) AS vl\n",
    "INNER JOIN products as o ON vl.productCode = o.productCode\n",
    "GROUP BY vl.productCode\n",
    "ORDER BY totalOrdered DESC\n",
    "LIMIT 5;\n",
    "\"\"\"\n",
    "\n",
    "db(sql_ex07)"
   ]
  },
  {
   "cell_type": "markdown",
   "id": "acb3c6bb",
   "metadata": {},
   "source": [
    "Após testar localmente e considerar sua solução correta, faça o envio clicando no botão abaixo!"
   ]
  },
  {
   "cell_type": "code",
   "execution_count": 32,
   "id": "af7929e6",
   "metadata": {
    "scrolled": true
   },
   "outputs": [
    {
     "data": {
      "application/vnd.jupyter.widget-view+json": {
       "model_id": "6ee8a88c5ebe461f9a2f141d6f3bbabc",
       "version_major": 2,
       "version_minor": 0
      },
      "text/plain": [
       "interactive(children=(Button(description='Enviar ex07', style=ButtonStyle()), Output()), _dom_classes=('widget…"
      ]
     },
     "execution_count": 32,
     "metadata": {},
     "output_type": "execute_result"
    }
   ],
   "source": [
    "ia.sender(answer=\"sql_ex07\", task=\"sql_review1\", question=\"ex07\", answer_type=\"pyvar\")"
   ]
  },
  {
   "cell_type": "markdown",
   "id": "1b44f6e9",
   "metadata": {},
   "source": [
    "**Exercício 8**: Considere a descrição do exercício anterior, com a seguinte alteração:\n",
    "\n",
    "**Requisitos**:\n",
    "- Retorne em ordem **crescente** por **total vendido**"
   ]
  },
  {
   "cell_type": "code",
   "execution_count": 33,
   "id": "ba848805",
   "metadata": {
    "scrolled": true
   },
   "outputs": [
    {
     "name": "stdout",
     "output_type": "stream",
     "text": [
      "Executando query:\n",
      "('S12_1099', '1968 Ford Mustang', Decimal('161531.48'))\n",
      "('S10_4698', '2003 Harley-Davidson Eagle Drag Bike', Decimal('170686.00'))\n",
      "('S10_1949', '1952 Alpine Renault 1300', Decimal('190017.96'))\n",
      "('S12_1108', '2001 Ferrari Enzo', Decimal('190755.86'))\n",
      "('S18_3232', '1992 Ferrari 360 Spider red', Decimal('276839.98'))\n"
     ]
    }
   ],
   "source": [
    "sql_ex08 = \"\"\"\n",
    "-- Sua query AQUI!\n",
    "SELECT *\n",
    "FROM\n",
    "(SELECT vl.productCode, o.productName, SUM(vl.valor) AS totalOrdered\n",
    "FROM \n",
    "(SELECT o.productCode, o.priceEach * o.quantityOrdered as valor\n",
    "FROM orderdetails as o) AS vl\n",
    "INNER JOIN products as o ON vl.productCode = o.productCode\n",
    "GROUP BY vl.productCode\n",
    "ORDER BY totalOrdered DESC\n",
    "LIMIT 5) AS p\n",
    "ORDER BY p.totalOrdered;\n",
    "\"\"\"\n",
    "\n",
    "db(sql_ex08)"
   ]
  },
  {
   "cell_type": "markdown",
   "id": "17541fc5",
   "metadata": {},
   "source": [
    "Após testar localmente e considerar sua solução correta, faça o envio clicando no botão abaixo!"
   ]
  },
  {
   "cell_type": "code",
   "execution_count": 34,
   "id": "b52219b8",
   "metadata": {
    "scrolled": true
   },
   "outputs": [
    {
     "data": {
      "application/vnd.jupyter.widget-view+json": {
       "model_id": "e18cd1aa223c4c90872d8734ded85285",
       "version_major": 2,
       "version_minor": 0
      },
      "text/plain": [
       "interactive(children=(Button(description='Enviar ex08', style=ButtonStyle()), Output()), _dom_classes=('widget…"
      ]
     },
     "execution_count": 34,
     "metadata": {},
     "output_type": "execute_result"
    }
   ],
   "source": [
    "ia.sender(answer=\"sql_ex08\", task=\"sql_review1\", question=\"ex08\", answer_type=\"pyvar\")"
   ]
  },
  {
   "cell_type": "markdown",
   "id": "a3a9626f",
   "metadata": {},
   "source": [
    "**Exercício 9**: Crie uma query que retorne o **código**, **nome** e **total vendido** dos quatro produtos com **menor** valor total vendido.\n",
    "\n",
    "**Requisitos**:\n",
    "- As duas primeiras colunas devem seguir a mesma nomenclatura dos campos na tabela\n",
    "- A coluna com a informação do **total vendido** (valor) deve se chamar `totalOrdered`\n",
    "- Retorne em ordem crescente por **total vendido**\n",
    "- Se um produto não teve vendas, teve aparecer o valor `0.00`"
   ]
  },
  {
   "cell_type": "code",
   "execution_count": 45,
   "id": "fc356309",
   "metadata": {
    "scrolled": true
   },
   "outputs": [
    {
     "name": "stdout",
     "output_type": "stream",
     "text": [
      "Executando query:\n",
      "('S18_3233', '1985 Toyota Supra', Decimal('0.00'))\n",
      "('S24_1937', '1939 Chevrolet Deluxe Coupe', Decimal('28052.94'))\n",
      "('S24_3969', '1936 Mercedes Benz 500k Roadster', Decimal('29763.39'))\n",
      "('S24_2972', '1982 Lamborghini Diablo', Decimal('30972.87'))\n"
     ]
    }
   ],
   "source": [
    "sql_ex09 = \"\"\"\n",
    "-- Sua query AQUI!\n",
    "\n",
    "SELECT p.productCode, p.productName, IFNULL(p.totalOrdered, 0) AS totalOrdered\n",
    "FROM\n",
    "(SELECT o.productCode, o.productName, SUM(vl.valor) AS totalOrdered\n",
    "FROM \n",
    "(SELECT o.productCode, o.priceEach * o.quantityOrdered as valor\n",
    "FROM orderdetails as o) AS vl\n",
    "RIGHT JOIN products as o ON vl.productCode = o.productCode\n",
    "GROUP BY o.productCode\n",
    "ORDER BY totalOrdered\n",
    "LIMIT 4) as p;\n",
    "\"\"\"\n",
    "\n",
    "db(sql_ex09)"
   ]
  },
  {
   "cell_type": "markdown",
   "id": "d901e24e",
   "metadata": {},
   "source": [
    "Após testar localmente e considerar sua solução correta, faça o envio clicando no botão abaixo!"
   ]
  },
  {
   "cell_type": "code",
   "execution_count": 46,
   "id": "bb9cb9db",
   "metadata": {
    "scrolled": true
   },
   "outputs": [
    {
     "data": {
      "application/vnd.jupyter.widget-view+json": {
       "model_id": "95309fb28e724505b7aef684df4c8c44",
       "version_major": 2,
       "version_minor": 0
      },
      "text/plain": [
       "interactive(children=(Button(description='Enviar ex09', style=ButtonStyle()), Output()), _dom_classes=('widget…"
      ]
     },
     "execution_count": 46,
     "metadata": {},
     "output_type": "execute_result"
    }
   ],
   "source": [
    "ia.sender(answer=\"sql_ex09\", task=\"sql_review1\", question=\"ex09\", answer_type=\"pyvar\")"
   ]
  },
  {
   "cell_type": "markdown",
   "id": "e69de1ca",
   "metadata": {},
   "source": [
    "**Exercício 10**: Crie uma query que retorne o **código**, **nome** e **total vendido** dos  produtos com valor total vendido maior que 190.000,00 (cem mil).\n",
    "\n",
    "**Requisitos**:\n",
    "- As duas primeiras colunas devem seguir a mesma nomenclatura dos campos na tabela\n",
    "- A coluna com a informação do **total vendido** (valor) deve se chamar `totalOrdered`\n",
    "- Retorne em ordem **crescente** por **total vendido**"
   ]
  },
  {
   "cell_type": "code",
   "execution_count": 47,
   "id": "8f0710c4",
   "metadata": {
    "scrolled": true
   },
   "outputs": [
    {
     "name": "stdout",
     "output_type": "stream",
     "text": [
      "Executando query:\n",
      "('S10_1949', '1952 Alpine Renault 1300', Decimal('190017.96'))\n",
      "('S12_1108', '2001 Ferrari Enzo', Decimal('190755.86'))\n",
      "('S18_3232', '1992 Ferrari 360 Spider red', Decimal('276839.98'))\n"
     ]
    }
   ],
   "source": [
    "sql_ex10 = \"\"\"\n",
    "-- Sua query AQUI!\n",
    "SELECT *\n",
    "FROM\n",
    "(SELECT vl.productCode, o.productName, SUM(vl.valor) AS totalOrdered\n",
    "FROM \n",
    "(SELECT o.productCode, o.priceEach * o.quantityOrdered as valor\n",
    "FROM orderdetails as o) AS vl\n",
    "INNER JOIN products as o ON vl.productCode = o.productCode\n",
    "GROUP BY vl.productCode\n",
    "HAVING totalOrdered > 190000\n",
    "ORDER BY totalOrdered DESC) AS p\n",
    "ORDER BY p.totalOrdered;\n",
    "\"\"\"\n",
    "\n",
    "db(sql_ex10)"
   ]
  },
  {
   "cell_type": "markdown",
   "id": "974be964",
   "metadata": {},
   "source": [
    "Após testar localmente e considerar sua solução correta, faça o envio clicando no botão abaixo!"
   ]
  },
  {
   "cell_type": "code",
   "execution_count": 48,
   "id": "35c4948e",
   "metadata": {
    "scrolled": true
   },
   "outputs": [
    {
     "data": {
      "application/vnd.jupyter.widget-view+json": {
       "model_id": "2a761e5ec15b4a32aaa7bed0102a3085",
       "version_major": 2,
       "version_minor": 0
      },
      "text/plain": [
       "interactive(children=(Button(description='Enviar ex10', style=ButtonStyle()), Output()), _dom_classes=('widget…"
      ]
     },
     "execution_count": 48,
     "metadata": {},
     "output_type": "execute_result"
    }
   ],
   "source": [
    "ia.sender(answer=\"sql_ex10\", task=\"sql_review1\", question=\"ex10\", answer_type=\"pyvar\")"
   ]
  },
  {
   "cell_type": "markdown",
   "id": "0817444a",
   "metadata": {},
   "source": [
    "**Exercício 11**: Crie uma query que retorne o valor unitário médio dos produtos vendidos em cada mês de cada ano.\n",
    "\n",
    "Sua query deve retornar as colunas:\n",
    "- `ano`: valor inteiro que representa o ano. Ex: 2002, 2003, 2004\n",
    "- `mes`: valor inteiro que representa o mês. Ex: 1, 2, ..., 12\n",
    "- `productCode`: código do produto\n",
    "- `productName`: descrição do produto\n",
    "- `averagePrice`: preço médio unitário\n",
    "\n",
    "**Requisitos**:\n",
    "- Retorne apenas os dados de 2003 e 2004\n",
    "- Retorne apenas as informações do primeiro trimestre do ano\n",
    "- Retorne apenas os produtos com a substring `ford` no nome do produto\n",
    "- Produtos sem venda em algum mês ou sem vendas de forma geral não devem ser retornados\n",
    "- Ordene por múltiplos critérios, nesta ordem:\n",
    "    - `ano`\n",
    "    - `mes`\n",
    "    - `productName`\n",
    "    \n",
    "**Obs**:\n",
    "- Aqui, o valor médio unitário é por venda, desconsiderando a **quantidade** unitária do produto dentro da venda."
   ]
  },
  {
   "cell_type": "code",
   "execution_count": 13,
   "id": "97bcc859",
   "metadata": {},
   "outputs": [
    {
     "name": "stdout",
     "output_type": "stream",
     "text": [
      "Executando query:\n",
      "(2003, 1, 'S18_2248', '1911 Ford Town Car', Decimal('55.090000'))\n",
      "(2003, 1, 'S18_2949', '1913 Ford Model T Speedster', Decimal('92.190000'))\n",
      "(2003, 1, 'S18_2432', '1926 Ford Fire Engine', Decimal('58.340000'))\n",
      "(2003, 1, 'S18_2325', '1932 Model A Ford J-Coupe', Decimal('108.060000'))\n",
      "(2003, 1, 'S18_2957', '1934 Ford V8 Coupe', Decimal('61.840000'))\n",
      "(2003, 1, 'S18_1097', '1940 Ford Pickup Truck', Decimal('94.500000'))\n",
      "(2003, 1, 'S18_4600', '1940s Ford truck', Decimal('98.070000'))\n",
      "(2003, 2, 'S18_3140', '1903 Ford Model A', Decimal('136.590000'))\n",
      "(2003, 2, 'S24_3151', '1912 Ford Model T Delivery Wagon', Decimal('73.460000'))\n",
      "(2003, 2, 'S32_4289', '1928 Ford Phaeton Deluxe', Decimal('65.350000'))\n",
      "(2003, 2, 'S24_3816', '1940 Ford Delivery Sedan', Decimal('75.470000'))\n",
      "(2003, 2, 'S12_3891', '1969 Ford Falcon', Decimal('141.880000'))\n",
      "(2003, 3, 'S18_2248', '1911 Ford Town Car', Decimal('51.460000'))\n",
      "(2003, 3, 'S18_2949', '1913 Ford Model T Speedster', Decimal('85.100000'))\n",
      "(2003, 3, 'S18_2325', '1932 Model A Ford J-Coupe', Decimal('115.690000'))\n",
      "(2003, 3, 'S18_2957', '1934 Ford V8 Coupe', Decimal('53.090000'))\n",
      "(2003, 3, 'S18_1097', '1940 Ford Pickup Truck', Decimal('101.500000'))\n",
      "(2003, 3, 'S18_4933', '1957 Ford Thunderbird', Decimal('62.000000'))\n",
      "(2003, 3, 'S12_1099', '1968 Ford Mustang', Decimal('165.380000'))\n",
      "(2003, 3, 'S18_3482', '1976 Ford Gran Torino', Decimal('132.290000'))\n",
      "(2004, 1, 'S18_3140', '1903 Ford Model A', Decimal('117.470000'))\n",
      "(2004, 1, 'S18_2248', '1911 Ford Town Car', Decimal('53.280000'))\n",
      "(2004, 1, 'S24_3151', '1912 Ford Model T Delivery Wagon', Decimal('80.540000'))\n",
      "(2004, 1, 'S18_2949', '1913 Ford Model T Speedster', Decimal('97.260000'))\n",
      "(2004, 1, 'S32_4289', '1928 Ford Phaeton Deluxe', Decimal('57.100000'))\n",
      "(2004, 1, 'S18_2325', '1932 Model A Ford J-Coupe', Decimal('125.860000'))\n",
      "(2004, 1, 'S18_2957', '1934 Ford V8 Coupe', Decimal('56.210000'))\n",
      "(2004, 1, 'S24_3816', '1940 Ford Delivery Sedan', Decimal('79.670000'))\n",
      "(2004, 1, 'S18_1097', '1940 Ford Pickup Truck', Decimal('100.340000'))\n",
      "(2004, 1, 'S18_4933', '1957 Ford Thunderbird', Decimal('58.440000'))\n",
      "(2004, 1, 'S12_1099', '1968 Ford Mustang', Decimal('171.220000'))\n",
      "(2004, 1, 'S12_3891', '1969 Ford Falcon', Decimal('152.260000'))\n",
      "(2004, 1, 'S18_3482', '1976 Ford Gran Torino', Decimal('138.170000'))\n",
      "(2004, 2, 'S18_3140', '1903 Ford Model A', Decimal('133.860000'))\n",
      "(2004, 2, 'S24_3151', '1912 Ford Model T Delivery Wagon', Decimal('74.350000'))\n",
      "(2004, 2, 'S18_2432', '1926 Ford Fire Engine', Decimal('58.340000'))\n",
      "(2004, 2, 'S32_4289', '1928 Ford Phaeton Deluxe', Decimal('66.730000'))\n",
      "(2004, 2, 'S24_3816', '1940 Ford Delivery Sedan', Decimal('77.990000'))\n",
      "(2004, 2, 'S18_4600', '1940s Ford truck', Decimal('118.660000'))\n",
      "(2004, 2, 'S12_1099', '1968 Ford Mustang', Decimal('157.600000'))\n",
      "(2004, 2, 'S12_3891', '1969 Ford Falcon', Decimal('166.100000'))\n",
      "(2004, 2, 'S18_3482', '1976 Ford Gran Torino', Decimal('119.060000'))\n",
      "(2004, 3, 'S18_3140', '1903 Ford Model A', Decimal('133.860000'))\n",
      "(2004, 3, 'S18_2248', '1911 Ford Town Car', Decimal('59.930000'))\n",
      "(2004, 3, 'S24_3151', '1912 Ford Model T Delivery Wagon', Decimal('70.810000'))\n",
      "(2004, 3, 'S18_2949', '1913 Ford Model T Speedster', Decimal('101.310000'))\n",
      "(2004, 3, 'S18_2432', '1926 Ford Fire Engine', Decimal('53.480000'))\n",
      "(2004, 3, 'S18_2325', '1932 Model A Ford J-Coupe', Decimal('118.230000'))\n",
      "(2004, 3, 'S18_2957', '1934 Ford V8 Coupe', Decimal('57.460000'))\n",
      "(2004, 3, 'S24_3816', '1940 Ford Delivery Sedan', Decimal('78.830000'))\n",
      "(2004, 3, 'S18_1097', '1940 Ford Pickup Truck', Decimal('100.340000'))\n",
      "(2004, 3, 'S18_4600', '1940s Ford truck', Decimal('119.870000'))\n",
      "(2004, 3, 'S18_4933', '1957 Ford Thunderbird', Decimal('70.560000'))\n",
      "(2004, 3, 'S12_3891', '1969 Ford Falcon', Decimal('147.070000'))\n"
     ]
    }
   ],
   "source": [
    "sql_ex11 = \"\"\"\n",
    "-- Sua query AQUI!\n",
    "SELECT  YEAR(o.orderDate) as ano, MONTH(o.orderDate) as mes, od.productCode, p.productName, AVG(od.priceEach)\n",
    "FROM orders as o\n",
    "INNER JOIN orderdetails as od ON o.orderNumber = od.orderNumber\n",
    "INNER JOIN products as p ON p.productCode = od.productCode\n",
    "GROUP BY ano, mes, od.productCode\n",
    "HAVING ano >= 2003\n",
    "AND ano<=2004\n",
    "AND mes<=3\n",
    "AND productName LIKE '%ford%'\n",
    "ORDER BY\n",
    "ano, mes, productName;\n",
    "\"\"\"\n",
    "\n",
    "db(sql_ex11)"
   ]
  },
  {
   "cell_type": "markdown",
   "id": "dfd66349",
   "metadata": {},
   "source": [
    "Após testar localmente e considerar sua solução correta, faça o envio clicando no botão abaixo!"
   ]
  },
  {
   "cell_type": "code",
   "execution_count": 14,
   "id": "4e64ba76",
   "metadata": {
    "scrolled": true
   },
   "outputs": [
    {
     "data": {
      "application/vnd.jupyter.widget-view+json": {
       "model_id": "95b56913ffe74057ba1bd0934a3f0dd0",
       "version_major": 2,
       "version_minor": 0
      },
      "text/plain": [
       "interactive(children=(Button(description='Enviar ex11', style=ButtonStyle()), Output()), _dom_classes=('widget…"
      ]
     },
     "execution_count": 14,
     "metadata": {},
     "output_type": "execute_result"
    }
   ],
   "source": [
    "ia.sender(answer=\"sql_ex11\", task=\"sql_review1\", question=\"ex11\", answer_type=\"pyvar\")"
   ]
  },
  {
   "cell_type": "markdown",
   "id": "870f6804",
   "metadata": {},
   "source": [
    "**Exercício 12**: Crie uma query que crie uma tabela temporária `salesproductlines` contendo informações sobre o quanto a empresa deixou de ganhar devido a vendas **canceladas**. A informação deve estar agrupada por **linha de produto** (tabela `productlines`).\n",
    "\n",
    "Sua query deve retornar as colunas:\n",
    "- `productLine`: texto com a linha do produto\n",
    "- `qtProductCode`: quantos produtos diferentes da linha de produto deixaram de ser vendidos\n",
    "- `qtTotalOrdered`: total de quantas unidades deixaram de ser vendidas\n",
    "- `totalLost`: faturamento perdido, considerando o valor unitário na venda e quantas unidades do produto estavam para ser vendidas\n",
    "\n",
    "**Requisitos**:\n",
    "- Linhas de produtos sem vendas devem ser retornadas com quantidade `0` e valores `0.00`\n",
    "- Ordene por `totalLost` de forma decrescente"
   ]
  },
  {
   "cell_type": "code",
   "execution_count": 23,
   "id": "e6c1240a",
   "metadata": {},
   "outputs": [
    {
     "name": "stdout",
     "output_type": "stream",
     "text": [
      "Executando query:\n"
     ]
    }
   ],
   "source": [
    "db(\"\"\"\n",
    "DROP TABLE IF EXISTS salesproductlines\n",
    "\"\"\")"
   ]
  },
  {
   "cell_type": "code",
   "execution_count": 24,
   "id": "08574dce",
   "metadata": {},
   "outputs": [
    {
     "name": "stdout",
     "output_type": "stream",
     "text": [
      "Executando query:\n"
     ]
    }
   ],
   "source": [
    "sql_ex12 = \"\"\"\n",
    "-- Sua query AQUI!\n",
    "CREATE TEMPORARY TABLE salesproductlines\n",
    "SELECT pl.productLine, IFNULL(po.qtProductCode, 0) as qtProductCode, IFNULL(po.qtTotalOrdered, 0) as qtTotalOrdered, IFNULL(po.totalLost, 0) as totalLost\n",
    "FROM productlines as pl\n",
    "LEFT JOIN (\n",
    "\t\t\tSELECT po.productLine, COUNT(po.productCode) as qtProductCode, SUM(po.qtTotalOrdered) as qtTotalOrdered, SUM(po.totalLost) as totalLost\n",
    "            FROM (\n",
    "\t\t\t\t\t\tSELECT po.productLine, po.productCode, SUM(po.quantityOrdered) as qtTotalOrdered, SUM(po.valor_pedido) as totalLost\n",
    "\t\t\t\t\t\tFROM (\n",
    "\t\t\t\t\t\t\t\t\tSELECT o.orderNumber, od.productCode, p.productLine, od.quantityOrdered, od.priceEach, od.quantityOrdered * od.priceEach as valor_pedido\n",
    "\t\t\t\t\t\t\t\t\tFROM orders as o\n",
    "\t\t\t\t\t\t\t\t\tINNER JOIN orderdetails as od ON o.orderNumber = od.orderNumber\n",
    "\t\t\t\t\t\t\t\t\tINNER JOIN products as p ON p.productCode = od.productCode\n",
    "\t\t\t\t\t\t\t\t\tWHERE o.status = 'Cancelled'\n",
    "\t\t\t\t\t\t) as po\n",
    "\t\t\t\t\t\tGROUP BY po.productLine, po.productCode\n",
    "            ) as po\n",
    "            GROUP BY po.productLine\n",
    ") as po ON pl.productLine = po.productLine\n",
    "ORDER BY totalLost DESC;\n",
    "\"\"\"\n",
    "\n",
    "db(sql_ex12)"
   ]
  },
  {
   "cell_type": "markdown",
   "id": "4026d5c2",
   "metadata": {},
   "source": [
    "Após testar localmente e considerar sua solução correta, faça o envio clicando no botão abaixo!"
   ]
  },
  {
   "cell_type": "code",
   "execution_count": 25,
   "id": "397dce73",
   "metadata": {},
   "outputs": [
    {
     "data": {
      "application/vnd.jupyter.widget-view+json": {
       "model_id": "ccfcd216b1184987833018dd8801f4cf",
       "version_major": 2,
       "version_minor": 0
      },
      "text/plain": [
       "interactive(children=(Button(description='Enviar ex12', style=ButtonStyle()), Output()), _dom_classes=('widget…"
      ]
     },
     "execution_count": 25,
     "metadata": {},
     "output_type": "execute_result"
    }
   ],
   "source": [
    "ia.sender(answer=\"sql_ex12\", task=\"sql_review1\", question=\"ex12\", answer_type=\"pyvar\")"
   ]
  },
  {
   "cell_type": "markdown",
   "id": "a82a9b6e",
   "metadata": {},
   "source": [
    "### Conferindo as Notas\n",
    "\n",
    "Conferindo as Notas em cada exercício de **todas** as atividades disponíveis:"
   ]
  },
  {
   "cell_type": "markdown",
   "id": "46cedc17",
   "metadata": {},
   "source": [
    "Podemos filtrar por uma atividade:"
   ]
  },
  {
   "cell_type": "code",
   "execution_count": 26,
   "id": "86ad5ea7",
   "metadata": {},
   "outputs": [
    {
     "data": {
      "text/markdown": [
       "|    | Atividade   | Exercício   |   Peso |   Nota |\n",
       "|---:|:------------|:------------|-------:|-------:|\n",
       "|  0 | sql_review1 | ex01        |      1 |     10 |\n",
       "|  1 | sql_review1 | ex02        |      1 |     10 |\n",
       "|  2 | sql_review1 | ex03        |      1 |     10 |\n",
       "|  3 | sql_review1 | ex04        |      1 |     10 |\n",
       "|  4 | sql_review1 | ex05        |      1 |     10 |\n",
       "|  5 | sql_review1 | ex06        |      1 |     10 |\n",
       "|  6 | sql_review1 | ex07        |      2 |     10 |\n",
       "|  7 | sql_review1 | ex08        |      3 |     10 |\n",
       "|  8 | sql_review1 | ex09        |      2 |     10 |\n",
       "|  9 | sql_review1 | ex10        |      1 |     10 |\n",
       "| 10 | sql_review1 | ex11        |      3 |     10 |\n",
       "| 11 | sql_review1 | ex12        |      3 |     10 |"
      ],
      "text/plain": [
       "<IPython.core.display.Markdown object>"
      ]
     },
     "metadata": {},
     "output_type": "display_data"
    }
   ],
   "source": [
    "ia.grades(task=\"sql_review1\")"
   ]
  },
  {
   "cell_type": "markdown",
   "id": "d8f403ad",
   "metadata": {},
   "source": [
    "Nota por atividade (tarefa):"
   ]
  },
  {
   "cell_type": "code",
   "execution_count": 51,
   "id": "fdcdd52b",
   "metadata": {},
   "outputs": [
    {
     "data": {
      "text/markdown": [
       "|    | Tarefa       |   Nota |\n",
       "|---:|:-------------|-------:|\n",
       "|  0 | agg_join     |  10    |\n",
       "|  1 | ddl          |  10    |\n",
       "|  2 | dml          |  10    |\n",
       "|  3 | group_having |  10    |\n",
       "|  4 | newborn      |  10    |\n",
       "|  5 | select01     |  10    |\n",
       "|  6 | sql_review1  |   7    |\n",
       "|  7 | views        |   8.33 |"
      ],
      "text/plain": [
       "<IPython.core.display.Markdown object>"
      ]
     },
     "metadata": {},
     "output_type": "display_data"
    }
   ],
   "source": [
    "ia.grades(by=\"TASK\")"
   ]
  },
  {
   "cell_type": "markdown",
   "id": "14c242fb",
   "metadata": {},
   "source": [
    "Podendo filtrar apenas uma atividade:"
   ]
  },
  {
   "cell_type": "code",
   "execution_count": 6,
   "id": "e5f92f57",
   "metadata": {},
   "outputs": [
    {
     "data": {
      "text/markdown": [
       "|    | Tarefa      |   Nota |\n",
       "|---:|:------------|-------:|\n",
       "|  0 | sql_review1 |    8.5 |"
      ],
      "text/plain": [
       "<IPython.core.display.Markdown object>"
      ]
     },
     "metadata": {},
     "output_type": "display_data"
    }
   ],
   "source": [
    "ia.grades(by=\"TASK\", task=\"sql_review1\")"
   ]
  },
  {
   "cell_type": "code",
   "execution_count": null,
   "id": "1d7f0840",
   "metadata": {},
   "outputs": [],
   "source": []
  }
 ],
 "metadata": {
  "kernelspec": {
   "display_name": "Python 3 (ipykernel)",
   "language": "python",
   "name": "python3"
  },
  "language_info": {
   "codemirror_mode": {
    "name": "ipython",
    "version": 3
   },
   "file_extension": ".py",
   "mimetype": "text/x-python",
   "name": "python",
   "nbconvert_exporter": "python",
   "pygments_lexer": "ipython3",
   "version": "3.11.7"
  }
 },
 "nbformat": 4,
 "nbformat_minor": 5
}
