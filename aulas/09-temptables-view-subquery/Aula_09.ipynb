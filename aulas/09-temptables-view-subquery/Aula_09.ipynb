{
 "cells": [
  {
   "cell_type": "markdown",
   "metadata": {},
   "source": [
    "# Mais sobre `SELECT`\n",
    "\n",
    "- temporary tables\n",
    "- views\n",
    "- variables\n",
    "- subqueries\n"
   ]
  },
  {
   "cell_type": "code",
   "execution_count": 1,
   "metadata": {},
   "outputs": [],
   "source": [
    "from functools import partial\n",
    "from dotenv import load_dotenv\n",
    "import insperautograder.jupyter as ia\n",
    "import mysql.connector\n",
    "import os\n",
    "\n",
    "load_dotenv(override=True)\n",
    "\n",
    "connection = mysql.connector.connect(\n",
    "    host=os.getenv(\"MD_DB_SERVER\"),\n",
    "    user=os.getenv(\"MD_DB_USERNAME\"),\n",
    "    password=os.getenv(\"MD_DB_PASSWORD\"),\n",
    "    database=\"sakila\"\n",
    ")\n",
    "\n",
    "def run_db_query(connection, query, args=None):\n",
    "    with connection.cursor() as cursor:\n",
    "        print(\"Executando query:\")\n",
    "        cursor.execute(query, args)\n",
    "        for result in cursor:\n",
    "            print(result)\n",
    "\n",
    "db = partial(run_db_query, connection)"
   ]
  },
  {
   "cell_type": "markdown",
   "metadata": {},
   "source": [
    "## Exercícios para entrega\n",
    "\n",
    "Esta aula tem atividade para entrega, confira os prazos e exercícios"
   ]
  },
  {
   "cell_type": "code",
   "execution_count": 2,
   "metadata": {},
   "outputs": [
    {
     "data": {
      "text/markdown": [
       "|    | Atividade    | De                        | Até                       |\n",
       "|---:|:-------------|:--------------------------|:--------------------------|\n",
       "|  0 | newborn      | 2024-02-01 03:00:00+00:00 | 2024-05-30 03:00:00+00:00 |\n",
       "|  1 | select01     | 2024-02-08 03:00:00+00:00 | 2024-02-19 02:59:59+00:00 |\n",
       "|  2 | ddl          | 2024-02-22 03:00:00+00:00 | 2024-02-27 02:59:59+00:00 |\n",
       "|  3 | dml          | 2024-02-26 03:00:00+00:00 | 2024-03-03 02:59:59+00:00 |\n",
       "|  4 | views        | 2024-02-29 03:00:00+00:00 | 2024-03-16 02:59:59+00:00 |\n",
       "|  5 | group_having | 2024-02-29 03:00:00+00:00 | 2024-03-08 03:00:00+00:00 |\n",
       "|  6 | agg_join     | 2024-02-29 03:00:00+00:00 | 2024-03-05 02:59:59+00:00 |"
      ],
      "text/plain": [
       "<IPython.core.display.Markdown object>"
      ]
     },
     "metadata": {},
     "output_type": "display_data"
    }
   ],
   "source": [
    "ia.tasks()"
   ]
  },
  {
   "cell_type": "code",
   "execution_count": 3,
   "metadata": {},
   "outputs": [
    {
     "data": {
      "text/markdown": [
       "|    | Tarefa       |   Nota |\n",
       "|---:|:-------------|-------:|\n",
       "|  0 | agg_join     |   10   |\n",
       "|  1 | ddl          |   10   |\n",
       "|  2 | dml          |    0   |\n",
       "|  3 | group_having |    0   |\n",
       "|  4 | newborn      |   10   |\n",
       "|  5 | select01     |   10   |\n",
       "|  6 | views        |    2.5 |"
      ],
      "text/plain": [
       "<IPython.core.display.Markdown object>"
      ]
     },
     "metadata": {},
     "output_type": "display_data"
    }
   ],
   "source": [
    "ia.grades(by=\"task\")"
   ]
  },
  {
   "cell_type": "code",
   "execution_count": 4,
   "metadata": {},
   "outputs": [
    {
     "data": {
      "text/markdown": [
       "|    | Atividade   | Exercício   |   Peso |   Nota |\n",
       "|---:|:------------|:------------|-------:|-------:|\n",
       "|  0 | views       | ex01        |      1 |     10 |\n",
       "|  1 | views       | ex02        |      1 |     10 |\n",
       "|  2 | views       | ex03        |      1 |     10 |\n",
       "|  3 | views       | ex04        |      1 |      0 |\n",
       "|  4 | views       | ex05        |      1 |      0 |\n",
       "|  5 | views       | ex06        |      1 |      0 |\n",
       "|  6 | views       | ex07        |      1 |      0 |\n",
       "|  7 | views       | ex08        |      1 |      0 |\n",
       "|  8 | views       | ex09        |      1 |      0 |\n",
       "|  9 | views       | ex10        |      1 |      0 |\n",
       "| 10 | views       | ex11        |      1 |      0 |\n",
       "| 11 | views       | ex12        |      1 |      0 |"
      ],
      "text/plain": [
       "<IPython.core.display.Markdown object>"
      ]
     },
     "metadata": {},
     "output_type": "display_data"
    }
   ],
   "source": [
    "ia.grades(task=\"views\")"
   ]
  },
  {
   "cell_type": "markdown",
   "metadata": {},
   "source": [
    "## Aquecimento"
   ]
  },
  {
   "cell_type": "markdown",
   "metadata": {},
   "source": [
    "Quanta receita foi gerada para cada categoria de filmes? Mostre o nome da categoria e a receita. Ordene da maior receita para para a menor."
   ]
  },
  {
   "cell_type": "code",
   "execution_count": 5,
   "metadata": {},
   "outputs": [
    {
     "name": "stdout",
     "output_type": "stream",
     "text": [
      "Executando query:\n",
      "('Sports', Decimal('5314.21'))\n",
      "('Sci-Fi', Decimal('4756.98'))\n",
      "('Animation', Decimal('4656.30'))\n",
      "('Drama', Decimal('4587.39'))\n",
      "('Comedy', Decimal('4383.58'))\n",
      "('Action', Decimal('4375.85'))\n",
      "('New', Decimal('4351.62'))\n",
      "('Games', Decimal('4281.33'))\n",
      "('Foreign', Decimal('4270.67'))\n",
      "('Family', Decimal('4226.07'))\n",
      "('Documentary', Decimal('4217.52'))\n",
      "('Horror', Decimal('3722.54'))\n",
      "('Children', Decimal('3655.55'))\n",
      "('Classics', Decimal('3639.59'))\n",
      "('Travel', Decimal('3549.64'))\n",
      "('Music', Decimal('3417.72'))\n"
     ]
    }
   ],
   "source": [
    "sql_ex01 = \"\"\"\n",
    "SELECT category.name AS Categoria, \n",
    "SUM(payment.amount) AS Receita\n",
    "FROM category\n",
    "JOIN film_category ON category.category_id = film_category.category_id\n",
    "JOIN film ON film_category.film_id = film.film_id\n",
    "JOIN inventory ON film.film_id = inventory.film_id\n",
    "JOIN rental ON inventory.inventory_id = rental.inventory_id\n",
    "JOIN payment ON rental.rental_id = payment.rental_id\n",
    "GROUP BY category.name\n",
    "ORDER BY Receita DESC;\n",
    "\"\"\"\n",
    "\n",
    "\n",
    "db(sql_ex01)"
   ]
  },
  {
   "cell_type": "code",
   "execution_count": 6,
   "metadata": {},
   "outputs": [
    {
     "data": {
      "application/vnd.jupyter.widget-view+json": {
       "model_id": "a59cc96cf6814ec1b83086026b380211",
       "version_major": 2,
       "version_minor": 0
      },
      "text/plain": [
       "interactive(children=(Button(description='Enviar ex01', style=ButtonStyle()), Output()), _dom_classes=('widget…"
      ]
     },
     "metadata": {},
     "output_type": "display_data"
    }
   ],
   "source": [
    "ia.sender(answer=\"sql_ex01\", task=\"views\", question=\"ex01\", answer_type=\"pyvar\")"
   ]
  },
  {
   "cell_type": "markdown",
   "metadata": {},
   "source": [
    "Liste os 10 filmes mais alugados e o numero de vezes em que foram alugados. Ordene do mais alugado para o menos alugado."
   ]
  },
  {
   "cell_type": "code",
   "execution_count": 7,
   "metadata": {},
   "outputs": [
    {
     "name": "stdout",
     "output_type": "stream",
     "text": [
      "Executando query:\n",
      "('BUCKET BROTHERHOOD', 34)\n",
      "('ROCKETEER MOTHER', 33)\n",
      "('RIDGEMONT SUBMARINE', 32)\n",
      "('GRIT CLOCKWORK', 32)\n",
      "('SCALAWAG DUCK', 32)\n",
      "('JUGGLER HARDLY', 32)\n",
      "('FORWARD TEMPLE', 32)\n",
      "('HOBBIT ALIEN', 31)\n",
      "('ROBBERS JOON', 31)\n",
      "('ZORRO ARK', 31)\n"
     ]
    }
   ],
   "source": [
    "sql_ex02 = \"\"\"\n",
    "SELECT film.title AS Titulo, \n",
    "COUNT(rental.rental_id) AS Numero_de_Alugueis\n",
    "FROM film\n",
    "JOIN inventory ON film.film_id = inventory.film_id\n",
    "JOIN rental ON inventory.inventory_id = rental.inventory_id\n",
    "GROUP BY film.title\n",
    "ORDER BY Numero_de_Alugueis DESC\n",
    "LIMIT 10;\n",
    "\n",
    "\"\"\"\n",
    "\n",
    "db(sql_ex02)"
   ]
  },
  {
   "cell_type": "code",
   "execution_count": 8,
   "metadata": {},
   "outputs": [
    {
     "data": {
      "application/vnd.jupyter.widget-view+json": {
       "model_id": "5221e7ad8d6b41ffa9a22f60936aa256",
       "version_major": 2,
       "version_minor": 0
      },
      "text/plain": [
       "interactive(children=(Button(description='Enviar ex02', style=ButtonStyle()), Output()), _dom_classes=('widget…"
      ]
     },
     "metadata": {},
     "output_type": "display_data"
    }
   ],
   "source": [
    "ia.sender(answer=\"sql_ex02\", task=\"views\", question=\"ex02\", answer_type=\"pyvar\")"
   ]
  },
  {
   "cell_type": "markdown",
   "metadata": {},
   "source": [
    "**DESAFIO:** Liste os filmes e o numero de vezes em que foram alugados apenas para filmes que foram alugados mais do que a média de numero de alugueis por filme. *Dica*: Serão necessários múltiplos SELECTs. Faça cada um em uma célula diferente."
   ]
  },
  {
   "cell_type": "code",
   "execution_count": 9,
   "metadata": {},
   "outputs": [
    {
     "name": "stdout",
     "output_type": "stream",
     "text": [
      "Executando query:\n",
      "(Decimal('16.7474'),)\n",
      "Executando query:\n",
      "(1, 'ACADEMY DINOSAUR', 23)\n",
      "(2, 'ACE GOLDFINGER', 7)\n",
      "(3, 'ADAPTATION HOLES', 12)\n",
      "(4, 'AFFAIR PREJUDICE', 23)\n",
      "(5, 'AFRICAN EGG', 12)\n",
      "(6, 'AGENT TRUMAN', 21)\n",
      "(7, 'AIRPLANE SIERRA', 15)\n",
      "(8, 'AIRPORT POLLOCK', 18)\n",
      "(9, 'ALABAMA DEVIL', 12)\n",
      "(10, 'ALADDIN CALENDAR', 23)\n",
      "(11, 'ALAMO VIDEOTAPE', 24)\n",
      "(12, 'ALASKA PHANTOM', 26)\n",
      "(13, 'ALI FOREVER', 9)\n",
      "(15, 'ALIEN CENTER', 22)\n",
      "(16, 'ALLEY EVOLUTION', 14)\n",
      "(17, 'ALONE TRIP', 18)\n",
      "(18, 'ALTER VICTORY', 22)\n",
      "(19, 'AMADEUS HOLY', 21)\n",
      "(20, 'AMELIE HELLFIGHTERS', 10)\n",
      "(21, 'AMERICAN CIRCUS', 22)\n",
      "(22, 'AMISTAD MIDSUMMER', 21)\n",
      "(23, 'ANACONDA CONFESSIONS', 21)\n",
      "(24, 'ANALYZE HOOSIERS', 14)\n",
      "(25, 'ANGELS LIFE', 22)\n",
      "(26, 'ANNIE IDENTITY', 22)\n",
      "(27, 'ANONYMOUS HUMAN', 13)\n",
      "(28, 'ANTHEM LUKE', 15)\n",
      "(29, 'ANTITRUST TOMATOES', 10)\n",
      "(30, 'ANYTHING SAVANNAH', 9)\n",
      "(31, 'APACHE DIVINE', 31)\n",
      "(32, 'APOCALYPSE FLAMINGOS', 6)\n",
      "(34, 'ARABIA DOGMA', 13)\n",
      "(35, 'ARACHNOPHOBIA ROLLERCOASTER', 24)\n",
      "(37, 'ARIZONA BANG', 21)\n",
      "(39, 'ARMAGEDDON LOST', 21)\n",
      "(40, 'ARMY FLINTSTONES', 16)\n",
      "(42, 'ARTIST COLDBLOODED', 16)\n",
      "(43, 'ATLANTIS CAUSE', 24)\n",
      "(44, 'ATTACKS HATE', 16)\n",
      "(45, 'ATTRACTION NEWTON', 24)\n",
      "(46, 'AUTUMN CROW', 11)\n",
      "(47, 'BABY HALL', 8)\n",
      "(48, 'BACKLASH UNDEFEATED', 19)\n",
      "(49, 'BADMAN DAWN', 21)\n",
      "(50, 'BAKED CLEOPATRA', 16)\n",
      "(51, 'BALLOON HOMEWARD', 23)\n",
      "(52, 'BALLROOM MOCKINGBIRD', 8)\n",
      "(53, 'BANG KWAI', 7)\n",
      "(54, 'BANGER PINOCCHIO', 22)\n",
      "(55, 'BARBARELLA STREETCAR', 25)\n",
      "(56, 'BAREFOOT MANCHURIAN', 18)\n",
      "(57, 'BASIC EASY', 21)\n",
      "(58, 'BEACH HEARTBREAKERS', 17)\n",
      "(59, 'BEAR GRACELAND', 22)\n",
      "(60, 'BEAST HUNCHBACK', 11)\n",
      "(61, 'BEAUTY GREASE', 22)\n",
      "(62, 'BED HIGHBALL', 6)\n",
      "(63, 'BEDAZZLED MARRIED', 13)\n",
      "(64, 'BEETHOVEN EXORCIST', 11)\n",
      "(65, 'BEHAVIOR RUNAWAY', 13)\n",
      "(66, 'BENEATH RUSH', 10)\n",
      "(67, 'BERETS AGENT', 21)\n",
      "(68, 'BETRAYED REAR', 15)\n",
      "(69, 'BEVERLY OUTLAW', 21)\n",
      "(70, 'BIKINI BORROWERS', 17)\n",
      "(71, 'BILKO ANONYMOUS', 13)\n",
      "(72, 'BILL OTHERS', 19)\n",
      "(73, 'BINGO TALENTED', 29)\n",
      "(74, 'BIRCH ANTITRUST', 11)\n",
      "(75, 'BIRD INDEPENDENCE', 11)\n",
      "(76, 'BIRDCAGE CASPER', 9)\n",
      "(77, 'BIRDS PERDITION', 18)\n",
      "(78, 'BLACKOUT PRIVATE', 27)\n",
      "(79, 'BLADE POLISH', 22)\n",
      "(80, 'BLANKET BEVERLY', 12)\n",
      "(81, 'BLINDNESS GUN', 14)\n",
      "(82, 'BLOOD ARGONAUTS', 10)\n",
      "(83, 'BLUES INSTINCT', 21)\n",
      "(84, 'BOILED DARES', 15)\n",
      "(85, 'BONNIE HOLOCAUST', 16)\n",
      "(86, 'BOOGIE AMELIE', 29)\n",
      "(88, 'BORN SPINAL', 12)\n",
      "(89, 'BORROWERS BEDAZZLED', 22)\n",
      "(90, 'BOULEVARD MOB', 18)\n",
      "(91, 'BOUND CHEAPER', 24)\n",
      "(92, 'BOWFINGER GABLES', 11)\n",
      "(93, 'BRANNIGAN SUNRISE', 12)\n",
      "(94, 'BRAVEHEART HUMAN', 5)\n",
      "(95, 'BREAKFAST GOLDFINGER', 17)\n",
      "(96, 'BREAKING HOME', 13)\n",
      "(97, 'BRIDE INTRIGUE', 19)\n",
      "(98, 'BRIGHT ENCOUNTERS', 13)\n",
      "(99, 'BRINGING HYSTERICAL', 20)\n",
      "(100, 'BROOKLYN DESERT', 21)\n",
      "(101, 'BROTHERHOOD BLANKET', 26)\n",
      "(102, 'BUBBLE GROSSE', 6)\n",
      "(103, 'BUCKET BROTHERHOOD', 34)\n",
      "(104, 'BUGSY SONG', 11)\n",
      "(105, 'BULL SHAWSHANK', 16)\n",
      "(106, 'BULWORTH COMMANDMENTS', 7)\n",
      "(107, 'BUNCH MINDS', 5)\n",
      "(109, 'BUTTERFLY CHOCOLAT', 30)\n",
      "(110, 'CABIN FLASH', 15)\n",
      "(111, 'CADDYSHACK JEDI', 16)\n",
      "(112, 'CALENDAR GUNFIGHT', 21)\n",
      "(113, 'CALIFORNIA BIRDS', 12)\n",
      "(114, 'CAMELOT VACATION', 27)\n",
      "(115, 'CAMPUS REMEMBER', 19)\n",
      "(116, 'CANDIDATE PERDITION', 18)\n",
      "(117, 'CANDLES GRAPES', 23)\n",
      "(118, 'CANYON STOCK', 19)\n",
      "(119, 'CAPER MOTIONS', 24)\n",
      "(120, 'CARIBBEAN LIBERTY', 9)\n",
      "(121, 'CAROL TEXAS', 18)\n",
      "(122, 'CARRIE BUNCH', 23)\n",
      "(123, 'CASABLANCA SUPER', 16)\n",
      "(124, 'CASPER DRAGONFLY', 8)\n",
      "(125, 'CASSIDY WYOMING', 6)\n",
      "(126, 'CASUALTIES ENCINO', 9)\n",
      "(127, 'CAT CONEHEADS', 30)\n",
      "(129, 'CAUSE DATE', 21)\n",
      "(130, 'CELEBRITY HORN', 24)\n",
      "(131, 'CENTER DINOSAUR', 24)\n",
      "(132, 'CHAINSAW UPTOWN', 21)\n",
      "(133, 'CHAMBER ITALIAN', 13)\n",
      "(134, 'CHAMPION FLATLINERS', 13)\n",
      "(135, 'CHANCE RESURRECTION', 27)\n",
      "(136, 'CHAPLIN LICENSE', 8)\n",
      "(137, 'CHARADE DUFFEL', 15)\n",
      "(138, 'CHARIOTS CONSPIRACY', 21)\n",
      "(139, 'CHASING FIGHT', 20)\n",
      "(140, 'CHEAPER CLYDE', 20)\n",
      "(141, 'CHICAGO NORTH', 16)\n",
      "(142, 'CHICKEN HELLFIGHTERS', 22)\n",
      "(143, 'CHILL LUCK', 22)\n",
      "(145, 'CHISUM BEHAVIOR', 13)\n",
      "(146, 'CHITTY LOCK', 8)\n",
      "(147, 'CHOCOLAT HARRY', 20)\n",
      "(149, 'CHRISTMAS MOONSHINE', 21)\n",
      "(150, 'CIDER DESIRE', 19)\n",
      "(151, 'CINCINATTI WHISPERER', 13)\n",
      "(152, 'CIRCUS YOUTH', 15)\n",
      "(153, 'CITIZEN SHREK', 13)\n",
      "(154, 'CLASH FREDDY', 25)\n",
      "(155, 'CLEOPATRA DEVIL', 18)\n",
      "(156, 'CLERKS ANGELS', 7)\n",
      "(157, 'CLOCKWORK PARADISE', 10)\n",
      "(158, 'CLONES PINOCCHIO', 19)\n",
      "(159, 'CLOSER BANG', 28)\n",
      "(160, 'CLUB GRAFFITI', 19)\n",
      "(161, 'CLUE GRAIL', 7)\n",
      "(162, 'CLUELESS BUCKET', 25)\n",
      "(163, 'CLYDE THEORY', 8)\n",
      "(164, 'COAST RAINBOW', 21)\n",
      "(165, 'COLDBLOODED DARLING', 16)\n",
      "(166, 'COLOR PHILADELPHIA', 24)\n",
      "(167, 'COMA HEAD', 26)\n",
      "(168, 'COMANCHEROS ENEMY', 6)\n",
      "(169, 'COMFORTS RUSH', 17)\n",
      "(170, 'COMMAND DARLING', 16)\n",
      "(172, 'CONEHEADS SMOOCHY', 25)\n",
      "(173, 'CONFESSIONS MAGUIRE', 14)\n",
      "(174, 'CONFIDENTIAL INTERVIEW', 29)\n",
      "(175, 'CONFUSED CANDLES', 17)\n",
      "(176, 'CONGENIALITY QUEST', 22)\n",
      "(177, 'CONNECTICUT TRAMP', 13)\n",
      "(178, 'CONNECTION MICROCOSMOS', 7)\n",
      "(179, 'CONQUERER NUTS', 16)\n",
      "(180, 'CONSPIRACY SPIRIT', 5)\n",
      "(181, 'CONTACT ANONYMOUS', 26)\n",
      "(182, 'CONTROL ANTHEM', 7)\n",
      "(183, 'CONVERSATION DOWNHILL', 17)\n",
      "(184, 'CORE SUIT', 18)\n",
      "(185, 'COWBOY DOOM', 7)\n",
      "(186, 'CRAFT OUTFIELD', 16)\n",
      "(187, 'CRANES RESERVOIR', 11)\n",
      "(188, 'CRAZY HOME', 9)\n",
      "(189, 'CREATURES SHAKESPEARE', 16)\n",
      "(190, 'CREEPERS KANE', 14)\n",
      "(191, 'CROOKED FROGMEN', 23)\n",
      "(193, 'CROSSROADS CASUALTIES', 21)\n",
      "(194, 'CROW GREASE', 12)\n",
      "(196, 'CRUELTY UNFORGIVEN', 7)\n",
      "(197, 'CRUSADE HONEY', 8)\n",
      "(199, 'CUPBOARD SINNERS', 23)\n",
      "(200, 'CURTAIN VIDEOTAPE', 27)\n",
      "(201, 'CYCLONE FAMILY', 15)\n",
      "(202, 'DADDY PITTSBURGH', 13)\n",
      "(203, 'DAISY MENAGERIE', 16)\n",
      "(204, 'DALMATIONS SWEDEN', 20)\n",
      "(205, 'DANCES NONE', 14)\n",
      "(206, 'DANCING FEVER', 27)\n",
      "(207, 'DANGEROUS UPTOWN', 12)\n",
      "(208, 'DARES PLUTO', 9)\n",
      "(209, 'DARKNESS WAR', 13)\n",
      "(210, 'DARKO DORADO', 11)\n",
      "(211, 'DARLING BREAKING', 9)\n",
      "(212, 'DARN FORRESTER', 18)\n",
      "(213, 'DATE SPEED', 13)\n",
      "(214, 'DAUGHTER MADIGAN', 9)\n",
      "(215, 'DAWN POND', 18)\n",
      "(216, 'DAY UNFAITHFUL', 14)\n",
      "(218, 'DECEIVER BETRAYED', 21)\n",
      "(219, 'DEEP CRUSADE', 14)\n",
      "(220, 'DEER VIRGINIAN', 29)\n",
      "(222, 'DESERT POSEIDON', 19)\n",
      "(223, 'DESIRE ALIEN', 8)\n",
      "(224, 'DESPERATE TRAINSPOTTING', 6)\n",
      "(225, 'DESTINATION JERK', 8)\n",
      "(226, 'DESTINY SATURDAY', 16)\n",
      "(227, 'DETAILS PACKER', 19)\n",
      "(228, 'DETECTIVE VISION', 27)\n",
      "(229, 'DEVIL DESIRE', 15)\n",
      "(230, 'DIARY PANIC', 9)\n",
      "(231, 'DINOSAUR SECRETARY', 20)\n",
      "(232, 'DIRTY ACE', 15)\n",
      "(233, 'DISCIPLE MOTHER', 19)\n",
      "(234, 'DISTURBING SCARFACE', 26)\n",
      "(235, 'DIVIDE MONSTER', 21)\n",
      "(236, 'DIVINE RESURRECTION', 15)\n",
      "(237, 'DIVORCE SHINING', 7)\n",
      "(238, 'DOCTOR GRAIL', 7)\n",
      "(239, 'DOGMA FAMILY', 30)\n",
      "(240, 'DOLLS RAGE', 9)\n",
      "(241, 'DONNIE ALLEY', 14)\n",
      "(242, 'DOOM DANCING', 21)\n",
      "(243, 'DOORS PRESIDENT', 19)\n",
      "(244, 'DORADO NOTTING', 27)\n",
      "(245, 'DOUBLE WRATH', 25)\n",
      "(246, 'DOUBTFIRE LABYRINTH', 10)\n",
      "(247, 'DOWNHILL ENOUGH', 25)\n",
      "(248, 'DOZEN LION', 7)\n",
      "(249, 'DRACULA CRYSTAL', 21)\n",
      "(250, 'DRAGON SQUAD', 11)\n",
      "(251, 'DRAGONFLY STRANGERS', 18)\n",
      "(252, 'DREAM PICKUP', 22)\n",
      "(253, 'DRIFTER COMMANDMENTS', 24)\n",
      "(254, 'DRIVER ANNIE', 18)\n",
      "(255, 'DRIVING POLISH', 21)\n",
      "(256, 'DROP WATERFRONT', 9)\n",
      "(257, 'DRUMLINE CYCLONE', 11)\n",
      "(258, 'DRUMS DYNAMITE', 13)\n",
      "(259, 'DUCK RACER', 6)\n",
      "(260, 'DUDE BLINDNESS', 16)\n",
      "(261, 'DUFFEL APOCALYPSE', 7)\n",
      "(262, 'DUMBO LUST', 6)\n",
      "(263, 'DURHAM PANKY', 26)\n",
      "(264, 'DWARFS ALTER', 9)\n",
      "(265, 'DYING MAKER', 17)\n",
      "(266, 'DYNAMITE TARZAN', 25)\n",
      "(267, 'EAGLES PANKY', 22)\n",
      "(268, 'EARLY HOME', 7)\n",
      "(269, 'EARRING INSTINCT', 19)\n",
      "(270, 'EARTH VISION', 23)\n",
      "(271, 'EASY GLADIATOR', 23)\n",
      "(272, 'EDGE KISSING', 15)\n",
      "(273, 'EFFECT GLADIATOR', 25)\n",
      "(274, 'EGG IGBY', 21)\n",
      "(275, 'EGYPT TENENBAUMS', 17)\n",
      "(276, 'ELEMENT FREDDY', 10)\n",
      "(277, 'ELEPHANT TROJAN', 14)\n",
      "(278, 'ELF MURDER', 7)\n",
      "(279, 'ELIZABETH SHANE', 10)\n",
      "(280, 'EMPIRE MALKOVICH', 21)\n",
      "(281, 'ENCINO ELF', 19)\n",
      "(282, 'ENCOUNTERS CURTAIN', 19)\n",
      "(283, 'ENDING CROWDS', 11)\n",
      "(284, 'ENEMY ODDS', 29)\n",
      "(285, 'ENGLISH BULWORTH', 30)\n",
      "(286, 'ENOUGH RAGING', 18)\n",
      "(287, 'ENTRAPMENT SATISFACTION', 15)\n",
      "(288, 'ESCAPE METROPOLIS', 25)\n",
      "(289, 'EVE RESURRECTION', 7)\n",
      "(290, 'EVERYONE CRAFT', 13)\n",
      "(291, 'EVOLUTION ALTER', 12)\n",
      "(292, 'EXCITEMENT EVE', 21)\n",
      "(293, 'EXORCIST STING', 13)\n",
      "(294, 'EXPECATIONS NATURAL', 18)\n",
      "(295, 'EXPENDABLE STALLION', 28)\n",
      "(296, 'EXPRESS LONELY', 13)\n",
      "(297, 'EXTRAORDINARY CONQUERER', 6)\n",
      "(298, 'EYES DRIVING', 19)\n",
      "(299, 'FACTORY DRAGON', 17)\n",
      "(300, 'FALCON VOLUME', 22)\n",
      "(301, 'FAMILY SWEET', 29)\n",
      "(302, 'FANTASIA PARK', 19)\n",
      "(303, 'FANTASY TROOPERS', 26)\n",
      "(304, 'FARGO GANDHI', 24)\n",
      "(305, 'FATAL HAUNTED', 28)\n",
      "(306, 'FEATHERS METAL', 11)\n",
      "(307, 'FELLOWSHIP AUTUMN', 26)\n",
      "(308, 'FERRIS MOTHER', 17)\n",
      "(309, 'FEUD FROGMEN', 25)\n",
      "(310, 'FEVER EMPIRE', 5)\n",
      "(311, 'FICTION CHRISTMAS', 19)\n",
      "(312, 'FIDDLER LOST', 10)\n",
      "(313, 'FIDELITY DEVIL', 21)\n",
      "(314, 'FIGHT JAWBREAKER', 22)\n",
      "(315, 'FINDING ANACONDA', 12)\n",
      "(316, 'FIRE WOLVES', 7)\n",
      "(317, 'FIREBALL PHILADELPHIA', 21)\n",
      "(319, 'FISH OPUS', 25)\n",
      "(320, 'FLAMINGOS CONNECTICUT', 23)\n",
      "(321, 'FLASH WARS', 13)\n",
      "(322, 'FLATLINERS KILLER', 22)\n",
      "(323, 'FLIGHT LIES', 12)\n",
      "(324, 'FLINTSTONES HAPPINESS', 17)\n",
      "(326, 'FLYING HOOK', 20)\n",
      "(327, 'FOOL MOCKINGBIRD', 23)\n",
      "(328, 'FOREVER CANDIDATE', 13)\n",
      "(329, 'FORREST SONS', 18)\n",
      "(330, 'FORRESTER COMANCHEROS', 27)\n",
      "(331, 'FORWARD TEMPLE', 32)\n",
      "(333, 'FREAKY POCUS', 17)\n",
      "(334, 'FREDDY STORM', 23)\n",
      "(335, 'FREEDOM CLEOPATRA', 5)\n",
      "(336, 'FRENCH HOLIDAY', 17)\n",
      "(337, 'FRIDA SLIPPER', 11)\n",
      "(338, 'FRISCO FORREST', 9)\n",
      "(339, 'FROGMEN BREAKING', 10)\n",
      "(340, 'FRONTIER CABIN', 6)\n",
      "(341, 'FROST HEAD', 30)\n",
      "(342, 'FUGITIVE MAGUIRE', 11)\n",
      "(343, 'FULL FLATLINERS', 5)\n",
      "(344, 'FURY MURDER', 19)\n",
      "(345, 'GABLES METROPOLIS', 19)\n",
      "(346, 'GALAXY SWEETHEARTS', 18)\n",
      "(347, 'GAMES BOWFINGER', 14)\n",
      "(348, 'GANDHI KWAI', 17)\n",
      "(349, 'GANGS PRIDE', 27)\n",
      "(350, 'GARDEN ISLAND', 20)\n",
      "(351, 'GASLIGHT CRUSADE', 16)\n",
      "(352, 'GATHERING CALENDAR', 11)\n",
      "(353, 'GENTLEMEN STAGE', 23)\n",
      "(354, 'GHOST GROUNDHOG', 21)\n",
      "(355, 'GHOSTBUSTERS ELF', 9)\n",
      "(356, 'GIANT TROOPERS', 28)\n",
      "(357, 'GILBERT PELICAN', 9)\n",
      "(358, 'GILMORE BOILED', 28)\n",
      "(360, 'GLASS DYING', 14)\n",
      "(361, 'GLEAMING JAWBREAKER', 29)\n",
      "(362, 'GLORY TRACY', 5)\n",
      "(363, 'GO PURPLE', 20)\n",
      "(364, 'GODFATHER DIARY', 8)\n",
      "(365, 'GOLD RIVER', 14)\n",
      "(366, 'GOLDFINGER SENSIBILITY', 24)\n",
      "(367, 'GOLDMINE TYCOON', 27)\n",
      "(368, 'GONE TROUBLE', 10)\n",
      "(369, 'GOODFELLAS SALUTE', 31)\n",
      "(370, 'GORGEOUS BINGO', 19)\n",
      "(371, 'GOSFORD DONNIE', 8)\n",
      "(372, 'GRACELAND DYNAMITE', 6)\n",
      "(373, 'GRADUATE LORD', 16)\n",
      "(374, 'GRAFFITI LOVE', 30)\n",
      "(375, 'GRAIL FRANKENSTEIN', 10)\n",
      "(376, 'GRAPES FURY', 22)\n",
      "(377, 'GREASE YOUTH', 21)\n",
      "(378, 'GREATEST NORTH', 29)\n",
      "(379, 'GREEDY ROOTS', 14)\n",
      "(380, 'GREEK EVERYONE', 17)\n",
      "(381, 'GRINCH MASSAGE', 14)\n",
      "(382, 'GRIT CLOCKWORK', 32)\n",
      "(383, 'GROOVE FICTION', 18)\n",
      "(384, 'GROSSE WONDERFUL', 8)\n",
      "(385, 'GROUNDHOG UNCUT', 18)\n",
      "(387, 'GUN BONNIE', 25)\n",
      "(388, 'GUNFIGHT MOON', 24)\n",
      "(389, 'GUNFIGHTER MUSSOLINI', 12)\n",
      "(390, 'GUYS FALCON', 9)\n",
      "(391, 'HALF OUTFIELD', 26)\n",
      "(392, 'HALL CASSIDY', 16)\n",
      "(393, 'HALLOWEEN NUTS', 10)\n",
      "(394, 'HAMLET WISDOM', 14)\n",
      "(395, 'HANDICAP BOONDOCK', 28)\n",
      "(396, 'HANGING DEEP', 19)\n",
      "(397, 'HANKY OCTOBER', 26)\n",
      "(398, 'HANOVER GALAXY', 17)\n",
      "(399, 'HAPPINESS UNITED', 6)\n",
      "(400, 'HARDLY ROBBERS', 4)\n",
      "(401, 'HAROLD FRENCH', 8)\n",
      "(402, 'HARPER DYING', 20)\n",
      "(403, 'HARRY IDAHO', 30)\n",
      "(405, 'HAUNTED ANTITRUST', 6)\n",
      "(406, 'HAUNTING PIANIST', 22)\n",
      "(407, 'HAWK CHILL', 7)\n",
      "(408, 'HEAD STRANGER', 22)\n",
      "(409, 'HEARTBREAKERS BRIGHT', 20)\n",
      "(410, 'HEAVEN FREEDOM', 18)\n",
      "(411, 'HEAVENLY GUN', 7)\n",
      "(412, 'HEAVYWEIGHTS BEAST', 23)\n",
      "(413, 'HEDWIG ALTER', 12)\n",
      "(414, 'HELLFIGHTERS SIERRA', 20)\n",
      "(415, 'HIGH ENCINO', 22)\n",
      "(416, 'HIGHBALL POTTER', 21)\n",
      "(417, 'HILLS NEIGHBORS', 25)\n",
      "(418, 'HOBBIT ALIEN', 31)\n",
      "(420, 'HOLES BRANNIGAN', 15)\n",
      "(421, 'HOLIDAY GAMES', 15)\n",
      "(422, 'HOLLOW JEOPARDY', 10)\n",
      "(423, 'HOLLYWOOD ANONYMOUS', 13)\n",
      "(424, 'HOLOCAUST HIGHBALL', 17)\n",
      "(425, 'HOLY TADPOLE', 9)\n",
      "(426, 'HOME PITY', 14)\n",
      "(427, 'HOMEWARD CIDER', 16)\n",
      "(428, 'HOMICIDE PEACH', 22)\n",
      "(429, 'HONEY TIES', 19)\n",
      "(430, 'HOOK CHARIOTS', 13)\n",
      "(431, 'HOOSIERS BIRDCAGE', 8)\n",
      "(432, 'HOPE TOOTSIE', 18)\n",
      "(433, 'HORN WORKING', 24)\n",
      "(434, 'HORROR REIGN', 27)\n",
      "(435, 'HOTEL HAPPINESS', 9)\n",
      "(436, 'HOURS RAGE', 19)\n",
      "(437, 'HOUSE DYNAMITE', 23)\n",
      "(438, 'HUMAN GRAFFITI', 15)\n",
      "(439, 'HUNCHBACK IMPOSSIBLE', 20)\n",
      "(440, 'HUNGER ROOF', 13)\n",
      "(441, 'HUNTER ALTER', 5)\n",
      "(442, 'HUNTING MUSKETEERS', 15)\n",
      "(443, 'HURRICANE AFFAIR', 24)\n",
      "(444, 'HUSTLER PARTY', 22)\n",
      "(445, 'HYDE DOCTOR', 26)\n",
      "(446, 'HYSTERICAL GRAIL', 15)\n",
      "(447, 'ICE CROSSING', 24)\n",
      "(448, 'IDAHO LOVE', 17)\n",
      "(449, 'IDENTITY LOVER', 13)\n",
      "(450, 'IDOLS SNATCHERS', 30)\n",
      "(451, 'IGBY MAKER', 19)\n",
      "(452, 'ILLUSION AMELIE', 15)\n",
      "(453, 'IMAGE PRINCESS', 14)\n",
      "(454, 'IMPACT ALADDIN', 9)\n",
      "(455, 'IMPOSSIBLE PREJUDICE', 14)\n",
      "(456, 'INCH JET', 18)\n",
      "(457, 'INDEPENDENCE HOTEL', 19)\n",
      "(458, 'INDIAN LOVE', 16)\n",
      "(459, 'INFORMER DOUBLE', 5)\n",
      "(460, 'INNOCENT USUAL', 26)\n",
      "(461, 'INSECTS STONE', 18)\n",
      "(462, 'INSIDER ARIZONA', 20)\n",
      "(463, 'INSTINCT AIRPORT', 18)\n",
      "(464, 'INTENTIONS EMPIRE', 17)\n",
      "(465, 'INTERVIEW LIAISONS', 20)\n",
      "(466, 'INTOLERABLE INTENTIONS', 9)\n",
      "(467, 'INTRIGUE WORST', 20)\n",
      "(468, 'INVASION CYCLONE', 27)\n",
      "(469, 'IRON MOON', 11)\n",
      "(470, 'ISHTAR ROCKETEER', 7)\n",
      "(471, 'ISLAND EXORCIST', 26)\n",
      "(472, 'ITALIAN AFRICAN', 6)\n",
      "(473, 'JACKET FRISCO', 18)\n",
      "(474, 'JADE BUNCH', 18)\n",
      "(475, 'JAPANESE RUN', 6)\n",
      "(476, 'JASON TRAP', 24)\n",
      "(477, 'JAWBREAKER BROOKLYN', 10)\n",
      "(478, 'JAWS HARRY', 14)\n",
      "(479, 'JEDI BENEATH', 19)\n",
      "(480, 'JEEPERS WEDDING', 16)\n",
      "(481, 'JEKYLL FROGMEN', 17)\n",
      "(482, 'JEOPARDY ENCINO', 10)\n",
      "(483, 'JERICHO MULAN', 17)\n",
      "(484, 'JERK PAYCHECK', 20)\n",
      "(485, 'JERSEY SASSY', 6)\n",
      "(486, 'JET NEIGHBORS', 20)\n",
      "(487, 'JINGLE SAGEBRUSH', 13)\n",
      "(488, 'JOON NORTHWEST', 17)\n",
      "(489, 'JUGGLER HARDLY', 32)\n",
      "(490, 'JUMANJI BLADE', 8)\n",
      "(491, 'JUMPING WRATH', 24)\n",
      "(492, 'JUNGLE CLOSER', 9)\n",
      "(493, 'KANE EXORCIST', 14)\n",
      "(494, 'KARATE MOON', 23)\n",
      "(496, 'KICK SAVANNAH', 20)\n",
      "(498, 'KILLER INNOCENT', 6)\n",
      "(499, 'KING EVOLUTION', 9)\n",
      "(500, 'KISS GLORY', 22)\n",
      "(501, 'KISSING DOLLS', 20)\n",
      "(502, 'KNOCK WARLOCK', 24)\n",
      "(503, 'KRAMER CHOCOLATE', 9)\n",
      "(504, 'KWAI HOMEWARD', 23)\n",
      "(505, 'LABYRINTH LEAGUE', 15)\n",
      "(506, 'LADY STAGE', 17)\n",
      "(507, 'LADYBUGS ARMAGEDDON', 6)\n",
      "(508, 'LAMBS CINCINATTI', 10)\n",
      "(509, 'LANGUAGE COWBOY', 11)\n",
      "(510, 'LAWLESS VISION', 17)\n",
      "(511, 'LAWRENCE LOVE', 13)\n",
      "(512, 'LEAGUE HELLFIGHTERS', 17)\n",
      "(513, 'LEATHERNECKS DWARFS', 7)\n",
      "(514, 'LEBOWSKI SOLDIERS', 21)\n",
      "(515, 'LEGALLY SECRETARY', 9)\n",
      "(516, 'LEGEND JEDI', 9)\n",
      "(517, 'LESSON CLEOPATRA', 7)\n",
      "(518, 'LIAISONS SWEET', 22)\n",
      "(519, 'LIBERTY MAGNIFICENT', 12)\n",
      "(520, 'LICENSE WEEKEND', 7)\n",
      "(521, 'LIES TREATMENT', 27)\n",
      "(522, 'LIFE TWISTED', 10)\n",
      "(523, 'LIGHTS DEER', 8)\n",
      "(524, 'LION UNCUT', 18)\n",
      "(525, 'LOATHING LEGALLY', 27)\n",
      "(526, 'LOCK REAR', 16)\n",
      "(527, 'LOLA AGENT', 24)\n",
      "(528, 'LOLITA WORLD', 10)\n",
      "(529, 'LONELY ELEPHANT', 15)\n",
      "(530, 'LORD ARIZONA', 11)\n",
      "(531, 'LOSE INCH', 27)\n",
      "(532, 'LOSER HUSTLER', 15)\n",
      "(533, 'LOST BIRD', 12)\n",
      "(534, 'LOUISIANA HARRY', 17)\n",
      "(535, 'LOVE SUICIDES', 20)\n",
      "(536, 'LOVELY JINGLE', 14)\n",
      "(537, 'LOVER TRUMAN', 10)\n",
      "(538, 'LOVERBOY ATTACKS', 12)\n",
      "(539, 'LUCK OPUS', 10)\n",
      "(540, 'LUCKY FLYING', 13)\n",
      "(541, 'LUKE MUMMY', 7)\n",
      "(542, 'LUST LOCK', 15)\n",
      "(543, 'MADIGAN DORADO', 10)\n",
      "(544, 'MADISON TRAP', 15)\n",
      "(545, 'MADNESS ATTACKS', 25)\n",
      "(546, 'MADRE GABLES', 14)\n",
      "(547, 'MAGIC MALLRATS', 7)\n",
      "(548, 'MAGNIFICENT CHITTY', 8)\n",
      "(549, 'MAGNOLIA FORRESTER', 11)\n",
      "(550, 'MAGUIRE APACHE', 9)\n",
      "(551, 'MAIDEN HOME', 24)\n",
      "(552, 'MAJESTIC FLOATS', 17)\n",
      "(553, 'MAKER GABLES', 10)\n",
      "(554, 'MALKOVICH PET', 26)\n",
      "(555, 'MALLRATS UNITED', 25)\n",
      "(556, 'MALTESE HOPE', 22)\n",
      "(557, 'MANCHURIAN CURTAIN', 15)\n",
      "(558, 'MANNEQUIN WORST', 5)\n",
      "(559, 'MARRIED GO', 30)\n",
      "(560, 'MARS ROMAN', 19)\n",
      "(561, 'MASK PEACH', 17)\n",
      "(562, 'MASKED BUBBLE', 20)\n",
      "(563, 'MASSACRE USUAL', 30)\n",
      "(564, 'MASSAGE IMAGE', 12)\n",
      "(565, 'MATRIX SNOWMAN', 9)\n",
      "(566, 'MAUDE MOD', 8)\n",
      "(567, 'MEET CHOCOLATE', 12)\n",
      "(568, 'MEMENTO ZOOLANDER', 13)\n",
      "(569, 'MENAGERIE RUSHMORE', 7)\n",
      "(570, 'MERMAID INSECTS', 16)\n",
      "(571, 'METAL ARMAGEDDON', 25)\n",
      "(572, 'METROPOLIS COMA', 26)\n",
      "(573, 'MICROCOSMOS PARADISE', 13)\n",
      "(574, 'MIDNIGHT WESTWARD', 17)\n",
      "(575, 'MIDSUMMER GROUNDHOG', 22)\n",
      "(576, 'MIGHTY LUCK', 12)\n",
      "(577, 'MILE MULAN', 13)\n",
      "(578, 'MILLION ACE', 20)\n",
      "(579, 'MINDS TRUMAN', 20)\n",
      "(580, 'MINE TITANS', 19)\n",
      "(581, 'MINORITY KISS', 12)\n",
      "(582, 'MIRACLE VIRTUAL', 9)\n",
      "(583, 'MISSION ZOOLANDER', 18)\n",
      "(584, 'MIXED DOORS', 4)\n",
      "(585, 'MOB DUFFEL', 12)\n",
      "(586, 'MOCKINGBIRD HOLLYWOOD', 24)\n",
      "(587, 'MOD SECRETARY', 11)\n",
      "(588, 'MODEL FISH', 15)\n",
      "(589, 'MODERN DORADO', 15)\n",
      "(590, 'MONEY HAROLD', 20)\n",
      "(591, 'MONSOON CAUSE', 9)\n",
      "(592, 'MONSTER SPARTACUS', 15)\n",
      "(593, 'MONTEREY LABYRINTH', 13)\n",
      "(594, 'MONTEZUMA COMMAND', 9)\n",
      "(595, 'MOON BUNCH', 29)\n",
      "(596, 'MOONSHINE CABIN', 21)\n",
      "(597, 'MOONWALKER FOOL', 13)\n",
      "(598, 'MOSQUITO ARMAGEDDON', 15)\n",
      "(599, 'MOTHER OLEANDER', 14)\n",
      "(600, 'MOTIONS DETAILS', 16)\n",
      "(601, 'MOULIN WAKE', 16)\n",
      "(602, 'MOURNING PURPLE', 21)\n",
      "(603, 'MOVIE SHAKESPEARE', 27)\n",
      "(604, 'MULAN MOON', 13)\n",
      "(605, 'MULHOLLAND BEAST', 7)\n",
      "(606, 'MUMMY CREATURES', 16)\n",
      "(608, 'MURDER ANTITRUST', 23)\n",
      "(609, 'MUSCLE BRIGHT', 30)\n",
      "(610, 'MUSIC BOONDOCK', 19)\n",
      "(611, 'MUSKETEERS WAIT', 17)\n",
      "(612, 'MUSSOLINI SPOILERS', 5)\n",
      "(613, 'MYSTIC TRUMAN', 10)\n",
      "(614, 'NAME DETECTIVE', 23)\n",
      "(615, 'NASH CHOCOLAT', 15)\n",
      "(616, 'NATIONAL STORY', 19)\n",
      "(617, 'NATURAL STOCK', 13)\n",
      "(618, 'NECKLACE OUTBREAK', 15)\n",
      "(619, 'NEIGHBORS CHARADE', 19)\n",
      "(620, 'NEMO CAMPUS', 14)\n",
      "(621, 'NETWORK PEAK', 31)\n",
      "(622, 'NEWSIES STORY', 7)\n",
      "(623, 'NEWTON LABYRINTH', 17)\n",
      "(624, 'NIGHTMARE CHILL', 25)\n",
      "(625, 'NONE SPIKING', 27)\n",
      "(626, 'NOON PAPI', 17)\n",
      "(627, 'NORTH TEQUILA', 11)\n",
      "(628, 'NORTHWEST POLISH', 20)\n",
      "(629, 'NOTORIOUS REUNION', 14)\n",
      "(630, 'NOTTING SPEAKEASY', 10)\n",
      "(631, 'NOVOCAINE FLIGHT', 19)\n",
      "(632, 'NUTS TIES', 9)\n",
      "(633, 'OCTOBER SUBMARINE', 11)\n",
      "(634, 'ODDS BOOGIE', 15)\n",
      "(635, 'OKLAHOMA JUMANJI', 6)\n",
      "(636, 'OLEANDER CLUE', 10)\n",
      "(637, 'OPEN AFRICAN', 21)\n",
      "(638, 'OPERATION OPERATION', 27)\n",
      "(639, 'OPPOSITE NECKLACE', 13)\n",
      "(640, 'OPUS ICE', 11)\n",
      "(641, 'ORANGE GRAPES', 24)\n",
      "(643, 'ORIENT CLOSER', 17)\n",
      "(644, 'OSCAR GOLD', 25)\n",
      "(645, 'OTHERS SOUP', 23)\n",
      "(646, 'OUTBREAK DIVINE', 23)\n",
      "(647, 'OUTFIELD MASSACRE', 20)\n",
      "(648, 'OUTLAW HANKY', 14)\n",
      "(649, 'OZ LIAISONS', 24)\n",
      "(650, 'PACIFIC AMISTAD', 24)\n",
      "(651, 'PACKER MADIGAN', 22)\n",
      "(652, 'PAJAMA JAWBREAKER', 14)\n",
      "(653, 'PANIC CLUB', 7)\n",
      "(654, 'PANKY SUBMARINE', 15)\n",
      "(655, 'PANTHER REDS', 15)\n",
      "(656, 'PAPI NECKLACE', 8)\n",
      "(657, 'PARADISE SABRINA', 18)\n",
      "(658, 'PARIS WEEKEND', 14)\n",
      "(659, 'PARK CITIZEN', 8)\n",
      "(660, 'PARTY KNOCK', 13)\n",
      "(661, 'PAST SUICIDES', 13)\n",
      "(662, 'PATHS CONTROL', 10)\n",
      "(663, 'PATIENT SISTER', 19)\n",
      "(664, 'PATRIOT ROMAN', 16)\n",
      "(665, 'PATTON INTERVIEW', 23)\n",
      "(666, 'PAYCHECK WAIT', 16)\n",
      "(667, 'PEACH INNOCENT', 14)\n",
      "(668, 'PEAK FOREVER', 20)\n",
      "(670, 'PELICAN COMFORTS', 26)\n",
      "(672, 'PERFECT GROOVE', 17)\n",
      "(673, 'PERSONAL LADYBUGS', 14)\n",
      "(674, 'PET HAUNTING', 8)\n",
      "(675, 'PHANTOM GLORY', 6)\n",
      "(676, 'PHILADELPHIA WIFE', 23)\n",
      "(677, 'PIANIST OUTFIELD', 21)\n",
      "(678, 'PICKUP DRIVING', 16)\n",
      "(679, 'PILOT HOOSIERS', 16)\n",
      "(680, 'PINOCCHIO SIMON', 20)\n",
      "(681, 'PIRATES ROXANNE', 21)\n",
      "(682, 'PITTSBURGH HUNCHBACK', 12)\n",
      "(683, 'PITY BOUND', 26)\n",
      "(684, 'PIZZA JUMANJI', 7)\n",
      "(685, 'PLATOON INSTINCT', 9)\n",
      "(686, 'PLUTO OLEANDER', 16)\n",
      "(687, 'POCUS PULP', 26)\n",
      "(688, 'POLISH BROOKLYN', 18)\n",
      "(689, 'POLLOCK DELIVERANCE', 18)\n",
      "(690, 'POND SEATTLE', 19)\n",
      "(691, 'POSEIDON FOREVER', 17)\n",
      "(692, 'POTLUCK MIXED', 11)\n",
      "(693, 'POTTER CONNECTICUT', 17)\n",
      "(694, 'PREJUDICE OLEANDER', 20)\n",
      "(695, 'PRESIDENT BANG', 7)\n",
      "(696, 'PRIDE ALAMO', 16)\n",
      "(697, 'PRIMARY GLASS', 27)\n",
      "(698, 'PRINCESS GIANT', 27)\n",
      "(699, 'PRIVATE DROP', 5)\n",
      "(700, 'PRIX UNDEFEATED', 11)\n",
      "(702, 'PULP BEVERLY', 30)\n",
      "(703, 'PUNK DIVORCE', 8)\n",
      "(704, 'PURE RUNNER', 16)\n",
      "(705, 'PURPLE MOVIE', 13)\n",
      "(706, 'QUEEN LUKE', 22)\n",
      "(707, 'QUEST MUSSOLINI', 20)\n",
      "(708, 'QUILLS BULL', 16)\n",
      "(709, 'RACER EGG', 18)\n",
      "(710, 'RAGE GAMES', 19)\n",
      "(711, 'RAGING AIRPLANE', 13)\n",
      "(714, 'RANDOM GO', 9)\n",
      "(715, 'RANGE MOONWALKER', 27)\n",
      "(716, 'REAP UNFAITHFUL', 16)\n",
      "(717, 'REAR TRADING', 17)\n",
      "(718, 'REBEL AIRPORT', 8)\n",
      "(719, 'RECORDS ZORRO', 8)\n",
      "(720, 'REDEMPTION COMFORTS', 20)\n",
      "(721, 'REDS POCUS', 9)\n",
      "(722, 'REEF SALUTE', 11)\n",
      "(723, 'REIGN GENTLEMEN', 20)\n",
      "(724, 'REMEMBER DIARY', 18)\n",
      "(725, 'REQUIEM TYCOON', 19)\n",
      "(726, 'RESERVOIR ADAPTATION', 10)\n",
      "(727, 'RESURRECTION SILVERADO', 21)\n",
      "(728, 'REUNION WITCHES', 20)\n",
      "(729, 'RIDER CADDYSHACK', 11)\n",
      "(730, 'RIDGEMONT SUBMARINE', 32)\n",
      "(731, 'RIGHT CRANES', 10)\n",
      "(732, 'RINGS HEARTBREAKERS', 15)\n",
      "(733, 'RIVER OUTLAW', 20)\n",
      "(734, 'ROAD ROXANNE', 19)\n",
      "(735, 'ROBBERS JOON', 31)\n",
      "(736, 'ROBBERY BRIGHT', 13)\n",
      "(737, 'ROCK INSTINCT', 17)\n",
      "(738, 'ROCKETEER MOTHER', 33)\n",
      "(739, 'ROCKY WAR', 16)\n",
      "(740, 'ROLLERCOASTER BRINGING', 10)\n",
      "(741, 'ROMAN PUNK', 24)\n",
      "(743, 'ROOM ROMAN', 20)\n",
      "(744, 'ROOTS REMEMBER', 17)\n",
      "(745, 'ROSES TREASURE', 28)\n",
      "(746, 'ROUGE SQUAD', 18)\n",
      "(747, 'ROXANNE REBEL', 19)\n",
      "(748, 'RUGRATS SHAKESPEARE', 30)\n",
      "(749, 'RULES HUMAN', 16)\n",
      "(750, 'RUN PACIFIC', 10)\n",
      "(751, 'RUNAWAY TENENBAUMS', 8)\n",
      "(752, 'RUNNER MADIGAN', 8)\n",
      "(753, 'RUSH GOODFELLAS', 31)\n",
      "(754, 'RUSHMORE MERMAID', 6)\n",
      "(755, 'SABRINA MIDNIGHT', 21)\n",
      "(756, 'SADDLE ANTITRUST', 14)\n",
      "(757, 'SAGEBRUSH CLUELESS', 16)\n",
      "(758, 'SAINTS BRIDE', 8)\n",
      "(759, 'SALUTE APOLLO', 23)\n",
      "(760, 'SAMURAI LION', 25)\n",
      "(761, 'SANTA PARIS', 11)\n",
      "(762, 'SASSY PACKER', 13)\n",
      "(763, 'SATISFACTION CONFIDENTIAL', 17)\n",
      "(764, 'SATURDAY LAMBS', 28)\n",
      "(765, 'SATURN NAME', 13)\n",
      "(766, 'SAVANNAH TOWN', 12)\n",
      "(767, 'SCALAWAG DUCK', 32)\n",
      "(768, 'SCARFACE BANG', 18)\n",
      "(769, 'SCHOOL JACKET', 6)\n",
      "(770, 'SCISSORHANDS SLUMS', 15)\n",
      "(771, 'SCORPION APOLLO', 23)\n",
      "(772, 'SEA VIRGIN', 22)\n",
      "(773, 'SEABISCUIT PUNK', 26)\n",
      "(774, 'SEARCHERS WAIT', 14)\n",
      "(775, 'SEATTLE EXPECATIONS', 24)\n",
      "(776, 'SECRET GROUNDHOG', 21)\n",
      "(777, 'SECRETARY ROUGE', 18)\n",
      "(778, 'SECRETS PARADISE', 20)\n",
      "(779, 'SENSE GREEK', 7)\n",
      "(780, 'SENSIBILITY REAR', 10)\n",
      "(781, 'SEVEN SWARM', 5)\n",
      "(782, 'SHAKESPEARE SADDLE', 22)\n",
      "(783, 'SHANE DARKNESS', 14)\n",
      "(784, 'SHANGHAI TYCOON', 14)\n",
      "(785, 'SHAWSHANK BUBBLE', 19)\n",
      "(786, 'SHEPHERD MIDSUMMER', 25)\n",
      "(787, 'SHINING ROSES', 8)\n",
      "(788, 'SHIP WONDERLAND', 15)\n",
      "(789, 'SHOCK CABIN', 30)\n",
      "(790, 'SHOOTIST SUPERFLY', 24)\n",
      "(791, 'SHOW LORD', 25)\n",
      "(792, 'SHREK LICENSE', 15)\n",
      "(793, 'SHRUNK DIVINE', 14)\n",
      "(794, 'SIDE ARK', 12)\n",
      "(795, 'SIEGE MADRE', 15)\n",
      "(796, 'SIERRA DIVIDE', 15)\n",
      "(797, 'SILENCE KANE', 16)\n",
      "(798, 'SILVERADO GOLDFINGER', 12)\n",
      "(799, 'SIMON NORTH', 6)\n",
      "(800, 'SINNERS ATLANTIS', 22)\n",
      "(803, 'SLACKER LIAISONS', 17)\n",
      "(804, 'SLEEPING SUSPECTS', 24)\n",
      "(805, 'SLEEPLESS MONSOON', 20)\n",
      "(806, 'SLEEPY JAPANESE', 21)\n",
      "(807, 'SLEUTH ORIENT', 21)\n",
      "(808, 'SLING LUKE', 6)\n",
      "(809, 'SLIPPER FIDELITY', 16)\n",
      "(810, 'SLUMS DUCK', 24)\n",
      "(811, 'SMILE EARRING', 10)\n",
      "(812, 'SMOKING BARBARELLA', 18)\n",
      "(813, 'SMOOCHY CONTROL', 12)\n",
      "(814, 'SNATCH SLIPPER', 22)\n",
      "(815, 'SNATCHERS MONTEZUMA', 9)\n",
      "(816, 'SNOWMAN ROLLERCOASTER', 23)\n",
      "(817, 'SOLDIERS EVOLUTION', 8)\n",
      "(818, 'SOMETHING DUCK', 19)\n",
      "(819, 'SONG HEDWIG', 11)\n",
      "(820, 'SONS INTERVIEW', 15)\n",
      "(821, 'SORORITY QUEEN', 12)\n",
      "(822, 'SOUP WISDOM', 8)\n",
      "(823, 'SOUTH WAIT', 22)\n",
      "(824, 'SPARTACUS CHEAPER', 9)\n",
      "(825, 'SPEAKEASY DATE', 12)\n",
      "(826, 'SPEED SUIT', 9)\n",
      "(827, 'SPICE SORORITY', 20)\n",
      "(828, 'SPIKING ELEMENT', 13)\n",
      "(829, 'SPINAL ROCKY', 13)\n",
      "(830, 'SPIRIT FLINTSTONES', 15)\n",
      "(831, 'SPIRITED CASUALTIES', 11)\n",
      "(832, 'SPLASH GUMP', 14)\n",
      "(833, 'SPLENDOR PATTON', 21)\n",
      "(834, 'SPOILERS HELLFIGHTERS', 10)\n",
      "(835, 'SPY MILE', 27)\n",
      "(836, 'SQUAD FISH', 7)\n",
      "(837, 'STAGE WORLD', 10)\n",
      "(838, 'STAGECOACH ARMAGEDDON', 26)\n",
      "(839, 'STALLION SUNDANCE', 7)\n",
      "(840, 'STAMPEDE DISTURBING', 14)\n",
      "(841, 'STAR OPERATION', 21)\n",
      "(842, 'STATE WASTELAND', 13)\n",
      "(843, 'STEEL SANTA', 23)\n",
      "(844, 'STEERS ARMAGEDDON', 15)\n",
      "(845, 'STEPMOM DREAM', 20)\n",
      "(846, 'STING PERSONAL', 21)\n",
      "(847, 'STOCK GLASS', 14)\n",
      "(848, 'STONE FIRE', 11)\n",
      "(849, 'STORM HAPPINESS', 29)\n",
      "(850, 'STORY SIDE', 28)\n",
      "(851, 'STRAIGHT HOURS', 20)\n",
      "(852, 'STRANGELOVE DESIRE', 24)\n",
      "(853, 'STRANGER STRANGERS', 11)\n",
      "(854, 'STRANGERS GRAFFITI', 17)\n",
      "(855, 'STREAK RIDGEMONT', 16)\n",
      "(856, 'STREETCAR INTENTIONS', 25)\n",
      "(857, 'STRICTLY SCARFACE', 23)\n",
      "(858, 'SUBMARINE BED', 15)\n",
      "(859, 'SUGAR WONKA', 17)\n",
      "(861, 'SUIT WALLS', 21)\n",
      "(862, 'SUMMER SCARFACE', 16)\n",
      "(863, 'SUN CONFESSIONS', 25)\n",
      "(864, 'SUNDANCE INVASION', 19)\n",
      "(865, 'SUNRISE LEAGUE', 24)\n",
      "(866, 'SUNSET RACER', 8)\n",
      "(867, 'SUPER WYOMING', 13)\n",
      "(868, 'SUPERFLY TRIP', 10)\n",
      "(869, 'SUSPECTS QUILLS', 30)\n",
      "(870, 'SWARM GOLD', 27)\n",
      "(871, 'SWEDEN SHINING', 18)\n",
      "(872, 'SWEET BROTHERHOOD', 15)\n",
      "(873, 'SWEETHEARTS SUSPECTS', 29)\n",
      "(875, 'TALENTED HOMICIDE', 29)\n",
      "(876, 'TARZAN VIDEOTAPE', 8)\n",
      "(877, 'TAXI KICK', 17)\n",
      "(878, 'TEEN APOLLO', 17)\n",
      "(879, 'TELEGRAPH VOYAGE', 27)\n",
      "(880, 'TELEMARK HEARTBREAKERS', 25)\n",
      "(881, 'TEMPLE ATTRACTION', 12)\n",
      "(882, 'TENENBAUMS COMMAND', 13)\n",
      "(883, 'TEQUILA PAST', 6)\n",
      "(884, 'TERMINATOR CLUB', 6)\n",
      "(885, 'TEXAS WATCH', 6)\n",
      "(886, 'THEORY MERMAID', 11)\n",
      "(887, 'THIEF PELICAN', 19)\n",
      "(888, 'THIN SAGEBRUSH', 11)\n",
      "(889, 'TIES HUNGER', 11)\n",
      "(890, 'TIGHTS DAWN', 26)\n",
      "(891, 'TIMBERLAND SKY', 31)\n",
      "(892, 'TITANIC BOONDOCK', 23)\n",
      "(893, 'TITANS JERK', 29)\n",
      "(894, 'TOMATOES HELLFIGHTERS', 14)\n",
      "(895, 'TOMORROW HUSTLER', 25)\n",
      "(896, 'TOOTSIE PILOT', 15)\n",
      "(897, 'TORQUE BOUND', 27)\n",
      "(898, 'TOURIST PELICAN', 22)\n",
      "(899, 'TOWERS HURRICANE', 11)\n",
      "(900, 'TOWN ARK', 14)\n",
      "(901, 'TRACY CIDER', 26)\n",
      "(902, 'TRADING PINOCCHIO', 25)\n",
      "(903, 'TRAFFIC HOBBIT', 5)\n",
      "(904, 'TRAIN BUNCH', 4)\n",
      "(905, 'TRAINSPOTTING STRANGERS', 11)\n",
      "(906, 'TRAMP OTHERS', 20)\n",
      "(907, 'TRANSLATION SUMMER', 15)\n",
      "(908, 'TRAP GUYS', 16)\n",
      "(910, 'TREATMENT JEKYLL', 7)\n",
      "(911, 'TRIP NEWTON', 28)\n",
      "(912, 'TROJAN TOMORROW', 19)\n",
      "(913, 'TROOPERS METAL', 14)\n",
      "(914, 'TROUBLE DATE', 23)\n",
      "(915, 'TRUMAN CRAZY', 23)\n",
      "(916, 'TURN STAR', 14)\n",
      "(917, 'TUXEDO MILE', 13)\n",
      "(918, 'TWISTED PIRATES', 11)\n",
      "(919, 'TYCOON GATHERING', 12)\n",
      "(920, 'UNBREAKABLE KARATE', 21)\n",
      "(921, 'UNCUT SUICIDES', 14)\n",
      "(922, 'UNDEFEATED DALMATIONS', 21)\n",
      "(923, 'UNFAITHFUL KILL', 8)\n",
      "(924, 'UNFORGIVEN ZOOLANDER', 18)\n",
      "(925, 'UNITED PILOT', 17)\n",
      "(926, 'UNTOUCHABLES SUNRISE', 8)\n",
      "(927, 'UPRISING UPTOWN', 16)\n",
      "(928, 'UPTOWN YOUNG', 12)\n",
      "(929, 'USUAL UNTOUCHABLES', 13)\n",
      "(930, 'VACATION BOONDOCK', 21)\n",
      "(931, 'VALENTINE VANISHING', 12)\n",
      "(932, 'VALLEY PACKER', 15)\n",
      "(933, 'VAMPIRE WHALE', 12)\n",
      "(934, 'VANILLA DAY', 9)\n",
      "(935, 'VANISHED GARDEN', 7)\n",
      "(936, 'VANISHING ROCKY', 18)\n",
      "(937, 'VARSITY TRIP', 16)\n",
      "(938, 'VELVET TERMINATOR', 26)\n",
      "(939, 'VERTIGO NORTHWEST', 8)\n",
      "(940, 'VICTORY ACADEMY', 9)\n",
      "(941, 'VIDEOTAPE ARSENIC', 29)\n",
      "(942, 'VIETNAM SMOOCHY', 15)\n",
      "(944, 'VIRGIN DAISY', 17)\n",
      "(945, 'VIRGINIAN PLUTO', 29)\n",
      "(946, 'VIRTUAL SPOILERS', 14)\n",
      "(947, 'VISION TORQUE', 7)\n",
      "(948, 'VOICE PEACH', 19)\n",
      "(949, 'VOLCANO TEXAS', 22)\n",
      "(951, 'VOYAGE LEGALLY', 28)\n",
      "(952, 'WAGON JAWS', 10)\n",
      "(953, 'WAIT CIDER', 21)\n",
      "(956, 'WANDA CHAMBER', 16)\n",
      "(957, 'WAR NOTTING', 12)\n",
      "(958, 'WARDROBE PHANTOM', 27)\n",
      "(959, 'WARLOCK WEREWOLF', 6)\n",
      "(960, 'WARS PLUTO', 10)\n",
      "(961, 'WASH HEAVENLY', 23)\n",
      "(962, 'WASTELAND DIVINE', 15)\n",
      "(963, 'WATCH TRACY', 16)\n",
      "(964, 'WATERFRONT DELIVERANCE', 17)\n",
      "(965, 'WATERSHIP FRONTIER', 6)\n",
      "(966, 'WEDDING APOLLO', 24)\n",
      "(967, 'WEEKEND PERSONAL', 18)\n",
      "(968, 'WEREWOLF LOLA', 14)\n",
      "(969, 'WEST LION', 16)\n",
      "(970, 'WESTWARD SEABISCUIT', 26)\n",
      "(971, 'WHALE BIKINI', 18)\n",
      "(972, 'WHISPERER GIANT', 22)\n",
      "(973, 'WIFE TURN', 31)\n",
      "(974, 'WILD APOLLO', 6)\n",
      "(975, 'WILLOW TRACY', 16)\n",
      "(976, 'WIND PHANTOM', 23)\n",
      "(977, 'WINDOW SIDE', 12)\n",
      "(978, 'WISDOM WORKER', 9)\n",
      "(979, 'WITCHES PANIC', 30)\n",
      "(980, 'WIZARD COLDBLOODED', 16)\n",
      "(981, 'WOLVES DESIRE', 21)\n",
      "(982, 'WOMEN DORADO', 23)\n",
      "(983, 'WON DARES', 9)\n",
      "(984, 'WONDERFUL DROP', 9)\n",
      "(985, 'WONDERLAND CHRISTMAS', 22)\n",
      "(986, 'WONKA SEA', 18)\n",
      "(987, 'WORDS HUNTER', 16)\n",
      "(988, 'WORKER TARZAN', 15)\n",
      "(989, 'WORKING MICROCOSMOS', 25)\n",
      "(990, 'WORLD LEATHERNECKS', 8)\n",
      "(991, 'WORST BANGER', 16)\n",
      "(992, 'WRATH MILE', 14)\n",
      "(993, 'WRONG BEHAVIOR', 20)\n",
      "(994, 'WYOMING STORM', 13)\n",
      "(995, 'YENTL IDAHO', 23)\n",
      "(996, 'YOUNG LANGUAGE', 7)\n",
      "(997, 'YOUTH KICK', 6)\n",
      "(998, 'ZHIVAGO CORE', 9)\n",
      "(999, 'ZOOLANDER FICTION', 17)\n",
      "(1000, 'ZORRO ARK', 31)\n",
      "Executando query:\n",
      "('BUCKET BROTHERHOOD', 34)\n",
      "('ROCKETEER MOTHER', 33)\n",
      "('FORWARD TEMPLE', 32)\n",
      "('GRIT CLOCKWORK', 32)\n",
      "('JUGGLER HARDLY', 32)\n",
      "('RIDGEMONT SUBMARINE', 32)\n",
      "('SCALAWAG DUCK', 32)\n",
      "('APACHE DIVINE', 31)\n",
      "('GOODFELLAS SALUTE', 31)\n",
      "('HOBBIT ALIEN', 31)\n",
      "('NETWORK PEAK', 31)\n",
      "('ROBBERS JOON', 31)\n",
      "('RUSH GOODFELLAS', 31)\n",
      "('TIMBERLAND SKY', 31)\n",
      "('WIFE TURN', 31)\n",
      "('ZORRO ARK', 31)\n",
      "('BUTTERFLY CHOCOLAT', 30)\n",
      "('CAT CONEHEADS', 30)\n",
      "('DOGMA FAMILY', 30)\n",
      "('ENGLISH BULWORTH', 30)\n",
      "('FROST HEAD', 30)\n",
      "('GRAFFITI LOVE', 30)\n",
      "('HARRY IDAHO', 30)\n",
      "('IDOLS SNATCHERS', 30)\n",
      "('MARRIED GO', 30)\n",
      "('MASSACRE USUAL', 30)\n",
      "('MUSCLE BRIGHT', 30)\n",
      "('PULP BEVERLY', 30)\n",
      "('RUGRATS SHAKESPEARE', 30)\n",
      "('SHOCK CABIN', 30)\n",
      "('SUSPECTS QUILLS', 30)\n",
      "('WITCHES PANIC', 30)\n",
      "('BINGO TALENTED', 29)\n",
      "('BOOGIE AMELIE', 29)\n",
      "('CONFIDENTIAL INTERVIEW', 29)\n",
      "('DEER VIRGINIAN', 29)\n",
      "('ENEMY ODDS', 29)\n",
      "('FAMILY SWEET', 29)\n",
      "('GLEAMING JAWBREAKER', 29)\n",
      "('GREATEST NORTH', 29)\n",
      "('MOON BUNCH', 29)\n",
      "('STORM HAPPINESS', 29)\n",
      "('SWEETHEARTS SUSPECTS', 29)\n",
      "('TALENTED HOMICIDE', 29)\n",
      "('TITANS JERK', 29)\n",
      "('VIDEOTAPE ARSENIC', 29)\n",
      "('VIRGINIAN PLUTO', 29)\n",
      "('CLOSER BANG', 28)\n",
      "('EXPENDABLE STALLION', 28)\n",
      "('FATAL HAUNTED', 28)\n",
      "('GIANT TROOPERS', 28)\n",
      "('GILMORE BOILED', 28)\n",
      "('HANDICAP BOONDOCK', 28)\n",
      "('ROSES TREASURE', 28)\n",
      "('SATURDAY LAMBS', 28)\n",
      "('STORY SIDE', 28)\n",
      "('TRIP NEWTON', 28)\n",
      "('VOYAGE LEGALLY', 28)\n",
      "('BLACKOUT PRIVATE', 27)\n",
      "('CAMELOT VACATION', 27)\n",
      "('CHANCE RESURRECTION', 27)\n",
      "('CURTAIN VIDEOTAPE', 27)\n",
      "('DANCING FEVER', 27)\n",
      "('DETECTIVE VISION', 27)\n",
      "('DORADO NOTTING', 27)\n",
      "('FORRESTER COMANCHEROS', 27)\n",
      "('GANGS PRIDE', 27)\n",
      "('GOLDMINE TYCOON', 27)\n",
      "('HORROR REIGN', 27)\n",
      "('INVASION CYCLONE', 27)\n",
      "('LIES TREATMENT', 27)\n",
      "('LOATHING LEGALLY', 27)\n",
      "('LOSE INCH', 27)\n",
      "('MOVIE SHAKESPEARE', 27)\n",
      "('NONE SPIKING', 27)\n",
      "('OPERATION OPERATION', 27)\n",
      "('PRIMARY GLASS', 27)\n",
      "('PRINCESS GIANT', 27)\n",
      "('RANGE MOONWALKER', 27)\n",
      "('SPY MILE', 27)\n",
      "('SWARM GOLD', 27)\n",
      "('TELEGRAPH VOYAGE', 27)\n",
      "('TORQUE BOUND', 27)\n",
      "('WARDROBE PHANTOM', 27)\n",
      "('ALASKA PHANTOM', 26)\n",
      "('BROTHERHOOD BLANKET', 26)\n",
      "('COMA HEAD', 26)\n",
      "('CONTACT ANONYMOUS', 26)\n",
      "('DISTURBING SCARFACE', 26)\n",
      "('DURHAM PANKY', 26)\n",
      "('FANTASY TROOPERS', 26)\n",
      "('FELLOWSHIP AUTUMN', 26)\n",
      "('HALF OUTFIELD', 26)\n",
      "('HANKY OCTOBER', 26)\n",
      "('HYDE DOCTOR', 26)\n",
      "('INNOCENT USUAL', 26)\n",
      "('ISLAND EXORCIST', 26)\n",
      "('MALKOVICH PET', 26)\n",
      "('METROPOLIS COMA', 26)\n",
      "('PELICAN COMFORTS', 26)\n",
      "('PITY BOUND', 26)\n",
      "('POCUS PULP', 26)\n",
      "('SEABISCUIT PUNK', 26)\n",
      "('STAGECOACH ARMAGEDDON', 26)\n",
      "('TIGHTS DAWN', 26)\n",
      "('TRACY CIDER', 26)\n",
      "('VELVET TERMINATOR', 26)\n",
      "('WESTWARD SEABISCUIT', 26)\n",
      "('BARBARELLA STREETCAR', 25)\n",
      "('CLASH FREDDY', 25)\n",
      "('CLUELESS BUCKET', 25)\n",
      "('CONEHEADS SMOOCHY', 25)\n",
      "('DOUBLE WRATH', 25)\n",
      "('DOWNHILL ENOUGH', 25)\n",
      "('DYNAMITE TARZAN', 25)\n",
      "('EFFECT GLADIATOR', 25)\n",
      "('ESCAPE METROPOLIS', 25)\n",
      "('FEUD FROGMEN', 25)\n",
      "('FISH OPUS', 25)\n",
      "('GUN BONNIE', 25)\n",
      "('HILLS NEIGHBORS', 25)\n",
      "('MADNESS ATTACKS', 25)\n",
      "('MALLRATS UNITED', 25)\n",
      "('METAL ARMAGEDDON', 25)\n",
      "('NIGHTMARE CHILL', 25)\n",
      "('OSCAR GOLD', 25)\n",
      "('SAMURAI LION', 25)\n",
      "('SHEPHERD MIDSUMMER', 25)\n",
      "('SHOW LORD', 25)\n",
      "('STREETCAR INTENTIONS', 25)\n",
      "('SUN CONFESSIONS', 25)\n",
      "('TELEMARK HEARTBREAKERS', 25)\n",
      "('TOMORROW HUSTLER', 25)\n",
      "('TRADING PINOCCHIO', 25)\n",
      "('WORKING MICROCOSMOS', 25)\n",
      "('ALAMO VIDEOTAPE', 24)\n",
      "('ARACHNOPHOBIA ROLLERCOASTER', 24)\n",
      "('ATLANTIS CAUSE', 24)\n",
      "('ATTRACTION NEWTON', 24)\n",
      "('BOUND CHEAPER', 24)\n",
      "('CAPER MOTIONS', 24)\n",
      "('CELEBRITY HORN', 24)\n",
      "('CENTER DINOSAUR', 24)\n",
      "('COLOR PHILADELPHIA', 24)\n",
      "('DRIFTER COMMANDMENTS', 24)\n",
      "('FARGO GANDHI', 24)\n",
      "('GOLDFINGER SENSIBILITY', 24)\n",
      "('GUNFIGHT MOON', 24)\n",
      "('HORN WORKING', 24)\n",
      "('HURRICANE AFFAIR', 24)\n",
      "('ICE CROSSING', 24)\n",
      "('JASON TRAP', 24)\n",
      "('JUMPING WRATH', 24)\n",
      "('KNOCK WARLOCK', 24)\n",
      "('LOLA AGENT', 24)\n",
      "('MAIDEN HOME', 24)\n",
      "('MOCKINGBIRD HOLLYWOOD', 24)\n",
      "('ORANGE GRAPES', 24)\n",
      "('OZ LIAISONS', 24)\n",
      "('PACIFIC AMISTAD', 24)\n",
      "('ROMAN PUNK', 24)\n",
      "('SEATTLE EXPECATIONS', 24)\n",
      "('SHOOTIST SUPERFLY', 24)\n",
      "('SLEEPING SUSPECTS', 24)\n",
      "('SLUMS DUCK', 24)\n",
      "('STRANGELOVE DESIRE', 24)\n",
      "('SUNRISE LEAGUE', 24)\n",
      "('WEDDING APOLLO', 24)\n",
      "('ACADEMY DINOSAUR', 23)\n",
      "('AFFAIR PREJUDICE', 23)\n",
      "('ALADDIN CALENDAR', 23)\n",
      "('BALLOON HOMEWARD', 23)\n",
      "('CANDLES GRAPES', 23)\n",
      "('CARRIE BUNCH', 23)\n",
      "('CROOKED FROGMEN', 23)\n",
      "('CUPBOARD SINNERS', 23)\n",
      "('EARTH VISION', 23)\n",
      "('EASY GLADIATOR', 23)\n",
      "('FLAMINGOS CONNECTICUT', 23)\n",
      "('FOOL MOCKINGBIRD', 23)\n",
      "('FREDDY STORM', 23)\n",
      "('GENTLEMEN STAGE', 23)\n",
      "('HEAVYWEIGHTS BEAST', 23)\n",
      "('HOUSE DYNAMITE', 23)\n",
      "('KARATE MOON', 23)\n",
      "('KWAI HOMEWARD', 23)\n",
      "('MURDER ANTITRUST', 23)\n",
      "('NAME DETECTIVE', 23)\n",
      "('OTHERS SOUP', 23)\n",
      "('OUTBREAK DIVINE', 23)\n",
      "('PATTON INTERVIEW', 23)\n",
      "('PHILADELPHIA WIFE', 23)\n",
      "('SALUTE APOLLO', 23)\n",
      "('SCORPION APOLLO', 23)\n",
      "('SNOWMAN ROLLERCOASTER', 23)\n",
      "('STEEL SANTA', 23)\n",
      "('STRICTLY SCARFACE', 23)\n",
      "('TITANIC BOONDOCK', 23)\n",
      "('TROUBLE DATE', 23)\n",
      "('TRUMAN CRAZY', 23)\n",
      "('WASH HEAVENLY', 23)\n",
      "('WIND PHANTOM', 23)\n",
      "('WOMEN DORADO', 23)\n",
      "('YENTL IDAHO', 23)\n",
      "('ALIEN CENTER', 22)\n",
      "('ALTER VICTORY', 22)\n",
      "('AMERICAN CIRCUS', 22)\n",
      "('ANGELS LIFE', 22)\n",
      "('ANNIE IDENTITY', 22)\n",
      "('BANGER PINOCCHIO', 22)\n",
      "('BEAR GRACELAND', 22)\n",
      "('BEAUTY GREASE', 22)\n",
      "('BLADE POLISH', 22)\n",
      "('BORROWERS BEDAZZLED', 22)\n",
      "('CHICKEN HELLFIGHTERS', 22)\n",
      "('CHILL LUCK', 22)\n",
      "('CONGENIALITY QUEST', 22)\n",
      "('DREAM PICKUP', 22)\n",
      "('EAGLES PANKY', 22)\n",
      "('FALCON VOLUME', 22)\n",
      "('FIGHT JAWBREAKER', 22)\n",
      "('FLATLINERS KILLER', 22)\n",
      "('GRAPES FURY', 22)\n",
      "('HAUNTING PIANIST', 22)\n",
      "('HEAD STRANGER', 22)\n",
      "('HIGH ENCINO', 22)\n",
      "('HOMICIDE PEACH', 22)\n",
      "('HUSTLER PARTY', 22)\n",
      "('KISS GLORY', 22)\n",
      "('LIAISONS SWEET', 22)\n",
      "('MALTESE HOPE', 22)\n",
      "('MIDSUMMER GROUNDHOG', 22)\n",
      "('PACKER MADIGAN', 22)\n",
      "('QUEEN LUKE', 22)\n",
      "('SEA VIRGIN', 22)\n",
      "('SHAKESPEARE SADDLE', 22)\n",
      "('SINNERS ATLANTIS', 22)\n",
      "('SNATCH SLIPPER', 22)\n",
      "('SOUTH WAIT', 22)\n",
      "('TOURIST PELICAN', 22)\n",
      "('VOLCANO TEXAS', 22)\n",
      "('WHISPERER GIANT', 22)\n",
      "('WONDERLAND CHRISTMAS', 22)\n",
      "('AGENT TRUMAN', 21)\n",
      "('AMADEUS HOLY', 21)\n",
      "('AMISTAD MIDSUMMER', 21)\n",
      "('ANACONDA CONFESSIONS', 21)\n",
      "('ARIZONA BANG', 21)\n",
      "('ARMAGEDDON LOST', 21)\n",
      "('BADMAN DAWN', 21)\n",
      "('BASIC EASY', 21)\n",
      "('BERETS AGENT', 21)\n",
      "('BEVERLY OUTLAW', 21)\n",
      "('BLUES INSTINCT', 21)\n",
      "('BROOKLYN DESERT', 21)\n",
      "('CALENDAR GUNFIGHT', 21)\n",
      "('CAUSE DATE', 21)\n",
      "('CHAINSAW UPTOWN', 21)\n",
      "('CHARIOTS CONSPIRACY', 21)\n",
      "('CHRISTMAS MOONSHINE', 21)\n",
      "('COAST RAINBOW', 21)\n",
      "('CROSSROADS CASUALTIES', 21)\n",
      "('DECEIVER BETRAYED', 21)\n",
      "('DIVIDE MONSTER', 21)\n",
      "('DOOM DANCING', 21)\n",
      "('DRACULA CRYSTAL', 21)\n",
      "('DRIVING POLISH', 21)\n",
      "('EGG IGBY', 21)\n",
      "('EMPIRE MALKOVICH', 21)\n",
      "('EXCITEMENT EVE', 21)\n",
      "('FIDELITY DEVIL', 21)\n",
      "('FIREBALL PHILADELPHIA', 21)\n",
      "('GHOST GROUNDHOG', 21)\n",
      "('GREASE YOUTH', 21)\n",
      "('HIGHBALL POTTER', 21)\n",
      "('LEBOWSKI SOLDIERS', 21)\n",
      "('MOONSHINE CABIN', 21)\n",
      "('MOURNING PURPLE', 21)\n",
      "('OPEN AFRICAN', 21)\n",
      "('PIANIST OUTFIELD', 21)\n",
      "('PIRATES ROXANNE', 21)\n",
      "('RESURRECTION SILVERADO', 21)\n",
      "('SABRINA MIDNIGHT', 21)\n",
      "('SECRET GROUNDHOG', 21)\n",
      "('SLEEPY JAPANESE', 21)\n",
      "('SLEUTH ORIENT', 21)\n",
      "('SPLENDOR PATTON', 21)\n",
      "('STAR OPERATION', 21)\n",
      "('STING PERSONAL', 21)\n",
      "('SUIT WALLS', 21)\n",
      "('UNBREAKABLE KARATE', 21)\n",
      "('UNDEFEATED DALMATIONS', 21)\n",
      "('VACATION BOONDOCK', 21)\n",
      "('WAIT CIDER', 21)\n",
      "('WOLVES DESIRE', 21)\n",
      "('BRINGING HYSTERICAL', 20)\n",
      "('CHASING FIGHT', 20)\n",
      "('CHEAPER CLYDE', 20)\n",
      "('CHOCOLAT HARRY', 20)\n",
      "('DALMATIONS SWEDEN', 20)\n",
      "('DINOSAUR SECRETARY', 20)\n",
      "('FLYING HOOK', 20)\n",
      "('GARDEN ISLAND', 20)\n",
      "('GO PURPLE', 20)\n",
      "('HARPER DYING', 20)\n",
      "('HEARTBREAKERS BRIGHT', 20)\n",
      "('HELLFIGHTERS SIERRA', 20)\n",
      "('HUNCHBACK IMPOSSIBLE', 20)\n",
      "('INSIDER ARIZONA', 20)\n",
      "('INTERVIEW LIAISONS', 20)\n",
      "('INTRIGUE WORST', 20)\n",
      "('JERK PAYCHECK', 20)\n",
      "('JET NEIGHBORS', 20)\n",
      "('KICK SAVANNAH', 20)\n",
      "('KISSING DOLLS', 20)\n",
      "('LOVE SUICIDES', 20)\n",
      "('MASKED BUBBLE', 20)\n",
      "('MILLION ACE', 20)\n",
      "('MINDS TRUMAN', 20)\n",
      "('MONEY HAROLD', 20)\n",
      "('NORTHWEST POLISH', 20)\n",
      "('OUTFIELD MASSACRE', 20)\n",
      "('PEAK FOREVER', 20)\n",
      "('PINOCCHIO SIMON', 20)\n",
      "('PREJUDICE OLEANDER', 20)\n",
      "('QUEST MUSSOLINI', 20)\n",
      "('REDEMPTION COMFORTS', 20)\n",
      "('REIGN GENTLEMEN', 20)\n",
      "('REUNION WITCHES', 20)\n",
      "('RIVER OUTLAW', 20)\n",
      "('ROOM ROMAN', 20)\n",
      "('SECRETS PARADISE', 20)\n",
      "('SLEEPLESS MONSOON', 20)\n",
      "('SPICE SORORITY', 20)\n",
      "('STEPMOM DREAM', 20)\n",
      "('STRAIGHT HOURS', 20)\n",
      "('TRAMP OTHERS', 20)\n",
      "('WRONG BEHAVIOR', 20)\n",
      "('BACKLASH UNDEFEATED', 19)\n",
      "('BILL OTHERS', 19)\n",
      "('BRIDE INTRIGUE', 19)\n",
      "('CAMPUS REMEMBER', 19)\n",
      "('CANYON STOCK', 19)\n",
      "('CIDER DESIRE', 19)\n",
      "('CLONES PINOCCHIO', 19)\n",
      "('CLUB GRAFFITI', 19)\n",
      "('DESERT POSEIDON', 19)\n",
      "('DETAILS PACKER', 19)\n",
      "('DISCIPLE MOTHER', 19)\n",
      "('DOORS PRESIDENT', 19)\n",
      "('EARRING INSTINCT', 19)\n",
      "('ENCINO ELF', 19)\n",
      "('ENCOUNTERS CURTAIN', 19)\n",
      "('EYES DRIVING', 19)\n",
      "('FANTASIA PARK', 19)\n",
      "('FICTION CHRISTMAS', 19)\n",
      "('FURY MURDER', 19)\n",
      "('GABLES METROPOLIS', 19)\n",
      "('GORGEOUS BINGO', 19)\n",
      "('HANGING DEEP', 19)\n",
      "('HONEY TIES', 19)\n",
      "('HOURS RAGE', 19)\n",
      "('IGBY MAKER', 19)\n",
      "('INDEPENDENCE HOTEL', 19)\n",
      "('JEDI BENEATH', 19)\n",
      "('MARS ROMAN', 19)\n",
      "('MINE TITANS', 19)\n",
      "('MUSIC BOONDOCK', 19)\n",
      "('NATIONAL STORY', 19)\n",
      "('NEIGHBORS CHARADE', 19)\n",
      "('NOVOCAINE FLIGHT', 19)\n",
      "('PATIENT SISTER', 19)\n",
      "('POND SEATTLE', 19)\n",
      "('RAGE GAMES', 19)\n",
      "('REQUIEM TYCOON', 19)\n",
      "('ROAD ROXANNE', 19)\n",
      "('ROXANNE REBEL', 19)\n",
      "('SHAWSHANK BUBBLE', 19)\n",
      "('SOMETHING DUCK', 19)\n",
      "('SUNDANCE INVASION', 19)\n",
      "('THIEF PELICAN', 19)\n",
      "('TROJAN TOMORROW', 19)\n",
      "('VOICE PEACH', 19)\n",
      "('AIRPORT POLLOCK', 18)\n",
      "('ALONE TRIP', 18)\n",
      "('BAREFOOT MANCHURIAN', 18)\n",
      "('BIRDS PERDITION', 18)\n",
      "('BOULEVARD MOB', 18)\n",
      "('CANDIDATE PERDITION', 18)\n",
      "('CAROL TEXAS', 18)\n",
      "('CLEOPATRA DEVIL', 18)\n",
      "('CORE SUIT', 18)\n",
      "('DARN FORRESTER', 18)\n",
      "('DAWN POND', 18)\n",
      "('DRAGONFLY STRANGERS', 18)\n",
      "('DRIVER ANNIE', 18)\n",
      "('ENOUGH RAGING', 18)\n",
      "('EXPECATIONS NATURAL', 18)\n",
      "('FORREST SONS', 18)\n",
      "('GALAXY SWEETHEARTS', 18)\n",
      "('GROOVE FICTION', 18)\n",
      "('GROUNDHOG UNCUT', 18)\n",
      "('HEAVEN FREEDOM', 18)\n",
      "('HOPE TOOTSIE', 18)\n",
      "('INCH JET', 18)\n",
      "('INSECTS STONE', 18)\n",
      "('INSTINCT AIRPORT', 18)\n",
      "('JACKET FRISCO', 18)\n",
      "('JADE BUNCH', 18)\n",
      "('LION UNCUT', 18)\n",
      "('MISSION ZOOLANDER', 18)\n",
      "('PARADISE SABRINA', 18)\n",
      "('POLISH BROOKLYN', 18)\n",
      "('POLLOCK DELIVERANCE', 18)\n",
      "('RACER EGG', 18)\n",
      "('REMEMBER DIARY', 18)\n",
      "('ROUGE SQUAD', 18)\n",
      "('SCARFACE BANG', 18)\n",
      "('SECRETARY ROUGE', 18)\n",
      "('SMOKING BARBARELLA', 18)\n",
      "('SWEDEN SHINING', 18)\n",
      "('UNFORGIVEN ZOOLANDER', 18)\n",
      "('VANISHING ROCKY', 18)\n",
      "('WEEKEND PERSONAL', 18)\n",
      "('WHALE BIKINI', 18)\n",
      "('WONKA SEA', 18)\n",
      "('BEACH HEARTBREAKERS', 17)\n",
      "('BIKINI BORROWERS', 17)\n",
      "('BREAKFAST GOLDFINGER', 17)\n",
      "('COMFORTS RUSH', 17)\n",
      "('CONFUSED CANDLES', 17)\n",
      "('CONVERSATION DOWNHILL', 17)\n",
      "('DYING MAKER', 17)\n",
      "('EGYPT TENENBAUMS', 17)\n",
      "('FACTORY DRAGON', 17)\n",
      "('FERRIS MOTHER', 17)\n",
      "('FLINTSTONES HAPPINESS', 17)\n",
      "('FREAKY POCUS', 17)\n",
      "('FRENCH HOLIDAY', 17)\n",
      "('GANDHI KWAI', 17)\n",
      "('GREEK EVERYONE', 17)\n",
      "('HANOVER GALAXY', 17)\n",
      "('HOLOCAUST HIGHBALL', 17)\n",
      "('IDAHO LOVE', 17)\n",
      "('INTENTIONS EMPIRE', 17)\n",
      "('JEKYLL FROGMEN', 17)\n",
      "('JERICHO MULAN', 17)\n",
      "('JOON NORTHWEST', 17)\n",
      "('LADY STAGE', 17)\n",
      "('LAWLESS VISION', 17)\n",
      "('LEAGUE HELLFIGHTERS', 17)\n",
      "('LOUISIANA HARRY', 17)\n",
      "('MAJESTIC FLOATS', 17)\n",
      "('MASK PEACH', 17)\n",
      "('MIDNIGHT WESTWARD', 17)\n",
      "('MUSKETEERS WAIT', 17)\n",
      "('NEWTON LABYRINTH', 17)\n",
      "('NOON PAPI', 17)\n",
      "('ORIENT CLOSER', 17)\n",
      "('PERFECT GROOVE', 17)\n",
      "('POSEIDON FOREVER', 17)\n",
      "('POTTER CONNECTICUT', 17)\n",
      "('REAR TRADING', 17)\n",
      "('ROCK INSTINCT', 17)\n",
      "('ROOTS REMEMBER', 17)\n",
      "('SATISFACTION CONFIDENTIAL', 17)\n",
      "('SLACKER LIAISONS', 17)\n",
      "('STRANGERS GRAFFITI', 17)\n",
      "('SUGAR WONKA', 17)\n",
      "('TAXI KICK', 17)\n",
      "('TEEN APOLLO', 17)\n",
      "('UNITED PILOT', 17)\n",
      "('VIRGIN DAISY', 17)\n",
      "('WATERFRONT DELIVERANCE', 17)\n",
      "('ZOOLANDER FICTION', 17)\n"
     ]
    }
   ],
   "source": [
    "db(\"\"\"\n",
    "SELECT AVG(alugueis_por_filme.Numero_de_Alugueis) AS Media_De_Alugueis\n",
    "FROM (\n",
    "    SELECT COUNT(rental.rental_id) AS Numero_de_Alugueis\n",
    "    FROM rental\n",
    "    JOIN inventory ON rental.inventory_id = inventory.inventory_id\n",
    "    GROUP BY inventory.film_id\n",
    ") AS alugueis_por_filme;\n",
    "\"\"\")\n",
    "db(\"\"\"\n",
    "SELECT film.film_id, film.title AS Titulo, \n",
    "COUNT(rental.rental_id) AS Numero_de_Alugueis\n",
    "FROM film\n",
    "JOIN inventory ON film.film_id = inventory.film_id\n",
    "JOIN rental ON inventory.inventory_id = rental.inventory_id\n",
    "GROUP BY film.film_id, film.title;\n",
    "\n",
    "\"\"\")\n",
    "db(\"\"\"\n",
    "SELECT f.title AS Titulo, \n",
    "COUNT(r.rental_id) AS Numero_de_Alugueis\n",
    "FROM film f\n",
    "JOIN inventory i ON f.film_id = i.film_id\n",
    "JOIN rental r ON i.inventory_id = r.inventory_id\n",
    "GROUP BY f.title\n",
    "HAVING COUNT(r.rental_id) > (\n",
    "    SELECT AVG(alugueis_por_filme.Numero_de_Alugueis) AS Media_De_Alugueis\n",
    "    FROM (\n",
    "        SELECT COUNT(rental.rental_id) AS Numero_de_Alugueis\n",
    "        FROM rental\n",
    "        JOIN inventory ON rental.inventory_id = inventory.inventory_id\n",
    "        GROUP BY inventory.film_id\n",
    "    ) AS alugueis_por_filme\n",
    ")\n",
    "ORDER BY Numero_de_Alugueis DESC;\n",
    "\n",
    "\"\"\")"
   ]
  },
  {
   "cell_type": "markdown",
   "metadata": {
    "tags": []
   },
   "source": [
    "## Views\n",
    "\n",
    "Uma *view* é uma tabela virtual, construida a partir de um comando `SELECT`. Por exemplo: execute o código a seguir."
   ]
  },
  {
   "cell_type": "code",
   "execution_count": 10,
   "metadata": {},
   "outputs": [
    {
     "name": "stdout",
     "output_type": "stream",
     "text": [
      "Executando query:\n",
      "Executando query:\n"
     ]
    }
   ],
   "source": [
    "db(\"\"\"\n",
    "DROP VIEW IF EXISTS movie_count;\n",
    "\"\"\")\n",
    "\n",
    "db(\"\"\"\n",
    "CREATE VIEW movie_count AS\n",
    "    SELECT \n",
    "        title, COUNT(rental_id) as cnt\n",
    "    FROM\n",
    "        film\n",
    "        LEFT OUTER JOIN inventory USING (film_id)\n",
    "        LEFT OUTER JOIN rental USING (inventory_id)\n",
    "    GROUP BY\n",
    "        film_id\n",
    "    ORDER BY\n",
    "        cnt ASC;\n",
    "\"\"\")"
   ]
  },
  {
   "cell_type": "markdown",
   "metadata": {},
   "source": [
    "Agora temos uma *view* chamada `movie_count`. Vamos verificar que ela funcionou, listando as 30 primeiras linhas:"
   ]
  },
  {
   "cell_type": "code",
   "execution_count": 11,
   "metadata": {},
   "outputs": [
    {
     "name": "stdout",
     "output_type": "stream",
     "text": [
      "Executando query:\n",
      "('ALICE FANTASIA', 0)\n",
      "('APOLLO TEEN', 0)\n",
      "('ARGONAUTS TOWN', 0)\n",
      "('ARK RIDGEMONT', 0)\n",
      "('ARSENIC INDEPENDENCE', 0)\n",
      "('BOONDOCK BALLROOM', 0)\n",
      "('BUTCH PANTHER', 0)\n",
      "('CATCH AMISTAD', 0)\n",
      "('CHINATOWN GLADIATOR', 0)\n",
      "('CHOCOLATE DUCK', 0)\n",
      "('COMMANDMENTS EXPRESS', 0)\n",
      "('CROSSING DIVORCE', 0)\n",
      "('CROWDS TELEMARK', 0)\n",
      "('CRYSTAL BREAKING', 0)\n",
      "('DAZED PUNK', 0)\n",
      "('DELIVERANCE MULHOLLAND', 0)\n",
      "('FIREHOUSE VIETNAM', 0)\n",
      "('FLOATS GARDEN', 0)\n",
      "('FRANKENSTEIN STRANGER', 0)\n",
      "('GLADIATOR WESTWARD', 0)\n",
      "('GUMP DATE', 0)\n",
      "('HATE HANDICAP', 0)\n",
      "('HOCUS FRIDA', 0)\n",
      "('KENTUCKIAN GIANT', 0)\n",
      "('KILL BROTHERHOOD', 0)\n",
      "('MUPPET MILE', 0)\n",
      "('ORDER BETRAYED', 0)\n",
      "('PEARL DESTINY', 0)\n",
      "('PERDITION FARGO', 0)\n",
      "('PSYCHO SHRUNK', 0)\n"
     ]
    }
   ],
   "source": [
    "db(\"\"\"\n",
    "SELECT \n",
    "    *\n",
    "FROM\n",
    "    movie_count \n",
    "LIMIT \n",
    "    30\n",
    "\"\"\")"
   ]
  },
  {
   "cell_type": "code",
   "execution_count": 12,
   "metadata": {},
   "outputs": [
    {
     "name": "stdout",
     "output_type": "stream",
     "text": [
      "Executando query:\n",
      "('BUCKET BROTHERHOOD', 34)\n",
      "('ROCKETEER MOTHER', 33)\n",
      "('SCALAWAG DUCK', 32)\n",
      "('RIDGEMONT SUBMARINE', 32)\n",
      "('JUGGLER HARDLY', 32)\n",
      "('GRIT CLOCKWORK', 32)\n",
      "('FORWARD TEMPLE', 32)\n",
      "('ZORRO ARK', 31)\n",
      "('WIFE TURN', 31)\n",
      "('TIMBERLAND SKY', 31)\n",
      "('RUSH GOODFELLAS', 31)\n",
      "('ROBBERS JOON', 31)\n",
      "('NETWORK PEAK', 31)\n",
      "('HOBBIT ALIEN', 31)\n",
      "('GOODFELLAS SALUTE', 31)\n",
      "('APACHE DIVINE', 31)\n",
      "('WITCHES PANIC', 30)\n",
      "('SUSPECTS QUILLS', 30)\n",
      "('SHOCK CABIN', 30)\n",
      "('RUGRATS SHAKESPEARE', 30)\n",
      "('PULP BEVERLY', 30)\n",
      "('MUSCLE BRIGHT', 30)\n",
      "('MASSACRE USUAL', 30)\n",
      "('MARRIED GO', 30)\n",
      "('IDOLS SNATCHERS', 30)\n",
      "('HARRY IDAHO', 30)\n",
      "('GRAFFITI LOVE', 30)\n",
      "('FROST HEAD', 30)\n",
      "('ENGLISH BULWORTH', 30)\n",
      "('DOGMA FAMILY', 30)\n"
     ]
    }
   ],
   "source": [
    "db(\"\"\"\n",
    "SELECT \n",
    "    * \n",
    "FROM \n",
    "    movie_count \n",
    "ORDER BY\n",
    "    cnt DESC\n",
    "LIMIT 30\n",
    "\"\"\")"
   ]
  },
  {
   "cell_type": "markdown",
   "metadata": {},
   "source": [
    "Agora suponha que alteramos a tabela `film`, mudando o nome do filme \"DAZED PUNK\" para \"STONED PUNK\".\n",
    "\n",
    "**Atividade**: Do it."
   ]
  },
  {
   "cell_type": "code",
   "execution_count": 13,
   "metadata": {},
   "outputs": [
    {
     "name": "stdout",
     "output_type": "stream",
     "text": [
      "Executando query:\n"
     ]
    }
   ],
   "source": [
    "db(\"\"\"\n",
    "-- SUA QUERY AQUI!\n",
    "\"\"\")"
   ]
  },
  {
   "cell_type": "markdown",
   "metadata": {},
   "source": [
    "Verifique agora a nossa *view*:"
   ]
  },
  {
   "cell_type": "code",
   "execution_count": 14,
   "metadata": {},
   "outputs": [
    {
     "name": "stdout",
     "output_type": "stream",
     "text": [
      "Executando query:\n",
      "('ALICE FANTASIA', 0)\n",
      "('APOLLO TEEN', 0)\n",
      "('ARGONAUTS TOWN', 0)\n",
      "('ARK RIDGEMONT', 0)\n",
      "('ARSENIC INDEPENDENCE', 0)\n",
      "('BOONDOCK BALLROOM', 0)\n",
      "('BUTCH PANTHER', 0)\n",
      "('CATCH AMISTAD', 0)\n",
      "('CHINATOWN GLADIATOR', 0)\n",
      "('CHOCOLATE DUCK', 0)\n",
      "('COMMANDMENTS EXPRESS', 0)\n",
      "('CROSSING DIVORCE', 0)\n",
      "('CROWDS TELEMARK', 0)\n",
      "('CRYSTAL BREAKING', 0)\n",
      "('DAZED PUNK', 0)\n",
      "('DELIVERANCE MULHOLLAND', 0)\n",
      "('FIREHOUSE VIETNAM', 0)\n",
      "('FLOATS GARDEN', 0)\n",
      "('FRANKENSTEIN STRANGER', 0)\n",
      "('GLADIATOR WESTWARD', 0)\n",
      "('GUMP DATE', 0)\n",
      "('HATE HANDICAP', 0)\n",
      "('HOCUS FRIDA', 0)\n",
      "('KENTUCKIAN GIANT', 0)\n",
      "('KILL BROTHERHOOD', 0)\n",
      "('MUPPET MILE', 0)\n",
      "('ORDER BETRAYED', 0)\n",
      "('PEARL DESTINY', 0)\n",
      "('PERDITION FARGO', 0)\n",
      "('PSYCHO SHRUNK', 0)\n"
     ]
    }
   ],
   "source": [
    "db(\"\"\"\n",
    "SELECT\n",
    "    *\n",
    "FROM\n",
    "    movie_count\n",
    "LIMIT\n",
    "    30\n",
    "\"\"\")"
   ]
  },
  {
   "cell_type": "markdown",
   "metadata": {},
   "source": [
    "Como você pode ver, as views são tabelas virtuais que são **automaticamente atualizadas quando as tabelas originais são modificadas**.\n",
    "\n",
    "Sempre que você realizar modificações nos dados, dê `commit` ou `rollback`. Ainda, evite executar múltiplas vezes as linhas de código que criem a conexão sem antes ter fechado a conexão ativa.\n",
    "\n",
    "Vamos desfazer as alterações:"
   ]
  },
  {
   "cell_type": "code",
   "execution_count": 15,
   "metadata": {},
   "outputs": [],
   "source": [
    "connection.rollback()"
   ]
  },
  {
   "cell_type": "markdown",
   "metadata": {},
   "source": [
    "Conferindo:"
   ]
  },
  {
   "cell_type": "code",
   "execution_count": 16,
   "metadata": {},
   "outputs": [
    {
     "name": "stdout",
     "output_type": "stream",
     "text": [
      "Executando query:\n",
      "('ALICE FANTASIA', 0)\n",
      "('APOLLO TEEN', 0)\n",
      "('ARGONAUTS TOWN', 0)\n",
      "('ARK RIDGEMONT', 0)\n",
      "('ARSENIC INDEPENDENCE', 0)\n",
      "('BOONDOCK BALLROOM', 0)\n",
      "('BUTCH PANTHER', 0)\n",
      "('CATCH AMISTAD', 0)\n",
      "('CHINATOWN GLADIATOR', 0)\n",
      "('CHOCOLATE DUCK', 0)\n",
      "('COMMANDMENTS EXPRESS', 0)\n",
      "('CROSSING DIVORCE', 0)\n",
      "('CROWDS TELEMARK', 0)\n",
      "('CRYSTAL BREAKING', 0)\n",
      "('DAZED PUNK', 0)\n",
      "('DELIVERANCE MULHOLLAND', 0)\n",
      "('FIREHOUSE VIETNAM', 0)\n",
      "('FLOATS GARDEN', 0)\n",
      "('FRANKENSTEIN STRANGER', 0)\n",
      "('GLADIATOR WESTWARD', 0)\n",
      "('GUMP DATE', 0)\n",
      "('HATE HANDICAP', 0)\n",
      "('HOCUS FRIDA', 0)\n",
      "('KENTUCKIAN GIANT', 0)\n",
      "('KILL BROTHERHOOD', 0)\n",
      "('MUPPET MILE', 0)\n",
      "('ORDER BETRAYED', 0)\n",
      "('PEARL DESTINY', 0)\n",
      "('PERDITION FARGO', 0)\n",
      "('PSYCHO SHRUNK', 0)\n"
     ]
    }
   ],
   "source": [
    "db(\"\"\"\n",
    "SELECT\n",
    "    *\n",
    "FROM\n",
    "    movie_count\n",
    "LIMIT\n",
    "    30\n",
    "\"\"\")"
   ]
  },
  {
   "cell_type": "markdown",
   "metadata": {},
   "source": [
    "### Vamos praticar"
   ]
  },
  {
   "cell_type": "markdown",
   "metadata": {},
   "source": [
    "Verifique quantas vezes o filme \"COWBOY DOOM\" foi alugado usando a view `movie_count`"
   ]
  },
  {
   "cell_type": "code",
   "execution_count": 17,
   "metadata": {},
   "outputs": [
    {
     "name": "stdout",
     "output_type": "stream",
     "text": [
      "Executando query:\n"
     ]
    },
    {
     "name": "stdout",
     "output_type": "stream",
     "text": [
      "(7,)\n"
     ]
    }
   ],
   "source": [
    "sql_ex03 = '''\n",
    "SELECT movie_count.cnt\n",
    "FROM movie_count\n",
    "WHERE movie_count.title = 'COWBOY DOOM';\n",
    "'''\n",
    "\n",
    "\n",
    "db(sql_ex03)"
   ]
  },
  {
   "cell_type": "code",
   "execution_count": 45,
   "metadata": {},
   "outputs": [
    {
     "data": {
      "application/vnd.jupyter.widget-view+json": {
       "model_id": "c02db71aa8f54f76bcadcfa83238b01f",
       "version_major": 2,
       "version_minor": 0
      },
      "text/plain": [
       "interactive(children=(Button(description='Enviar ex03', style=ButtonStyle()), Output()), _dom_classes=('widget…"
      ]
     },
     "metadata": {},
     "output_type": "display_data"
    }
   ],
   "source": [
    "ia.sender(answer=\"sql_ex03\", task=\"views\", question=\"ex03\", answer_type=\"pyvar\")"
   ]
  },
  {
   "cell_type": "markdown",
   "metadata": {},
   "source": [
    "Registre um aluguel do filme \"COWBOY DOOM\" (com o menor id possível), feito pelo funcionario \"Jon Stephens\" na loja id=1 para o cliente \"JESSIE BANKS\", na data '2019-01-01', com data de retorno '2019-01-08'."
   ]
  },
  {
   "cell_type": "code",
   "execution_count": 46,
   "metadata": {},
   "outputs": [
    {
     "ename": "OperationalError",
     "evalue": "MySQL Connection not available.",
     "output_type": "error",
     "traceback": [
      "\u001b[0;31m---------------------------------------------------------------------------\u001b[0m",
      "\u001b[0;31mOperationalError\u001b[0m                          Traceback (most recent call last)",
      "Input \u001b[0;32mIn [46]\u001b[0m, in \u001b[0;36m<cell line: 22>\u001b[0;34m()\u001b[0m\n\u001b[1;32m      1\u001b[0m sql_ex04 \u001b[38;5;241m=\u001b[39m \u001b[38;5;124m\"\"\"\u001b[39m\n\u001b[1;32m      2\u001b[0m \u001b[38;5;124mSELECT film_id \u001b[39m\n\u001b[1;32m      3\u001b[0m \u001b[38;5;124mFROM film \u001b[39m\n\u001b[0;32m   (...)\u001b[0m\n\u001b[1;32m     19\u001b[0m \n\u001b[1;32m     20\u001b[0m \u001b[38;5;124m\"\"\"\u001b[39m\n\u001b[0;32m---> 22\u001b[0m \u001b[43mdb\u001b[49m\u001b[43m(\u001b[49m\u001b[43msql_ex04\u001b[49m\u001b[43m)\u001b[49m\n",
      "Input \u001b[0;32mIn [1]\u001b[0m, in \u001b[0;36mrun_db_query\u001b[0;34m(connection, query, args)\u001b[0m\n\u001b[1;32m     16\u001b[0m \u001b[38;5;28;01mdef\u001b[39;00m \u001b[38;5;21mrun_db_query\u001b[39m(connection, query, args\u001b[38;5;241m=\u001b[39m\u001b[38;5;28;01mNone\u001b[39;00m):\n\u001b[0;32m---> 17\u001b[0m     \u001b[38;5;28;01mwith\u001b[39;00m \u001b[43mconnection\u001b[49m\u001b[38;5;241;43m.\u001b[39;49m\u001b[43mcursor\u001b[49m\u001b[43m(\u001b[49m\u001b[43m)\u001b[49m \u001b[38;5;28;01mas\u001b[39;00m cursor:\n\u001b[1;32m     18\u001b[0m         \u001b[38;5;28mprint\u001b[39m(\u001b[38;5;124m\"\u001b[39m\u001b[38;5;124mExecutando query:\u001b[39m\u001b[38;5;124m\"\u001b[39m)\n\u001b[1;32m     19\u001b[0m         cursor\u001b[38;5;241m.\u001b[39mexecute(query, args)\n",
      "File \u001b[0;32m/Library/Frameworks/Python.framework/Versions/3.9/lib/python3.9/site-packages/mysql/connector/connection_cext.py:728\u001b[0m, in \u001b[0;36mCMySQLConnection.cursor\u001b[0;34m(self, buffered, raw, prepared, cursor_class, dictionary, named_tuple)\u001b[0m\n\u001b[1;32m    726\u001b[0m \u001b[38;5;28mself\u001b[39m\u001b[38;5;241m.\u001b[39mhandle_unread_result(prepared)\n\u001b[1;32m    727\u001b[0m \u001b[38;5;28;01mif\u001b[39;00m \u001b[38;5;129;01mnot\u001b[39;00m \u001b[38;5;28mself\u001b[39m\u001b[38;5;241m.\u001b[39mis_connected():\n\u001b[0;32m--> 728\u001b[0m     \u001b[38;5;28;01mraise\u001b[39;00m OperationalError(\u001b[38;5;124m\"\u001b[39m\u001b[38;5;124mMySQL Connection not available.\u001b[39m\u001b[38;5;124m\"\u001b[39m)\n\u001b[1;32m    729\u001b[0m \u001b[38;5;28;01mif\u001b[39;00m cursor_class \u001b[38;5;129;01mis\u001b[39;00m \u001b[38;5;129;01mnot\u001b[39;00m \u001b[38;5;28;01mNone\u001b[39;00m:\n\u001b[1;32m    730\u001b[0m     \u001b[38;5;28;01mif\u001b[39;00m \u001b[38;5;129;01mnot\u001b[39;00m \u001b[38;5;28missubclass\u001b[39m(cursor_class, CMySQLCursor):\n",
      "\u001b[0;31mOperationalError\u001b[0m: MySQL Connection not available."
     ]
    }
   ],
   "source": [
    "sql_ex04 = \"\"\"\n",
    "SELECT film_id \n",
    "FROM film \n",
    "WHERE title = 'COWBOY DOOM';\n",
    "\n",
    "SELECT customer_id \n",
    "FROM customer \n",
    "WHERE first_name = 'JESSIE' AND last_name = 'BANKS';\n",
    "\n",
    "SELECT staff_id \n",
    "FROM staff \n",
    "WHERE first_name = 'Jon' AND last_name = 'Stephens';\n",
    "\n",
    "SELECT inventory_id \n",
    "FROM inventory \n",
    "JOIN film ON inventory.film_id = film.film_id \n",
    "WHERE film.title = 'COWBOY DOOM' AND inventory.store_id = 1 \n",
    "ORDER BY inventory_id ASC LIMIT 1;\n",
    "\n",
    "\"\"\"\n",
    "\n",
    "db(sql_ex04)"
   ]
  },
  {
   "cell_type": "code",
   "execution_count": 41,
   "metadata": {},
   "outputs": [
    {
     "ename": "OperationalError",
     "evalue": "MySQL Connection not available.",
     "output_type": "error",
     "traceback": [
      "\u001b[0;31m---------------------------------------------------------------------------\u001b[0m",
      "\u001b[0;31mOperationalError\u001b[0m                          Traceback (most recent call last)",
      "Input \u001b[0;32mIn [41]\u001b[0m, in \u001b[0;36m<cell line: 1>\u001b[0;34m()\u001b[0m\n\u001b[0;32m----> 1\u001b[0m \u001b[43mdb\u001b[49m\u001b[43m(\u001b[49m\u001b[38;5;124;43m'''\u001b[39;49m\n\u001b[1;32m      2\u001b[0m \u001b[38;5;124;43mINSERT INTO rental (rental_date, inventory_id, customer_id, return_date, staff_id)\u001b[39;49m\n\u001b[1;32m      3\u001b[0m \u001b[38;5;124;43mVALUES (\u001b[39;49m\u001b[38;5;124;43m'\u001b[39;49m\u001b[38;5;124;43m2019-01-01\u001b[39;49m\u001b[38;5;124;43m'\u001b[39;49m\u001b[38;5;124;43m, [inventory_id_obtido], [customer_id_obtido], \u001b[39;49m\u001b[38;5;124;43m'\u001b[39;49m\u001b[38;5;124;43m2019-01-08\u001b[39;49m\u001b[38;5;124;43m'\u001b[39;49m\u001b[38;5;124;43m, [staff_id_obtido]);\u001b[39;49m\n\u001b[1;32m      4\u001b[0m \n\u001b[1;32m      5\u001b[0m \u001b[38;5;124;43m'''\u001b[39;49m\u001b[43m)\u001b[49m\n",
      "Input \u001b[0;32mIn [1]\u001b[0m, in \u001b[0;36mrun_db_query\u001b[0;34m(connection, query, args)\u001b[0m\n\u001b[1;32m     16\u001b[0m \u001b[38;5;28;01mdef\u001b[39;00m \u001b[38;5;21mrun_db_query\u001b[39m(connection, query, args\u001b[38;5;241m=\u001b[39m\u001b[38;5;28;01mNone\u001b[39;00m):\n\u001b[0;32m---> 17\u001b[0m     \u001b[38;5;28;01mwith\u001b[39;00m \u001b[43mconnection\u001b[49m\u001b[38;5;241;43m.\u001b[39;49m\u001b[43mcursor\u001b[49m\u001b[43m(\u001b[49m\u001b[43m)\u001b[49m \u001b[38;5;28;01mas\u001b[39;00m cursor:\n\u001b[1;32m     18\u001b[0m         \u001b[38;5;28mprint\u001b[39m(\u001b[38;5;124m\"\u001b[39m\u001b[38;5;124mExecutando query:\u001b[39m\u001b[38;5;124m\"\u001b[39m)\n\u001b[1;32m     19\u001b[0m         cursor\u001b[38;5;241m.\u001b[39mexecute(query, args)\n",
      "File \u001b[0;32m/Library/Frameworks/Python.framework/Versions/3.9/lib/python3.9/site-packages/mysql/connector/connection_cext.py:728\u001b[0m, in \u001b[0;36mCMySQLConnection.cursor\u001b[0;34m(self, buffered, raw, prepared, cursor_class, dictionary, named_tuple)\u001b[0m\n\u001b[1;32m    726\u001b[0m \u001b[38;5;28mself\u001b[39m\u001b[38;5;241m.\u001b[39mhandle_unread_result(prepared)\n\u001b[1;32m    727\u001b[0m \u001b[38;5;28;01mif\u001b[39;00m \u001b[38;5;129;01mnot\u001b[39;00m \u001b[38;5;28mself\u001b[39m\u001b[38;5;241m.\u001b[39mis_connected():\n\u001b[0;32m--> 728\u001b[0m     \u001b[38;5;28;01mraise\u001b[39;00m OperationalError(\u001b[38;5;124m\"\u001b[39m\u001b[38;5;124mMySQL Connection not available.\u001b[39m\u001b[38;5;124m\"\u001b[39m)\n\u001b[1;32m    729\u001b[0m \u001b[38;5;28;01mif\u001b[39;00m cursor_class \u001b[38;5;129;01mis\u001b[39;00m \u001b[38;5;129;01mnot\u001b[39;00m \u001b[38;5;28;01mNone\u001b[39;00m:\n\u001b[1;32m    730\u001b[0m     \u001b[38;5;28;01mif\u001b[39;00m \u001b[38;5;129;01mnot\u001b[39;00m \u001b[38;5;28missubclass\u001b[39m(cursor_class, CMySQLCursor):\n",
      "\u001b[0;31mOperationalError\u001b[0m: MySQL Connection not available."
     ]
    }
   ],
   "source": [
    "db('''\n",
    "INSERT INTO rental (rental_date, inventory_id, customer_id, return_date, staff_id)\n",
    "VALUES ('2019-01-01', [inventory_id_obtido], [customer_id_obtido], '2019-01-08', [staff_id_obtido]);\n",
    "''')"
   ]
  },
  {
   "cell_type": "code",
   "execution_count": 21,
   "metadata": {},
   "outputs": [
    {
     "data": {
      "application/vnd.jupyter.widget-view+json": {
       "model_id": "d8cd4ded9bdc4930880e2c6ab9dbb99a",
       "version_major": 2,
       "version_minor": 0
      },
      "text/plain": [
       "interactive(children=(Button(description='Enviar ex04', style=ButtonStyle()), Output()), _dom_classes=('widget…"
      ]
     },
     "metadata": {},
     "output_type": "display_data"
    }
   ],
   "source": [
    "ia.sender(answer=\"sql_ex04\", task=\"views\", question=\"ex04\", answer_type=\"pyvar\")"
   ]
  },
  {
   "cell_type": "markdown",
   "metadata": {},
   "source": [
    "Verifique usando a view que a contagem de alugueis do filme subiu."
   ]
  },
  {
   "cell_type": "code",
   "execution_count": 22,
   "metadata": {},
   "outputs": [
    {
     "name": "stdout",
     "output_type": "stream",
     "text": [
      "Executando query:\n"
     ]
    }
   ],
   "source": [
    "db(\"\"\"\n",
    "-- SUA QUERY AQUI!\n",
    "\"\"\")"
   ]
  },
  {
   "cell_type": "markdown",
   "metadata": {},
   "source": [
    "Faça o *rollback* desta alteração, para não modificar a nossa querida base de dados *sakila*."
   ]
  },
  {
   "cell_type": "code",
   "execution_count": 23,
   "metadata": {},
   "outputs": [],
   "source": [
    "connection.rollback()"
   ]
  },
  {
   "cell_type": "markdown",
   "metadata": {},
   "source": [
    "## Tabelas temporárias"
   ]
  },
  {
   "cell_type": "markdown",
   "metadata": {},
   "source": [
    "Tabelas temporárias podem ser criadas para ajudar nas tarefas de manipulação de dados. Essas tabelas existem apenas pela duração da sessão. Para criar uma tabela temporária, basta adicionar a palavra-chave `TEMPORARY` no momento da criação.\n",
    "\n",
    "É comum criar tabelas temporárias à partir do resultado de comandos `SELECT`. Por exemplo, a seguinte query permite montar uma tabela temporária com os filmes que duram mais que 3 horas:"
   ]
  },
  {
   "cell_type": "code",
   "execution_count": 24,
   "metadata": {},
   "outputs": [
    {
     "name": "stdout",
     "output_type": "stream",
     "text": [
      "Executando query:\n",
      "Executando query:\n"
     ]
    }
   ],
   "source": [
    "db(\"\"\"\n",
    "DROP TABLE IF EXISTS long_film\n",
    "\"\"\")\n",
    "\n",
    "db(\"\"\"\n",
    "CREATE TEMPORARY TABLE long_film \n",
    "    SELECT\n",
    "        *\n",
    "    FROM\n",
    "        film\n",
    "    WHERE\n",
    "        film.length > 180;\n",
    "\"\"\")"
   ]
  },
  {
   "cell_type": "markdown",
   "metadata": {},
   "source": [
    "Podemos verificar que a tabela `long_film` agora existe:"
   ]
  },
  {
   "cell_type": "code",
   "execution_count": 25,
   "metadata": {
    "scrolled": true,
    "tags": []
   },
   "outputs": [
    {
     "name": "stdout",
     "output_type": "stream",
     "text": [
      "Executando query:\n",
      "('film_id', 'smallint unsigned', 'NO', '', '0', 'NULL')\n",
      "('title', 'varchar(128)', 'NO', '', None, 'NULL')\n",
      "('description', 'text', 'YES', '', None, 'NULL')\n",
      "('release_year', 'year', 'YES', '', None, 'NULL')\n",
      "('language_id', 'tinyint unsigned', 'NO', '', None, 'NULL')\n",
      "('original_language_id', 'tinyint unsigned', 'YES', '', None, 'NULL')\n",
      "('rental_duration', 'tinyint unsigned', 'NO', '', '3', 'NULL')\n",
      "('rental_rate', 'decimal(4,2)', 'NO', '', '4.99', 'NULL')\n",
      "('length', 'smallint unsigned', 'YES', '', None, 'NULL')\n",
      "('replacement_cost', 'decimal(5,2)', 'NO', '', '19.99', 'NULL')\n",
      "('rating', \"enum('G','PG','PG-13','R','NC-17')\", 'YES', '', 'G', 'NULL')\n",
      "('special_features', \"set('Trailers','Commentaries','Deleted Scenes','Behind the Scenes')\", 'YES', '', None, 'NULL')\n",
      "('last_update', 'timestamp', 'NO', '', 'CURRENT_TIMESTAMP', 'on update CURRENT_TIMESTAMP')\n"
     ]
    }
   ],
   "source": [
    "db(\"DESCRIBE long_film\")"
   ]
  },
  {
   "cell_type": "code",
   "execution_count": 26,
   "metadata": {},
   "outputs": [
    {
     "name": "stdout",
     "output_type": "stream",
     "text": [
      "Executando query:\n",
      "Executando query:\n",
      "('TEMPORARY',)\n"
     ]
    }
   ],
   "source": [
    "db(\"CALL sys.table_exists('sakila', 'long_film', @table_type);\")\n",
    "db(\"SELECT @table_type;\")"
   ]
  },
  {
   "cell_type": "markdown",
   "metadata": {},
   "source": [
    "Muito embora ela não apareça na lista de tabelas: isso é um bug do MySQL. (https://dev.mysql.com/worklog/task/?id=648)"
   ]
  },
  {
   "cell_type": "code",
   "execution_count": 27,
   "metadata": {},
   "outputs": [
    {
     "name": "stdout",
     "output_type": "stream",
     "text": [
      "Executando query:\n",
      "('actor',)\n",
      "('actor_info',)\n",
      "('address',)\n",
      "('category',)\n",
      "('city',)\n",
      "('country',)\n",
      "('customer',)\n",
      "('customer_list',)\n",
      "('film',)\n",
      "('film_actor',)\n",
      "('film_category',)\n",
      "('film_list',)\n",
      "('film_text',)\n",
      "('inventory',)\n",
      "('language',)\n",
      "('movie_count',)\n",
      "('nicer_but_slower_film_list',)\n",
      "('payment',)\n",
      "('rental',)\n",
      "('sales_by_film_category',)\n",
      "('sales_by_store',)\n",
      "('staff',)\n",
      "('staff_list',)\n",
      "('store',)\n"
     ]
    }
   ],
   "source": [
    "db(\"SHOW TABLES\")"
   ]
  },
  {
   "cell_type": "markdown",
   "metadata": {},
   "source": [
    "Vamos listar o conteudo desta tabela:"
   ]
  },
  {
   "cell_type": "code",
   "execution_count": 28,
   "metadata": {
    "tags": []
   },
   "outputs": [
    {
     "name": "stdout",
     "output_type": "stream",
     "text": [
      "Executando query:\n",
      "('ANALYZE HOOSIERS',)\n",
      "('BAKED CLEOPATRA',)\n",
      "('CATCH AMISTAD',)\n",
      "('CHICAGO NORTH',)\n",
      "('CONSPIRACY SPIRIT',)\n",
      "('CONTROL ANTHEM',)\n",
      "('CRYSTAL BREAKING',)\n",
      "('DARN FORRESTER',)\n",
      "('FRONTIER CABIN',)\n",
      "('GANGS PRIDE',)\n",
      "('HAUNTING PIANIST',)\n",
      "('HOME PITY',)\n",
      "('HOTEL HAPPINESS',)\n",
      "('INTRIGUE WORST',)\n",
      "('JACKET FRISCO',)\n",
      "('KING EVOLUTION',)\n",
      "('LAWLESS VISION',)\n",
      "('LOVE SUICIDES',)\n",
      "('MONSOON CAUSE',)\n",
      "('MOONWALKER FOOL',)\n",
      "('MUSCLE BRIGHT',)\n",
      "('POND SEATTLE',)\n",
      "('RECORDS ZORRO',)\n",
      "('REDS POCUS',)\n",
      "('RUNAWAY TENENBAUMS',)\n",
      "('SATURN NAME',)\n",
      "('SCALAWAG DUCK',)\n",
      "('SEARCHERS WAIT',)\n",
      "('SMOOCHY CONTROL',)\n",
      "('SOLDIERS EVOLUTION',)\n",
      "('SONS INTERVIEW',)\n",
      "('SORORITY QUEEN',)\n",
      "('STAR OPERATION',)\n",
      "('SWEET BROTHERHOOD',)\n",
      "('THEORY MERMAID',)\n",
      "('WIFE TURN',)\n",
      "('WILD APOLLO',)\n",
      "('WORST BANGER',)\n",
      "('YOUNG LANGUAGE',)\n"
     ]
    }
   ],
   "source": [
    "db(\"SELECT title FROM long_film\")"
   ]
  },
  {
   "cell_type": "markdown",
   "metadata": {},
   "source": [
    "Vamos apagar a tabela `long_film`:"
   ]
  },
  {
   "cell_type": "code",
   "execution_count": 29,
   "metadata": {},
   "outputs": [
    {
     "name": "stdout",
     "output_type": "stream",
     "text": [
      "Executando query:\n"
     ]
    }
   ],
   "source": [
    "db(\"DROP TABLE long_film\")"
   ]
  },
  {
   "cell_type": "markdown",
   "metadata": {},
   "source": [
    "### Vamos praticar"
   ]
  },
  {
   "cell_type": "markdown",
   "metadata": {},
   "source": [
    "- Crie uma tabela temporária `max_duration` que contém a duração máxima de filme para cada categoria. Apresente o id da categoria, seu nome e a duração máxima."
   ]
  },
  {
   "cell_type": "code",
   "execution_count": 30,
   "metadata": {},
   "outputs": [
    {
     "name": "stdout",
     "output_type": "stream",
     "text": [
      "Executando query:\n",
      "Executando query:\n"
     ]
    }
   ],
   "source": [
    "# Executamos o DROP apenas localmente, sem enviar ao servidor\n",
    "db(\"DROP TABLE IF EXISTS max_duration\")\n",
    "\n",
    "sql_ex05 = \"\"\"\n",
    "-- SUA QUERY AQUI!\n",
    "\"\"\"\n",
    "\n",
    "db(sql_ex05)"
   ]
  },
  {
   "cell_type": "code",
   "execution_count": 31,
   "metadata": {},
   "outputs": [
    {
     "data": {
      "application/vnd.jupyter.widget-view+json": {
       "model_id": "d4b6834b4d254306b4d3f1c19ccc71e0",
       "version_major": 2,
       "version_minor": 0
      },
      "text/plain": [
       "interactive(children=(Button(description='Enviar ex05', style=ButtonStyle()), Output()), _dom_classes=('widget…"
      ]
     },
     "metadata": {},
     "output_type": "display_data"
    }
   ],
   "source": [
    "ia.sender(answer=\"sql_ex05\", task=\"views\", question=\"ex05\", answer_type=\"pyvar\")"
   ]
  },
  {
   "cell_type": "markdown",
   "metadata": {},
   "source": [
    " - Verifique a tabela."
   ]
  },
  {
   "cell_type": "code",
   "execution_count": 47,
   "metadata": {},
   "outputs": [
    {
     "ename": "OperationalError",
     "evalue": "MySQL Connection not available.",
     "output_type": "error",
     "traceback": [
      "\u001b[0;31m---------------------------------------------------------------------------\u001b[0m",
      "\u001b[0;31mOperationalError\u001b[0m                          Traceback (most recent call last)",
      "Input \u001b[0;32mIn [47]\u001b[0m, in \u001b[0;36m<cell line: 1>\u001b[0;34m()\u001b[0m\n\u001b[0;32m----> 1\u001b[0m \u001b[43mdb\u001b[49m\u001b[43m(\u001b[49m\u001b[38;5;124;43m\"\u001b[39;49m\u001b[38;5;124;43mSELECT * FROM max_duration\u001b[39;49m\u001b[38;5;124;43m\"\u001b[39;49m\u001b[43m)\u001b[49m\n",
      "Input \u001b[0;32mIn [1]\u001b[0m, in \u001b[0;36mrun_db_query\u001b[0;34m(connection, query, args)\u001b[0m\n\u001b[1;32m     16\u001b[0m \u001b[38;5;28;01mdef\u001b[39;00m \u001b[38;5;21mrun_db_query\u001b[39m(connection, query, args\u001b[38;5;241m=\u001b[39m\u001b[38;5;28;01mNone\u001b[39;00m):\n\u001b[0;32m---> 17\u001b[0m     \u001b[38;5;28;01mwith\u001b[39;00m \u001b[43mconnection\u001b[49m\u001b[38;5;241;43m.\u001b[39;49m\u001b[43mcursor\u001b[49m\u001b[43m(\u001b[49m\u001b[43m)\u001b[49m \u001b[38;5;28;01mas\u001b[39;00m cursor:\n\u001b[1;32m     18\u001b[0m         \u001b[38;5;28mprint\u001b[39m(\u001b[38;5;124m\"\u001b[39m\u001b[38;5;124mExecutando query:\u001b[39m\u001b[38;5;124m\"\u001b[39m)\n\u001b[1;32m     19\u001b[0m         cursor\u001b[38;5;241m.\u001b[39mexecute(query, args)\n",
      "File \u001b[0;32m/Library/Frameworks/Python.framework/Versions/3.9/lib/python3.9/site-packages/mysql/connector/connection_cext.py:728\u001b[0m, in \u001b[0;36mCMySQLConnection.cursor\u001b[0;34m(self, buffered, raw, prepared, cursor_class, dictionary, named_tuple)\u001b[0m\n\u001b[1;32m    726\u001b[0m \u001b[38;5;28mself\u001b[39m\u001b[38;5;241m.\u001b[39mhandle_unread_result(prepared)\n\u001b[1;32m    727\u001b[0m \u001b[38;5;28;01mif\u001b[39;00m \u001b[38;5;129;01mnot\u001b[39;00m \u001b[38;5;28mself\u001b[39m\u001b[38;5;241m.\u001b[39mis_connected():\n\u001b[0;32m--> 728\u001b[0m     \u001b[38;5;28;01mraise\u001b[39;00m OperationalError(\u001b[38;5;124m\"\u001b[39m\u001b[38;5;124mMySQL Connection not available.\u001b[39m\u001b[38;5;124m\"\u001b[39m)\n\u001b[1;32m    729\u001b[0m \u001b[38;5;28;01mif\u001b[39;00m cursor_class \u001b[38;5;129;01mis\u001b[39;00m \u001b[38;5;129;01mnot\u001b[39;00m \u001b[38;5;28;01mNone\u001b[39;00m:\n\u001b[1;32m    730\u001b[0m     \u001b[38;5;28;01mif\u001b[39;00m \u001b[38;5;129;01mnot\u001b[39;00m \u001b[38;5;28missubclass\u001b[39m(cursor_class, CMySQLCursor):\n",
      "\u001b[0;31mOperationalError\u001b[0m: MySQL Connection not available."
     ]
    }
   ],
   "source": [
    "db(\"SELECT * FROM max_duration\")"
   ]
  },
  {
   "cell_type": "code",
   "execution_count": null,
   "metadata": {},
   "outputs": [],
   "source": [
    "db(\"DESCRIBE max_duration\")"
   ]
  },
  {
   "cell_type": "markdown",
   "metadata": {},
   "source": [
    "- Agora use a tabela temporária para construir uma consulta com as categorias e seus respectivos filmes mais longos:"
   ]
  },
  {
   "cell_type": "code",
   "execution_count": null,
   "metadata": {},
   "outputs": [],
   "source": [
    "db(\"\"\"\n",
    "SELECT\n",
    "    category_id, name, film_id, title, length\n",
    "FROM\n",
    "    film\n",
    "    INNER JOIN film_category USING (film_id)\n",
    "    INNER JOIN max_duration USING (category_id)\n",
    "WHERE\n",
    "    length = max_len\n",
    "\"\"\")"
   ]
  },
  {
   "cell_type": "markdown",
   "metadata": {},
   "source": [
    "- delete a tabela temporária"
   ]
  },
  {
   "cell_type": "code",
   "execution_count": null,
   "metadata": {},
   "outputs": [],
   "source": [
    "db(\"\"\"\n",
    "DROP TABLE max_duration\n",
    "\"\"\")"
   ]
  },
  {
   "cell_type": "markdown",
   "metadata": {
    "tags": []
   },
   "source": [
    "## Variáveis\n",
    "\n",
    "Podemos montar uma query que retorne um valor só e armazenar este valor em uma variável, para uso posterior em outras queries. Para isso vamos usar o prefixo '@' para indicar variáveis, e o comando `SELECT ... INTO`.\n",
    "\n",
    "Exemplo: quais são os filmes \"caros\" da nossa base sakila? Vamos descobrir quais filmes custam mais que um desvio padrão acima da média de preços de locação.\n",
    "\n",
    "Primeiro vamos calcular a média e o desvio padrão dos preços de aluguel:"
   ]
  },
  {
   "cell_type": "code",
   "execution_count": null,
   "metadata": {},
   "outputs": [],
   "source": [
    "db(\"\"\"\n",
    "SELECT \n",
    "    AVG(rental_rate), \n",
    "    STDDEV(rental_rate)\n",
    "INTO \n",
    "    @avg_rate, \n",
    "    @stddev_rate \n",
    "FROM\n",
    "    film;\n",
    "\"\"\")"
   ]
  },
  {
   "cell_type": "markdown",
   "metadata": {},
   "source": [
    "Note que a query não retorna um resultado: o resultado foi armazenado direto nas variáveis `@avg_rate` e `@stddev_rate`. Vamos usar um `SELECT` sem tabelas para ver o resultado:"
   ]
  },
  {
   "cell_type": "code",
   "execution_count": null,
   "metadata": {},
   "outputs": [],
   "source": [
    "db(\"SELECT @avg_rate, @stddev_rate\")"
   ]
  },
  {
   "cell_type": "markdown",
   "metadata": {},
   "source": [
    "Agora podemos selecionar os filmes caros!"
   ]
  },
  {
   "cell_type": "code",
   "execution_count": null,
   "metadata": {
    "tags": []
   },
   "outputs": [],
   "source": [
    "db(\"\"\"\n",
    "SELECT \n",
    "    title, rental_rate\n",
    "FROM\n",
    "    film\n",
    "WHERE\n",
    "    rental_rate > @avg_rate + @stddev_rate\n",
    "LIMIT 10\n",
    "\"\"\")"
   ]
  },
  {
   "cell_type": "markdown",
   "metadata": {},
   "source": [
    "### Vamos praticar"
   ]
  },
  {
   "cell_type": "markdown",
   "metadata": {},
   "source": [
    "Armazene na variável temporária `max_films` a quantidade de filmes feitos pelo ator ou atriz que mais participou de filmes."
   ]
  },
  {
   "cell_type": "code",
   "execution_count": null,
   "metadata": {},
   "outputs": [],
   "source": [
    "sql_ex06 = \"\"\"\n",
    "-- SUA QUERY AQUI!\n",
    "\"\"\"\n",
    "\n",
    "db(sql_ex06)"
   ]
  },
  {
   "cell_type": "code",
   "execution_count": null,
   "metadata": {},
   "outputs": [],
   "source": [
    "db(\"\"\"\n",
    "SELECT @max_films\n",
    "\"\"\")"
   ]
  },
  {
   "cell_type": "code",
   "execution_count": null,
   "metadata": {},
   "outputs": [],
   "source": [
    "ia.sender(answer=\"sql_ex06\", task=\"views\", question=\"ex06\", answer_type=\"pyvar\")"
   ]
  },
  {
   "cell_type": "markdown",
   "metadata": {},
   "source": [
    "## Operador `IN`"
   ]
  },
  {
   "cell_type": "markdown",
   "metadata": {},
   "source": [
    "Suponha que desejamos listar todos os filmes dos 3 atores mais populares. Podemos começar listando os 3 atores mais populares:"
   ]
  },
  {
   "cell_type": "code",
   "execution_count": null,
   "metadata": {},
   "outputs": [],
   "source": [
    "db(\"\"\"\n",
    "SELECT \n",
    "    actor_id, first_name, last_name, COUNT(film_id) AS num_films\n",
    "FROM\n",
    "    actor\n",
    "    INNER JOIN film_actor USING (actor_id)\n",
    "GROUP BY \n",
    "    actor_id\n",
    "ORDER BY \n",
    "    num_films DESC\n",
    "LIMIT 3\n",
    "\"\"\")"
   ]
  },
  {
   "cell_type": "markdown",
   "metadata": {},
   "source": [
    "Vamos criar uma tabela temporária para guardar a informação de `actor_id` desses atores:"
   ]
  },
  {
   "cell_type": "code",
   "execution_count": null,
   "metadata": {},
   "outputs": [],
   "source": [
    "db(\"DROP TABLE IF EXISTS temp_pop_actors\")\n",
    "db(\"\"\"\n",
    "CREATE TEMPORARY TABLE temp_pop_actors\n",
    "    SELECT first_name, last_name, actor_id FROM\n",
    "        actor\n",
    "        INNER JOIN film_actor USING (actor_id)\n",
    "    GROUP BY \n",
    "        actor_id\n",
    "    ORDER BY \n",
    "        COUNT(film_id) DESC\n",
    "    LIMIT 3\n",
    "\"\"\")\n",
    "db(\"\"\"\n",
    "SELECT * from temp_pop_actors\n",
    "\"\"\")"
   ]
  },
  {
   "cell_type": "markdown",
   "metadata": {},
   "source": [
    "Por fim, vamos usar essa informação para listar os filmes dos atores populares:"
   ]
  },
  {
   "cell_type": "code",
   "execution_count": null,
   "metadata": {},
   "outputs": [],
   "source": [
    "db(\"\"\"\n",
    "SELECT DISTINCT\n",
    "    title\n",
    "FROM\n",
    "    film\n",
    "    INNER JOIN film_actor USING (film_id)\n",
    "WHERE\n",
    "    actor_id IN (SELECT actor_id FROM temp_pop_actors);\n",
    "\"\"\")"
   ]
  },
  {
   "cell_type": "markdown",
   "metadata": {},
   "source": [
    "Note o uso de *subqueries*!\n",
    "\n",
    "Não se esqueça de limpar tudo no final!"
   ]
  },
  {
   "cell_type": "code",
   "execution_count": null,
   "metadata": {},
   "outputs": [],
   "source": [
    "db(\"DROP TABLE temp_pop_actors\")"
   ]
  },
  {
   "cell_type": "markdown",
   "metadata": {},
   "source": [
    "### Vamos praticar"
   ]
  },
  {
   "cell_type": "markdown",
   "metadata": {},
   "source": [
    "Liste os atores (id, nome e sobrenome) que participaram dos 3 filmes mais rentáveis (aqueles que mais geraram receita para a locadora) ordenados pelo id do ator de modo crescente. Para isso, crie uma tabela temporária contendo o id do filme e a quantia total e use essa tabela para listar os atores."
   ]
  },
  {
   "cell_type": "code",
   "execution_count": null,
   "metadata": {},
   "outputs": [],
   "source": [
    "db(\"\"\"\n",
    "-- SUA QUERY AQUI!\n",
    "\"\"\")\n",
    "db(\"\"\"\n",
    "-- SUA QUERY AQUI!\n",
    "\"\"\")"
   ]
  },
  {
   "cell_type": "code",
   "execution_count": null,
   "metadata": {},
   "outputs": [],
   "source": [
    "sql_ex07 = [\"\"\"\n",
    "-- SUA QUERY AQUI!\n",
    "\"\"\",\n",
    "\"\"\"\n",
    "-- SUA QUERY AQUI!\n",
    "\"\"\"]\n",
    "\n",
    "ia.sender(answer=\"sql_ex07\", task=\"views\", question=\"ex07\", answer_type=\"pyvar\")"
   ]
  },
  {
   "cell_type": "markdown",
   "metadata": {},
   "source": [
    "## Subqueries"
   ]
  },
  {
   "cell_type": "markdown",
   "metadata": {},
   "source": [
    "Os tópicos discutidos acima poderiam ser resolvidos, em grande parte, com subqueries. As subqueries são queries `SELECT` criadas dentro de outras queries. \n",
    "\n",
    "Poderíamos ter usado subqueries nos mesmos lugares onde usamos tabelas temporárias, nos tópicos acima. Quando a subquery pode ser transformada em uma tabela temporária independente, separada da query exterior, dizemos que a subquery é **não-correlacionada** com a query exterior.\n",
    "\n",
    "Usar subqueries não-correlacionadas é um tópico controverso: podemos sempre usar uma tabela temporária ou, ás vezes, pensar em um `JOIN` simples. Aliás, muitas vezes o otimizador de queries do banco de dados transformará a subquery em `JOIN`, se isso for vantajoso em termos de desempenho.\n",
    "\n",
    "Uma subquery que depende da query externa (e portanto não pode ser separada em uma tabela temporária independente) é chamada de **subquery correlacionada**. Nestes casos podemos ter que executar a subquery para cada linha da query exterior! "
   ]
  },
  {
   "cell_type": "markdown",
   "metadata": {},
   "source": [
    "### Vamos praticar"
   ]
  },
  {
   "cell_type": "markdown",
   "metadata": {},
   "source": [
    "Vamos refazer a atividade dos atores dos filmes mais rentáveis, usando subqueries. \n",
    "\n",
    "Temos um problema: o MySQL não suporta ``LIMIT`` em subqueries com o operador ``IN``. Vamos investigar isso mais de perto. \n",
    "\n",
    "Em primeiro lugar faça uma tradução direta da implementação da atividade anterior trocando tabela temporária por subquery."
   ]
  },
  {
   "cell_type": "code",
   "execution_count": null,
   "metadata": {},
   "outputs": [],
   "source": [
    "try:\n",
    "    db('''\n",
    "-- SUA QUERY AQUI!\n",
    "    ''')\n",
    "except mysql.connector.ProgrammingError as e:\n",
    "    print(f'ProgrammingError: {e}')"
   ]
  },
  {
   "cell_type": "markdown",
   "metadata": {},
   "source": [
    "Ok, apareceu o problema. Mas considere que o problema original não precisava de IN desde o começo! Construa essa solução."
   ]
  },
  {
   "cell_type": "code",
   "execution_count": null,
   "metadata": {},
   "outputs": [],
   "source": [
    "sql_ex08 = \"\"\"\n",
    "-- SUA QUERY AQUI!\n",
    "\"\"\"\n",
    "\n",
    "db(sql_ex08)"
   ]
  },
  {
   "cell_type": "code",
   "execution_count": null,
   "metadata": {},
   "outputs": [],
   "source": [
    "ia.sender(answer=\"sql_ex08\", task=\"views\", question=\"ex08\", answer_type=\"pyvar\")"
   ]
  },
  {
   "cell_type": "markdown",
   "metadata": {},
   "source": [
    "# `UNION`\n",
    "\n",
    "Quando duas tabelas tem **EXATAMENTE** as mesmas colunas, podemos concatená-las e formar uma grande tabela unificada usando o operador `UNION`. Por exemplo: suponha que desejamos montar uma lista dos nomes e sobrenomes de todos os clientes E de todos os funcionários. Eis uma solução possível:"
   ]
  },
  {
   "cell_type": "code",
   "execution_count": null,
   "metadata": {},
   "outputs": [],
   "source": [
    "db(\"DROP TABLE IF EXISTS nomes_clientes\")\n",
    "db(\"\"\"\n",
    "CREATE TEMPORARY TABLE nomes_clientes \n",
    "    SELECT first_name, last_name FROM customer\n",
    "\"\"\")"
   ]
  },
  {
   "cell_type": "code",
   "execution_count": null,
   "metadata": {},
   "outputs": [],
   "source": [
    "db(\"DESCRIBE nomes_clientes\")\n",
    "db(\"SELECT * FROM nomes_clientes LIMIT 5\")"
   ]
  },
  {
   "cell_type": "code",
   "execution_count": null,
   "metadata": {},
   "outputs": [],
   "source": [
    "db(\"DROP TABLE IF EXISTS nomes_staff\")\n",
    "db(\"\"\"\n",
    "CREATE TEMPORARY TABLE nomes_staff \n",
    "    SELECT first_name, last_name FROM staff\n",
    "\"\"\")"
   ]
  },
  {
   "cell_type": "code",
   "execution_count": null,
   "metadata": {},
   "outputs": [],
   "source": [
    "db(\"DESCRIBE nomes_staff\")\n",
    "db(\"SELECT * FROM nomes_staff LIMIT 5\")"
   ]
  },
  {
   "cell_type": "code",
   "execution_count": null,
   "metadata": {},
   "outputs": [],
   "source": [
    "db(\"DROP TABLE IF EXISTS nomes_all\")\n",
    "db(\"\"\"\n",
    "CREATE TEMPORARY TABLE nomes_all \n",
    "    (SELECT * FROM nomes_staff)\n",
    "    UNION \n",
    "    (SELECT * FROM nomes_clientes)\n",
    "\"\"\")"
   ]
  },
  {
   "cell_type": "code",
   "execution_count": null,
   "metadata": {},
   "outputs": [],
   "source": [
    "db(\"DESCRIBE nomes_all\")\n",
    "db(\"SELECT * FROM nomes_all LIMIT 5\")"
   ]
  },
  {
   "cell_type": "code",
   "execution_count": null,
   "metadata": {},
   "outputs": [],
   "source": [
    "db(\"DROP TABLE IF EXISTS nomes_clientes\")\n",
    "db(\"DROP TABLE IF EXISTS nomes_staff\")\n",
    "db(\"DROP TABLE IF EXISTS nomes_all\")"
   ]
  },
  {
   "cell_type": "markdown",
   "metadata": {},
   "source": [
    "**Vamos praticar:** refaça o exemplo acima mas use *subqueries* ao invés de *temp tables*. Ordene de forma ascendente por first_name e last_name."
   ]
  },
  {
   "cell_type": "code",
   "execution_count": null,
   "metadata": {},
   "outputs": [],
   "source": [
    "sql_ex09 = \"\"\"\n",
    "-- SUA QUERY AQUI!\n",
    "\"\"\"\n",
    "\n",
    "db(sql_ex09)"
   ]
  },
  {
   "cell_type": "code",
   "execution_count": null,
   "metadata": {},
   "outputs": [],
   "source": [
    "ia.sender(answer=\"sql_ex09\", task=\"views\", question=\"ex09\", answer_type=\"pyvar\")"
   ]
  },
  {
   "cell_type": "markdown",
   "metadata": {},
   "source": [
    "## Desafios!"
   ]
  },
  {
   "cell_type": "markdown",
   "metadata": {},
   "source": [
    "Faça uma lista de filmes que tenham mais de dois atores cujo nome inicia com a mesma letra do título do filme! Apresente o nome e a quantidade de atores. Ordene pelo id do filme. Dica: Pesquie a função `LEFT`"
   ]
  },
  {
   "cell_type": "code",
   "execution_count": null,
   "metadata": {},
   "outputs": [],
   "source": [
    "sql_ex10 = \"\"\"\n",
    "-- SUA QUERY AQUI!\n",
    "\"\"\"\n",
    "db(sql_ex10)"
   ]
  },
  {
   "cell_type": "code",
   "execution_count": null,
   "metadata": {},
   "outputs": [],
   "source": [
    "ia.sender(answer=\"sql_ex10\", task=\"views\", question=\"ex10\", answer_type=\"pyvar\")"
   ]
  },
  {
   "cell_type": "markdown",
   "metadata": {},
   "source": [
    "Semana do \"DAN HARRIS\": liste os clientes (nome e sobrenome) que nunca assistiram um filme do ator \"DAN HARRIS\" ou que já assistiram mas a ultima vez em que assistiram um filme dele foi antes de '2005-06-01'. Ordene pelo nome e sobrenome do cliente.\n",
    "\n",
    "Considerem que a pessoa pode ter assistido um filme de Dan Harris se:\n",
    "\n",
    "- Devolveu em 2005-06-01 ou depois\n",
    "- Alugou em 2005-06-01 ou depois\n",
    "- Alugou antes de 2005-06-01 e ainda não devolveu"
   ]
  },
  {
   "cell_type": "code",
   "execution_count": null,
   "metadata": {},
   "outputs": [],
   "source": [
    "sql_ex11 = \"\"\"\n",
    "-- SUA QUERY AQUI!\n",
    "\"\"\"\n",
    "db(sql_ex11)"
   ]
  },
  {
   "cell_type": "code",
   "execution_count": null,
   "metadata": {},
   "outputs": [],
   "source": [
    "ia.sender(answer=\"sql_ex11\", task=\"views\", question=\"ex11\", answer_type=\"pyvar\")"
   ]
  },
  {
   "cell_type": "markdown",
   "metadata": {},
   "source": [
    "- Faça uma consulta que retorne, para cada ator, a seguinte informação:\n",
    "\n",
    "| first_name | last_name | filmes por categoria |\n",
    "|--|--|--|\n",
    "| PENELOPE | GUINESS | Animation: ANACONDA CONFESSIONS; Children: LANGUAGE COWBOY; Classics: COLOR PHILADELPHIA, WESTWARD SEABISCUIT; Comedy: VERTIGO NORTHWEST; Documentary: ACADEMY DINOSAUR; Family: KING EVOLUTION, SPLASH GUMP; Foreign: MULHOLLAND BEAST; Games: BULWORTH COMMANDMENTS, HUMAN GRAFFITI; Horror: ELEPHANT TROJAN, LADY STAGE, RULES HUMAN; Music: WIZARD COLDBLOODED; New: ANGELS LIFE, OKLAHOMA JUMANJI; Sci-Fi: CHEAPER CLYDE; Sports: GLEAMING JAWBREAKER |\n",
    "| NICK | WAHLBERG | Action: BULL SHAWSHANK; Animation: FIGHT JAWBREAKER; Children: JERSEY SASSY; Classics: DRACULA CRYSTAL, GILBERT PELICAN; Comedy: MALLRATS UNITED, RUSHMORE MERMAID; Documentary: ADAPTATION HOLES; Drama: WARDROBE PHANTOM; Family: APACHE DIVINE, CHISUM BEHAVIOR, INDIAN LOVE, MAGUIRE APACHE; Foreign: BABY HALL, HAPPINESS UNITED; Games: ROOF CHAMPION; Music: LUCKY FLYING; New: DESTINY SATURDAY, FLASH WARS, JEKYLL FROGMEN, MASK PEACH; Sci-Fi: CHAINSAW UPTOWN, GOODFELLAS SALUTE; Travel: LIAISONS SWEET, SMILE EARRING |\n",
    "| etc | etc | etc |\n",
    "\n",
    "Ordene pelo nome e sobrenome do ator.\n",
    "\n",
    "Dica: use `GROUP_CONCAT` para agrupar todas as strings de uma coluna em uma string só, e `CONCAT` para unir strings particulares."
   ]
  },
  {
   "cell_type": "code",
   "execution_count": null,
   "metadata": {},
   "outputs": [],
   "source": [
    "sql_ex12 = \"\"\"\n",
    "-- SUA QUERY AQUI!\n",
    "\"\"\"\n",
    "\n",
    "db(sql_ex12)"
   ]
  },
  {
   "cell_type": "code",
   "execution_count": null,
   "metadata": {},
   "outputs": [],
   "source": [
    "ia.sender(answer=\"sql_ex12\", task=\"views\", question=\"ex12\", answer_type=\"pyvar\")"
   ]
  },
  {
   "cell_type": "markdown",
   "metadata": {},
   "source": [
    "## Conclusão"
   ]
  },
  {
   "cell_type": "markdown",
   "metadata": {},
   "source": [
    "Façamos uma pausa para apreciar quão longe estamos: já conseguimos criar nossas tabelas, inserir informação, removê-la, atualizá-la, e consultar nossa base de maneiras bem sofisticadas! Vimos desde `SELECT` simples até buscas mais complexas envolvendo várias etapas de processamento para obter o dado desejado.\n",
    "\n",
    "Por hoje é só, feche sua conexão e bom descanso!"
   ]
  },
  {
   "cell_type": "code",
   "execution_count": null,
   "metadata": {},
   "outputs": [],
   "source": [
    "connection.close()"
   ]
  },
  {
   "cell_type": "markdown",
   "metadata": {},
   "source": [
    "## Conferir Notas\n",
    "\n",
    "Confira se as notas na atividade são as esperadas!\n",
    "\n",
    "Primeiro na atividade atual!"
   ]
  },
  {
   "cell_type": "code",
   "execution_count": null,
   "metadata": {},
   "outputs": [],
   "source": [
    "ia.grades(by=\"TASK\", task=\"views\")"
   ]
  },
  {
   "cell_type": "code",
   "execution_count": null,
   "metadata": {},
   "outputs": [],
   "source": [
    "ia.grades(task=\"views\")"
   ]
  },
  {
   "cell_type": "code",
   "execution_count": null,
   "metadata": {},
   "outputs": [],
   "source": [
    "ia.grades(by=\"task\")"
   ]
  }
 ],
 "metadata": {
  "kernelspec": {
   "display_name": "Python 3 (ipykernel)",
   "language": "python",
   "name": "python3"
  },
  "language_info": {
   "codemirror_mode": {
    "name": "ipython",
    "version": 3
   },
   "file_extension": ".py",
   "mimetype": "text/x-python",
   "name": "python",
   "nbconvert_exporter": "python",
   "pygments_lexer": "ipython3",
   "version": "3.9.10"
  }
 },
 "nbformat": 4,
 "nbformat_minor": 4
}
