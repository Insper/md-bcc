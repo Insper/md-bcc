{
 "cells": [
  {
   "cell_type": "markdown",
   "metadata": {},
   "source": [
    "# Mais sobre `SELECT`\n",
    "\n",
    "- temporary tables\n",
    "- views\n",
    "- variables\n",
    "- subqueries\n"
   ]
  },
  {
   "cell_type": "code",
   "execution_count": 1,
   "metadata": {},
   "outputs": [],
   "source": [
    "from functools import partial\n",
    "from dotenv import load_dotenv\n",
    "import insperautograder.jupyter as ia\n",
    "import mysql.connector\n",
    "import os\n",
    "\n",
    "load_dotenv(override=True)\n",
    "\n",
    "connection = mysql.connector.connect(\n",
    "    host=os.getenv(\"MD_DB_SERVER\"),\n",
    "    user=os.getenv(\"MD_DB_USERNAME\"),\n",
    "    password=os.getenv(\"MD_DB_PASSWORD\"),\n",
    "    database=\"sakila\"\n",
    ")\n",
    "\n",
    "def run_db_query(connection, query, args=None):\n",
    "    with connection.cursor() as cursor:\n",
    "        print(\"Executando query:\")\n",
    "        cursor.execute(query, args)\n",
    "        for result in cursor:\n",
    "            print(result)\n",
    "\n",
    "db = partial(run_db_query, connection)"
   ]
  },
  {
   "cell_type": "markdown",
   "metadata": {},
   "source": [
    "## Exercícios para entrega\n",
    "\n",
    "Esta aula tem atividade para entrega, confira os prazos e exercícios"
   ]
  },
  {
   "cell_type": "code",
   "execution_count": null,
   "metadata": {},
   "outputs": [],
   "source": [
    "ia.tasks()"
   ]
  },
  {
   "cell_type": "code",
   "execution_count": null,
   "metadata": {},
   "outputs": [],
   "source": [
    "ia.grades(by=\"task\")"
   ]
  },
  {
   "cell_type": "code",
   "execution_count": null,
   "metadata": {},
   "outputs": [],
   "source": [
    "ia.grades(task=\"views\")"
   ]
  },
  {
   "cell_type": "markdown",
   "metadata": {},
   "source": [
    "## Aquecimento"
   ]
  },
  {
   "cell_type": "markdown",
   "metadata": {},
   "source": [
    "Quanta receita foi gerada para cada categoria de filmes? Mostre o nome da categoria e a receita. Ordene da maior receita para para a menor."
   ]
  },
  {
   "cell_type": "code",
   "execution_count": null,
   "metadata": {},
   "outputs": [],
   "source": [
    "sql_ex01 = \"\"\"\n",
    "-- SUA QUERY AQUI!\n",
    "SELECT \n",
    "\tc.name, SUM(p.amount) AS receita\n",
    "FROM\n",
    "\tpayment AS p\n",
    "INNER JOIN \n",
    "\trental AS r\n",
    "ON \n",
    "\tr.rental_id = p.rental_id\n",
    "INNER JOIN \n",
    "\tinventory AS i\n",
    "ON\n",
    "\ti.inventory_id = r.inventory_id\n",
    "INNER JOIN\n",
    "\tfilm_category AS fc\n",
    "ON\n",
    "\tfc.film_id = i.film_id\n",
    "INNER JOIN \n",
    "\tcategory AS c\n",
    "ON\n",
    "\tc.category_id = fc.category_id\n",
    "GROUP BY\n",
    "\tc.name\n",
    "ORDER BY \n",
    "\treceita DESC;\n",
    "\n",
    "    \n",
    "\"\"\"\n",
    "\n",
    "db(sql_ex01)"
   ]
  },
  {
   "cell_type": "code",
   "execution_count": null,
   "metadata": {},
   "outputs": [],
   "source": [
    "ia.sender(answer=\"sql_ex01\", task=\"views\", question=\"ex01\", answer_type=\"pyvar\")"
   ]
  },
  {
   "cell_type": "markdown",
   "metadata": {},
   "source": [
    "Liste os 10 filmes mais alugados e o numero de vezes em que foram alugados. Ordene do mais alugado para o menos alugado."
   ]
  },
  {
   "cell_type": "code",
   "execution_count": null,
   "metadata": {},
   "outputs": [],
   "source": [
    "sql_ex02 = \"\"\"\n",
    "-- SUA QUERY AQUI!\n",
    "\n",
    "SELECT\n",
    "\tf.title, COUNT(rental_id) AS qtd_alugada\n",
    "FROM\n",
    "\trental AS r\n",
    "INNER JOIN \n",
    "\tinventory AS i\n",
    "ON\n",
    "\ti.inventory_id = r.inventory_id\n",
    "INNER JOIN\n",
    "\tfilm AS f\n",
    "ON\n",
    "\tf.film_id = i.film_id\n",
    "GROUP BY\n",
    "\tf.film_id\n",
    "ORDER BY\n",
    "\tqtd_alugada DESC\n",
    "LIMIT 10;\n",
    "\"\"\"\n",
    "\n",
    "db(sql_ex02)"
   ]
  },
  {
   "cell_type": "code",
   "execution_count": null,
   "metadata": {},
   "outputs": [],
   "source": [
    "ia.sender(answer=\"sql_ex02\", task=\"views\", question=\"ex02\", answer_type=\"pyvar\")"
   ]
  },
  {
   "cell_type": "markdown",
   "metadata": {},
   "source": [
    "**DESAFIO:** Liste os filmes e o numero de vezes em que foram alugados apenas para filmes que foram alugados mais do que a média de numero de alugueis por filme. *Dica*: Serão necessários múltiplos SELECTs. Faça cada um em uma célula diferente."
   ]
  },
  {
   "cell_type": "code",
   "execution_count": null,
   "metadata": {},
   "outputs": [],
   "source": [
    "db(\"\"\"\n",
    "-- SUA QUERY AQUI!\n",
    "\"\"\")\n",
    "db(\"\"\"\n",
    "-- SUA QUERY AQUI!\n",
    "\"\"\")\n",
    "db(\"\"\"\n",
    "-- SUA QUERY AQUI!\n",
    "\"\"\")\n",
    "db(\"\"\"\n",
    "-- SUA QUERY AQUI!\n",
    "\"\"\")"
   ]
  },
  {
   "cell_type": "markdown",
   "metadata": {
    "tags": []
   },
   "source": [
    "## Views\n",
    "\n",
    "Uma *view* é uma tabela virtual, construida a partir de um comando `SELECT`. Por exemplo: execute o código a seguir."
   ]
  },
  {
   "cell_type": "code",
   "execution_count": null,
   "metadata": {},
   "outputs": [],
   "source": [
    "db(\"\"\"\n",
    "DROP VIEW IF EXISTS movie_count;\n",
    "\"\"\")\n",
    "\n",
    "db(\"\"\"\n",
    "CREATE VIEW movie_count AS\n",
    "    SELECT \n",
    "        title, COUNT(rental_id) as cnt\n",
    "    FROM\n",
    "        film\n",
    "        LEFT OUTER JOIN inventory USING (film_id)\n",
    "        LEFT OUTER JOIN rental USING (inventory_id)\n",
    "    GROUP BY\n",
    "        film_id\n",
    "    ORDER BY\n",
    "        cnt ASC;\n",
    "\"\"\")"
   ]
  },
  {
   "cell_type": "markdown",
   "metadata": {},
   "source": [
    "Agora temos uma *view* chamada `movie_count`. Vamos verificar que ela funcionou, listando as 30 primeiras linhas:"
   ]
  },
  {
   "cell_type": "code",
   "execution_count": null,
   "metadata": {},
   "outputs": [],
   "source": [
    "db(\"\"\"\n",
    "SELECT \n",
    "    *\n",
    "FROM\n",
    "    movie_count \n",
    "LIMIT \n",
    "    30\n",
    "\"\"\")"
   ]
  },
  {
   "cell_type": "code",
   "execution_count": null,
   "metadata": {},
   "outputs": [],
   "source": [
    "db(\"\"\"\n",
    "SELECT \n",
    "    * \n",
    "FROM \n",
    "    movie_count \n",
    "ORDER BY\n",
    "    cnt DESC\n",
    "LIMIT 30\n",
    "\"\"\")"
   ]
  },
  {
   "cell_type": "markdown",
   "metadata": {},
   "source": [
    "Agora suponha que alteramos a tabela `film`, mudando o nome do filme \"DAZED PUNK\" para \"STONED PUNK\".\n",
    "\n",
    "**Atividade**: Do it."
   ]
  },
  {
   "cell_type": "code",
   "execution_count": null,
   "metadata": {},
   "outputs": [],
   "source": [
    "db(\"\"\"\n",
    "-- SUA QUERY AQUI!\n",
    "\n",
    "\"\"\")"
   ]
  },
  {
   "cell_type": "markdown",
   "metadata": {},
   "source": [
    "Verifique agora a nossa *view*:"
   ]
  },
  {
   "cell_type": "code",
   "execution_count": null,
   "metadata": {},
   "outputs": [],
   "source": [
    "db(\"\"\"\n",
    "SELECT\n",
    "    *\n",
    "FROM\n",
    "    movie_count\n",
    "LIMIT\n",
    "    30\n",
    "\"\"\")"
   ]
  },
  {
   "cell_type": "markdown",
   "metadata": {},
   "source": [
    "Como você pode ver, as views são tabelas virtuais que são **automaticamente atualizadas quando as tabelas originais são modificadas**.\n",
    "\n",
    "Sempre que você realizar modificações nos dados, dê `commit` ou `rollback`. Ainda, evite executar múltiplas vezes as linhas de código que criem a conexão sem antes ter fechado a conexão ativa.\n",
    "\n",
    "Vamos desfazer as alterações:"
   ]
  },
  {
   "cell_type": "code",
   "execution_count": null,
   "metadata": {},
   "outputs": [],
   "source": [
    "connection.rollback()"
   ]
  },
  {
   "cell_type": "markdown",
   "metadata": {},
   "source": [
    "Conferindo:"
   ]
  },
  {
   "cell_type": "code",
   "execution_count": null,
   "metadata": {},
   "outputs": [],
   "source": [
    "db(\"\"\"\n",
    "SELECT\n",
    "    *\n",
    "FROM\n",
    "    movie_count\n",
    "LIMIT\n",
    "    30\n",
    "\"\"\")"
   ]
  },
  {
   "cell_type": "markdown",
   "metadata": {},
   "source": [
    "### Vamos praticar"
   ]
  },
  {
   "cell_type": "markdown",
   "metadata": {},
   "source": [
    "Verifique quantas vezes o filme \"COWBOY DOOM\" foi alugado usando a view `movie_count`"
   ]
  },
  {
   "cell_type": "code",
   "execution_count": null,
   "metadata": {},
   "outputs": [],
   "source": [
    "sql_ex03 = '''\n",
    "-- SUA QUERY AQUI!\n",
    "SELECT\n",
    "    cnt\n",
    "FROM\n",
    "    movie_count\n",
    "WHERE\n",
    "    title = 'COWBOY DOOM';\n",
    "'''\n",
    "\n",
    "db(sql_ex03)"
   ]
  },
  {
   "cell_type": "code",
   "execution_count": null,
   "metadata": {},
   "outputs": [],
   "source": [
    "ia.sender(answer=\"sql_ex03\", task=\"views\", question=\"ex03\", answer_type=\"pyvar\")"
   ]
  },
  {
   "cell_type": "markdown",
   "metadata": {},
   "source": [
    "Registre um aluguel do filme \"COWBOY DOOM\" (com o menor id possível), feito pelo funcionario \"Jon Stephens\" na loja id=1 para o cliente \"JESSIE BANKS\", na data '2019-01-01', com data de retorno '2019-01-08'."
   ]
  },
  {
   "cell_type": "code",
   "execution_count": null,
   "metadata": {},
   "outputs": [],
   "source": [
    "sql_ex04 = \"\"\"\n",
    "-- SUA QUERY AQUI!\n",
    "\t\n",
    "\n",
    "INSERT INTO \n",
    "\trental (rental_date, inventory_id, customer_id, return_date,\n",
    "    staff_id, last_update)\n",
    "VALUES ('2019-01-01', 845, 215, '2019-01-08', 2, '2019-01-08');\n",
    "\n",
    "\"\"\"\n",
    "\n",
    "db(sql_ex04)"
   ]
  },
  {
   "cell_type": "code",
   "execution_count": null,
   "metadata": {},
   "outputs": [],
   "source": [
    "db('''\n",
    "-- SUA QUERY AQUI CASO NECESSITE DE MAIS!\n",
    "-- Crie quantas forem necesárias!\n",
    "\n",
    "''')"
   ]
  },
  {
   "cell_type": "code",
   "execution_count": null,
   "metadata": {},
   "outputs": [],
   "source": [
    "ia.sender(answer=\"sql_ex04\", task=\"views\", question=\"ex04\", answer_type=\"pyvar\")"
   ]
  },
  {
   "cell_type": "markdown",
   "metadata": {},
   "source": [
    "Verifique usando a view que a contagem de alugueis do filme subiu."
   ]
  },
  {
   "cell_type": "code",
   "execution_count": null,
   "metadata": {},
   "outputs": [],
   "source": [
    "db(\"\"\"\n",
    "-- SUA QUERY AQUI!\n",
    "SELECT \n",
    "    * \n",
    "FROM \n",
    "    movie_count \n",
    "ORDER BY\n",
    "    cnt DESC\n",
    "LIMIT 30;\n",
    "\"\"\")"
   ]
  },
  {
   "cell_type": "markdown",
   "metadata": {},
   "source": [
    "Faça o *rollback* desta alteração, para não modificar a nossa querida base de dados *sakila*."
   ]
  },
  {
   "cell_type": "code",
   "execution_count": null,
   "metadata": {},
   "outputs": [],
   "source": [
    "connection.rollback()"
   ]
  },
  {
   "cell_type": "markdown",
   "metadata": {},
   "source": [
    "## Tabelas temporárias"
   ]
  },
  {
   "cell_type": "markdown",
   "metadata": {},
   "source": [
    "Tabelas temporárias podem ser criadas para ajudar nas tarefas de manipulação de dados. Essas tabelas existem apenas pela duração da sessão. Para criar uma tabela temporária, basta adicionar a palavra-chave `TEMPORARY` no momento da criação.\n",
    "\n",
    "É comum criar tabelas temporárias à partir do resultado de comandos `SELECT`. Por exemplo, a seguinte query permite montar uma tabela temporária com os filmes que duram mais que 3 horas:"
   ]
  },
  {
   "cell_type": "code",
   "execution_count": null,
   "metadata": {},
   "outputs": [],
   "source": [
    "db(\"\"\"\n",
    "DROP TABLE IF EXISTS long_film\n",
    "\"\"\")\n",
    "\n",
    "db(\"\"\"\n",
    "CREATE TEMPORARY TABLE long_film \n",
    "    SELECT\n",
    "        *\n",
    "    FROM\n",
    "        film\n",
    "    WHERE\n",
    "        film.length > 180;\n",
    "\"\"\")"
   ]
  },
  {
   "cell_type": "markdown",
   "metadata": {},
   "source": [
    "Podemos verificar que a tabela `long_film` agora existe:"
   ]
  },
  {
   "cell_type": "code",
   "execution_count": null,
   "metadata": {
    "scrolled": true,
    "tags": []
   },
   "outputs": [],
   "source": [
    "db(\"DESCRIBE long_film\")"
   ]
  },
  {
   "cell_type": "code",
   "execution_count": null,
   "metadata": {},
   "outputs": [],
   "source": [
    "db(\"CALL sys.table_exists('sakila', 'long_film', @table_type);\")\n",
    "db(\"SELECT @table_type;\")"
   ]
  },
  {
   "cell_type": "markdown",
   "metadata": {},
   "source": [
    "Muito embora ela não apareça na lista de tabelas: isso é um bug do MySQL. (https://dev.mysql.com/worklog/task/?id=648)"
   ]
  },
  {
   "cell_type": "code",
   "execution_count": null,
   "metadata": {},
   "outputs": [],
   "source": [
    "db(\"SHOW TABLES\")"
   ]
  },
  {
   "cell_type": "markdown",
   "metadata": {},
   "source": [
    "Vamos listar o conteudo desta tabela:"
   ]
  },
  {
   "cell_type": "code",
   "execution_count": null,
   "metadata": {
    "tags": []
   },
   "outputs": [],
   "source": [
    "db(\"SELECT title FROM long_film\")"
   ]
  },
  {
   "cell_type": "markdown",
   "metadata": {},
   "source": [
    "Vamos apagar a tabela `long_film`:"
   ]
  },
  {
   "cell_type": "code",
   "execution_count": null,
   "metadata": {},
   "outputs": [],
   "source": [
    "db(\"DROP TABLE long_film\")"
   ]
  },
  {
   "cell_type": "markdown",
   "metadata": {},
   "source": [
    "### Vamos praticar"
   ]
  },
  {
   "cell_type": "markdown",
   "metadata": {},
   "source": [
    "- Crie uma tabela temporária `max_duration` que contém a duração máxima de filme para cada categoria. Apresente o id da categoria, seu nome e a duração máxima."
   ]
  },
  {
   "cell_type": "code",
   "execution_count": 2,
   "metadata": {},
   "outputs": [
    {
     "name": "stdout",
     "output_type": "stream",
     "text": [
      "Executando query:\n",
      "Executando query:\n"
     ]
    }
   ],
   "source": [
    "# Executamos o DROP apenas localmente, sem enviar ao servidor\n",
    "db(\"DROP TABLE IF EXISTS max_duration\")\n",
    "\n",
    "sql_ex05 = \"\"\"\n",
    "CREATE TEMPORARY TABLE max_duration\n",
    "SELECT\n",
    "\tc.name, MAX(f.length) AS max_len\n",
    "FROM \n",
    "\tfilm_category AS fc\n",
    "INNER JOIN\n",
    "\tcategory AS c\n",
    "ON \n",
    "\tc.category_id = fc.category_id\n",
    "INNER JOIN\n",
    "\tfilm AS f\n",
    "ON\n",
    "\tf.film_id = fc.film_id\n",
    "GROUP BY\n",
    "\tc.category_id;\n",
    "\"\"\"\n",
    "\n",
    "db(sql_ex05)"
   ]
  },
  {
   "cell_type": "code",
   "execution_count": 3,
   "metadata": {},
   "outputs": [
    {
     "data": {
      "application/vnd.jupyter.widget-view+json": {
       "model_id": "063829df8fbe42d89a6048effc99a013",
       "version_major": 2,
       "version_minor": 0
      },
      "text/plain": [
       "interactive(children=(Button(description='Enviar ex05', style=ButtonStyle()), Output()), _dom_classes=('widget…"
      ]
     },
     "execution_count": 3,
     "metadata": {},
     "output_type": "execute_result"
    }
   ],
   "source": [
    "ia.sender(answer=\"sql_ex05\", task=\"views\", question=\"ex05\", answer_type=\"pyvar\")"
   ]
  },
  {
   "cell_type": "markdown",
   "metadata": {},
   "source": [
    " - Verifique a tabela."
   ]
  },
  {
   "cell_type": "code",
   "execution_count": null,
   "metadata": {},
   "outputs": [],
   "source": [
    "db(\"SELECT * FROM max_duration\")"
   ]
  },
  {
   "cell_type": "code",
   "execution_count": null,
   "metadata": {},
   "outputs": [],
   "source": [
    "db(\"DESCRIBE max_duration\")"
   ]
  },
  {
   "cell_type": "markdown",
   "metadata": {},
   "source": [
    "- Agora use a tabela temporária para construir uma consulta com as categorias e seus respectivos filmes mais longos:"
   ]
  },
  {
   "cell_type": "code",
   "execution_count": null,
   "metadata": {},
   "outputs": [],
   "source": [
    "db(\"\"\"\n",
    "SELECT\n",
    "    category_id, name, film_id, title, length\n",
    "FROM\n",
    "    film\n",
    "    INNER JOIN film_category USING (film_id)\n",
    "    INNER JOIN max_duration USING (category_id)\n",
    "WHERE\n",
    "    length = max_len\n",
    "\"\"\")"
   ]
  },
  {
   "cell_type": "markdown",
   "metadata": {},
   "source": [
    "- delete a tabela temporária"
   ]
  },
  {
   "cell_type": "code",
   "execution_count": null,
   "metadata": {},
   "outputs": [],
   "source": [
    "db(\"\"\"\n",
    "DROP TABLE max_duration\n",
    "\"\"\")"
   ]
  },
  {
   "cell_type": "markdown",
   "metadata": {
    "tags": []
   },
   "source": [
    "## Variáveis\n",
    "\n",
    "Podemos montar uma query que retorne um valor só e armazenar este valor em uma variável, para uso posterior em outras queries. Para isso vamos usar o prefixo '@' para indicar variáveis, e o comando `SELECT ... INTO`.\n",
    "\n",
    "Exemplo: quais são os filmes \"caros\" da nossa base sakila? Vamos descobrir quais filmes custam mais que um desvio padrão acima da média de preços de locação.\n",
    "\n",
    "Primeiro vamos calcular a média e o desvio padrão dos preços de aluguel:"
   ]
  },
  {
   "cell_type": "code",
   "execution_count": null,
   "metadata": {},
   "outputs": [],
   "source": [
    "db(\"\"\"\n",
    "SELECT \n",
    "    AVG(rental_rate), \n",
    "    STDDEV(rental_rate)\n",
    "INTO \n",
    "    @avg_rate, \n",
    "    @stddev_rate \n",
    "FROM\n",
    "    film;\n",
    "\"\"\")"
   ]
  },
  {
   "cell_type": "markdown",
   "metadata": {},
   "source": [
    "Note que a query não retorna um resultado: o resultado foi armazenado direto nas variáveis `@avg_rate` e `@stddev_rate`. Vamos usar um `SELECT` sem tabelas para ver o resultado:"
   ]
  },
  {
   "cell_type": "code",
   "execution_count": null,
   "metadata": {},
   "outputs": [],
   "source": [
    "db(\"SELECT @avg_rate, @stddev_rate\")"
   ]
  },
  {
   "cell_type": "markdown",
   "metadata": {},
   "source": [
    "Agora podemos selecionar os filmes caros!"
   ]
  },
  {
   "cell_type": "code",
   "execution_count": null,
   "metadata": {
    "tags": []
   },
   "outputs": [],
   "source": [
    "db(\"\"\"\n",
    "SELECT \n",
    "    title, rental_rate\n",
    "FROM\n",
    "    film\n",
    "WHERE\n",
    "    rental_rate > @avg_rate + @stddev_rate\n",
    "LIMIT 10\n",
    "\"\"\")"
   ]
  },
  {
   "cell_type": "markdown",
   "metadata": {},
   "source": [
    "### Vamos praticar"
   ]
  },
  {
   "cell_type": "markdown",
   "metadata": {},
   "source": [
    "Armazene na variável temporária `max_films` a quantidade de filmes feitos pelo ator ou atriz que mais participou de filmes."
   ]
  },
  {
   "cell_type": "code",
   "execution_count": null,
   "metadata": {},
   "outputs": [],
   "source": [
    "sql_ex06 = \"\"\"\n",
    "-- SUA QUERY AQUI!\n",
    "SELECT\n",
    "\tCOUNT(film_id) as qtd_f INTO @max_films\n",
    "FROM\n",
    "\tfilm_actor as fa\n",
    "GROUP BY \n",
    "\tactor_id\n",
    "ORDER BY\n",
    "\tqtd_f DESC\n",
    "LIMIT 1;\n",
    "\n",
    "\"\"\"\n",
    "\n",
    "db(sql_ex06)"
   ]
  },
  {
   "cell_type": "code",
   "execution_count": null,
   "metadata": {},
   "outputs": [],
   "source": [
    "db(\"\"\"\n",
    "SELECT @max_films\n",
    "\"\"\")"
   ]
  },
  {
   "cell_type": "code",
   "execution_count": null,
   "metadata": {},
   "outputs": [],
   "source": [
    "ia.sender(answer=\"sql_ex06\", task=\"views\", question=\"ex06\", answer_type=\"pyvar\")"
   ]
  },
  {
   "cell_type": "markdown",
   "metadata": {},
   "source": [
    "## Operador `IN`"
   ]
  },
  {
   "cell_type": "markdown",
   "metadata": {},
   "source": [
    "Suponha que desejamos listar todos os filmes dos 3 atores mais populares. Podemos começar listando os 3 atores mais populares:"
   ]
  },
  {
   "cell_type": "code",
   "execution_count": null,
   "metadata": {},
   "outputs": [],
   "source": [
    "db(\"\"\"\n",
    "SELECT \n",
    "    actor_id, first_name, last_name, COUNT(film_id) AS num_films\n",
    "FROM\n",
    "    actor\n",
    "    INNER JOIN film_actor USING (actor_id)\n",
    "GROUP BY \n",
    "    actor_id\n",
    "ORDER BY \n",
    "    num_films DESC\n",
    "LIMIT 3\n",
    "\"\"\")"
   ]
  },
  {
   "cell_type": "markdown",
   "metadata": {},
   "source": [
    "Vamos criar uma tabela temporária para guardar a informação de `actor_id` desses atores:"
   ]
  },
  {
   "cell_type": "code",
   "execution_count": null,
   "metadata": {},
   "outputs": [],
   "source": [
    "db(\"DROP TABLE IF EXISTS temp_pop_actors\")\n",
    "db(\"\"\"\n",
    "CREATE TEMPORARY TABLE temp_pop_actors\n",
    "    SELECT first_name, last_name, actor_id FROM\n",
    "        actor\n",
    "        INNER JOIN film_actor USING (actor_id)\n",
    "    GROUP BY \n",
    "        actor_id\n",
    "    ORDER BY \n",
    "        COUNT(film_id) DESC\n",
    "    LIMIT 3\n",
    "\"\"\")\n",
    "db(\"\"\"\n",
    "SELECT * from temp_pop_actors\n",
    "\"\"\")"
   ]
  },
  {
   "cell_type": "markdown",
   "metadata": {},
   "source": [
    "Por fim, vamos usar essa informação para listar os filmes dos atores populares:"
   ]
  },
  {
   "cell_type": "code",
   "execution_count": null,
   "metadata": {},
   "outputs": [],
   "source": [
    "db(\"\"\"\n",
    "SELECT DISTINCT\n",
    "    title\n",
    "FROM\n",
    "    film\n",
    "    INNER JOIN film_actor USING (film_id)\n",
    "WHERE\n",
    "    actor_id IN (SELECT actor_id FROM temp_pop_actors);\n",
    "\"\"\")"
   ]
  },
  {
   "cell_type": "markdown",
   "metadata": {},
   "source": [
    "Note o uso de *subqueries*!\n",
    "\n",
    "Não se esqueça de limpar tudo no final!"
   ]
  },
  {
   "cell_type": "code",
   "execution_count": null,
   "metadata": {},
   "outputs": [],
   "source": [
    "db(\"DROP TABLE temp_pop_actors\")"
   ]
  },
  {
   "cell_type": "markdown",
   "metadata": {},
   "source": [
    "### Vamos praticar"
   ]
  },
  {
   "cell_type": "markdown",
   "metadata": {},
   "source": [
    "Liste os atores (id, nome e sobrenome) que participaram dos 3 filmes mais rentáveis (aqueles que mais geraram receita para a locadora) ordenados pelo id do ator de modo crescente. Para isso, crie uma tabela temporária contendo o id do filme e a quantia total e use essa tabela para listar os atores."
   ]
  },
  {
   "cell_type": "code",
   "execution_count": null,
   "metadata": {},
   "outputs": [],
   "source": [
    "db(\"\"\"\n",
    "-- SUA QUERY AQUI!\n",
    "CREATE TEMPORARY TABLE film_rent\n",
    "SELECT \n",
    "\tf.film_id, SUM(p.amount) AS receita\n",
    "FROM\n",
    "\tpayment AS p\n",
    "INNER JOIN \n",
    "\trental AS r\n",
    "ON \n",
    "\tr.rental_id = p.rental_id\n",
    "INNER JOIN \n",
    "\tinventory AS i\n",
    "ON\n",
    "\ti.inventory_id = r.inventory_id\n",
    "INNER JOIN\n",
    "\tfilm AS f\n",
    "ON\n",
    "\tf.film_id = i.film_id\n",
    "GROUP BY\n",
    "\tf.film_id\n",
    "ORDER BY\n",
    "\treceita DESC\n",
    "LIMIT 3;\n",
    "\"\"\")\n",
    "db(\"\"\"\n",
    "SELECT\n",
    "\tDISTINCT a.actor_id, a.first_name, a.last_name\n",
    "FROM\n",
    "\tfilm_actor as fa\n",
    "INNER JOIN\n",
    "\tactor as a\n",
    "ON \n",
    "\ta.actor_id = fa.actor_id\n",
    "WHERE \n",
    "\tfa.film_id IN (SELECT film_id FROM film_rent);\n",
    "-- SUA QUERY AQUI!\n",
    "\"\"\")"
   ]
  },
  {
   "cell_type": "code",
   "execution_count": null,
   "metadata": {},
   "outputs": [],
   "source": [
    "sql_ex07 = [\"\"\"\n",
    "-- SUA QUERY AQUI!\n",
    "CREATE TEMPORARY TABLE film_rent\n",
    "SELECT \n",
    "\tf.film_id, SUM(p.amount) AS receita\n",
    "FROM\n",
    "\tpayment AS p\n",
    "INNER JOIN \n",
    "\trental AS r\n",
    "ON \n",
    "\tr.rental_id = p.rental_id\n",
    "INNER JOIN \n",
    "\tinventory AS i\n",
    "ON\n",
    "\ti.inventory_id = r.inventory_id\n",
    "INNER JOIN\n",
    "\tfilm AS f\n",
    "ON\n",
    "\tf.film_id = i.film_id\n",
    "GROUP BY\n",
    "\tf.film_id\n",
    "ORDER BY\n",
    "\treceita DESC\n",
    "LIMIT 3;\n",
    "\n",
    "\"\"\",\n",
    "\"\"\"\n",
    "-- SUA QUERY AQUI!\n",
    "SELECT\n",
    "\tDISTINCT a.actor_id, a.first_name, a.last_name\n",
    "FROM\n",
    "\tfilm_actor as fa\n",
    "INNER JOIN\n",
    "\tactor as a\n",
    "ON \n",
    "\ta.actor_id = fa.actor_id\n",
    "WHERE \n",
    "\tfa.film_id IN (SELECT film_id FROM film_rent)\n",
    "ORDER BY\n",
    "\ta.actor_id;\n",
    "\"\"\"]\n",
    "\n",
    "ia.sender(answer=\"sql_ex07\", task=\"views\", question=\"ex07\", answer_type=\"pyvar\")"
   ]
  },
  {
   "cell_type": "markdown",
   "metadata": {},
   "source": [
    "## Subqueries"
   ]
  },
  {
   "cell_type": "markdown",
   "metadata": {},
   "source": [
    "Os tópicos discutidos acima poderiam ser resolvidos, em grande parte, com subqueries. As subqueries são queries `SELECT` criadas dentro de outras queries. \n",
    "\n",
    "Poderíamos ter usado subqueries nos mesmos lugares onde usamos tabelas temporárias, nos tópicos acima. Quando a subquery pode ser transformada em uma tabela temporária independente, separada da query exterior, dizemos que a subquery é **não-correlacionada** com a query exterior.\n",
    "\n",
    "Usar subqueries não-correlacionadas é um tópico controverso: podemos sempre usar uma tabela temporária ou, ás vezes, pensar em um `JOIN` simples. Aliás, muitas vezes o otimizador de queries do banco de dados transformará a subquery em `JOIN`, se isso for vantajoso em termos de desempenho.\n",
    "\n",
    "Uma subquery que depende da query externa (e portanto não pode ser separada em uma tabela temporária independente) é chamada de **subquery correlacionada**. Nestes casos podemos ter que executar a subquery para cada linha da query exterior! "
   ]
  },
  {
   "cell_type": "markdown",
   "metadata": {},
   "source": [
    "### Vamos praticar"
   ]
  },
  {
   "cell_type": "markdown",
   "metadata": {},
   "source": [
    "Vamos refazer a atividade dos atores dos filmes mais rentáveis, usando subqueries. \n",
    "\n",
    "Temos um problema: o MySQL não suporta ``LIMIT`` em subqueries com o operador ``IN``. Vamos investigar isso mais de perto. \n",
    "\n",
    "Em primeiro lugar faça uma tradução direta da implementação da atividade anterior trocando tabela temporária por subquery."
   ]
  },
  {
   "cell_type": "code",
   "execution_count": null,
   "metadata": {},
   "outputs": [],
   "source": [
    "try:\n",
    "    db('''\n",
    "-- SUA QUERY AQUI!\n",
    "SELECT\n",
    "\tDISTINCT a.actor_id, a.first_name, a.last_name\n",
    "FROM\n",
    "\tfilm_actor as fa\n",
    "INNER JOIN\n",
    "\tactor as a\n",
    "ON \n",
    "\ta.actor_id = fa.actor_id\n",
    "WHERE \n",
    "\tfa.film_id IN (\n",
    "SELECT \n",
    "\tf.film_id\n",
    "FROM\n",
    "\tpayment AS p\n",
    "INNER JOIN \n",
    "\trental AS r\n",
    "ON \n",
    "\tr.rental_id = p.rental_id\n",
    "INNER JOIN \n",
    "\tinventory AS i\n",
    "ON\n",
    "\ti.inventory_id = r.inventory_id\n",
    "INNER JOIN\n",
    "\tfilm AS f\n",
    "ON\n",
    "\tf.film_id = i.film_id\n",
    "GROUP BY\n",
    "\tf.film_id\n",
    "ORDER BY\n",
    "\treceita DESC\n",
    "LIMIT 3)\n",
    "ORDER BY\n",
    "\ta.actor_id;\n",
    "    ''')\n",
    "except mysql.connector.ProgrammingError as e:\n",
    "    print(f'ProgrammingError: {e}')"
   ]
  },
  {
   "cell_type": "markdown",
   "metadata": {},
   "source": [
    "Ok, apareceu o problema. Mas considere que o problema original não precisava de IN desde o começo! Construa essa solução."
   ]
  },
  {
   "cell_type": "code",
   "execution_count": null,
   "metadata": {},
   "outputs": [],
   "source": [
    "sql_ex08 = \"\"\"\n",
    "-- SUA QUERY AQUI!\n",
    "SELECT\n",
    "\tDISTINCT a.actor_id, a.first_name, a.last_name\n",
    "FROM\n",
    "\tfilm_actor as fa\n",
    "INNER JOIN\n",
    "\tactor as a\n",
    "ON \n",
    "\ta.actor_id = fa.actor_id\n",
    "INNER JOIN\n",
    "    (SELECT \n",
    "\tf.film_id, SUM(p.amount) AS receita\n",
    "FROM\n",
    "\tpayment AS p\n",
    "INNER JOIN \n",
    "\trental AS r\n",
    "ON \n",
    "\tr.rental_id = p.rental_id\n",
    "INNER JOIN \n",
    "\tinventory AS i\n",
    "ON\n",
    "\ti.inventory_id = r.inventory_id\n",
    "INNER JOIN\n",
    "\tfilm AS f\n",
    "ON\n",
    "\tf.film_id = i.film_id\n",
    "GROUP BY\n",
    "\tf.film_id\n",
    "ORDER BY\n",
    "\treceita DESC\n",
    "LIMIT 3) AS fr\n",
    "ON \n",
    "    fa.film_id = fr.film_id\n",
    "ORDER BY\n",
    "\ta.actor_id;\n",
    "\n",
    "\"\"\"\n",
    "\n",
    "db(sql_ex08)"
   ]
  },
  {
   "cell_type": "code",
   "execution_count": null,
   "metadata": {},
   "outputs": [],
   "source": [
    "ia.sender(answer=\"sql_ex08\", task=\"views\", question=\"ex08\", answer_type=\"pyvar\")"
   ]
  },
  {
   "cell_type": "markdown",
   "metadata": {},
   "source": [
    "# `UNION`\n",
    "\n",
    "Quando duas tabelas tem **EXATAMENTE** as mesmas colunas, podemos concatená-las e formar uma grande tabela unificada usando o operador `UNION`. Por exemplo: suponha que desejamos montar uma lista dos nomes e sobrenomes de todos os clientes E de todos os funcionários. Eis uma solução possível:"
   ]
  },
  {
   "cell_type": "code",
   "execution_count": null,
   "metadata": {},
   "outputs": [],
   "source": [
    "db(\"DROP TABLE IF EXISTS nomes_clientes\")\n",
    "db(\"\"\"\n",
    "CREATE TEMPORARY TABLE nomes_clientes \n",
    "    SELECT first_name, last_name FROM customer\n",
    "\"\"\")"
   ]
  },
  {
   "cell_type": "code",
   "execution_count": null,
   "metadata": {},
   "outputs": [],
   "source": [
    "db(\"DESCRIBE nomes_clientes\")\n",
    "db(\"SELECT * FROM nomes_clientes LIMIT 5\")"
   ]
  },
  {
   "cell_type": "code",
   "execution_count": null,
   "metadata": {},
   "outputs": [],
   "source": [
    "db(\"DROP TABLE IF EXISTS nomes_staff\")\n",
    "db(\"\"\"\n",
    "CREATE TEMPORARY TABLE nomes_staff \n",
    "    SELECT first_name, last_name FROM staff\n",
    "\"\"\")"
   ]
  },
  {
   "cell_type": "code",
   "execution_count": null,
   "metadata": {},
   "outputs": [],
   "source": [
    "db(\"DESCRIBE nomes_staff\")\n",
    "db(\"SELECT * FROM nomes_staff LIMIT 5\")"
   ]
  },
  {
   "cell_type": "code",
   "execution_count": null,
   "metadata": {},
   "outputs": [],
   "source": [
    "db(\"DROP TABLE IF EXISTS nomes_all\")\n",
    "db(\"\"\"\n",
    "CREATE TEMPORARY TABLE nomes_all \n",
    "    (SELECT * FROM nomes_staff)\n",
    "    UNION \n",
    "    (SELECT * FROM nomes_clientes)\n",
    "\"\"\")"
   ]
  },
  {
   "cell_type": "code",
   "execution_count": null,
   "metadata": {},
   "outputs": [],
   "source": [
    "db(\"DESCRIBE nomes_all\")\n",
    "db(\"SELECT * FROM nomes_all LIMIT 5\")"
   ]
  },
  {
   "cell_type": "code",
   "execution_count": null,
   "metadata": {},
   "outputs": [],
   "source": [
    "db(\"DROP TABLE IF EXISTS nomes_clientes\")\n",
    "db(\"DROP TABLE IF EXISTS nomes_staff\")\n",
    "db(\"DROP TABLE IF EXISTS nomes_all\")"
   ]
  },
  {
   "cell_type": "markdown",
   "metadata": {},
   "source": [
    "**Vamos praticar:** refaça o exemplo acima mas use *subqueries* ao invés de *temp tables*. Ordene de forma ascendente por first_name e last_name."
   ]
  },
  {
   "cell_type": "code",
   "execution_count": null,
   "metadata": {},
   "outputs": [],
   "source": [
    "sql_ex09 = \"\"\"\n",
    "-- SUA QUERY AQUI!\n",
    "SELECT *\n",
    "FROM\n",
    "(SELECT first_name, last_name FROM staff\n",
    "    UNION   \n",
    "SELECT first_name, last_name FROM customer) AS n\n",
    "ORDER BY first_name, last_name;\n",
    "\"\"\"\n",
    "\n",
    "db(sql_ex09)"
   ]
  },
  {
   "cell_type": "code",
   "execution_count": null,
   "metadata": {},
   "outputs": [],
   "source": [
    "ia.sender(answer=\"sql_ex09\", task=\"views\", question=\"ex09\", answer_type=\"pyvar\")"
   ]
  },
  {
   "cell_type": "markdown",
   "metadata": {},
   "source": [
    "## Desafios!"
   ]
  },
  {
   "cell_type": "markdown",
   "metadata": {},
   "source": [
    "Faça uma lista de filmes que tenham mais de dois atores cujo nome inicia com a mesma letra do título do filme! Apresente o nome e a quantidade de atores. Ordene pelo id do filme. Dica: Pesquie a função `LEFT`"
   ]
  },
  {
   "cell_type": "code",
   "execution_count": null,
   "metadata": {},
   "outputs": [],
   "source": [
    "sql_ex10 = \"\"\"\n",
    "-- SUA QUERY AQUI!\n",
    "    \n",
    "SELECT\n",
    "\tf2a.title, COUNT(*) AS qtd_a\n",
    "FROM\n",
    "\t(SELECT\n",
    "\t\tf.film_id,f.title, a.first_name, a.last_name\n",
    "\tFROM\n",
    "\t\tfilm as f\n",
    "\tINNER JOIN\n",
    "\t\tfilm_actor as fa\n",
    "\tON \n",
    "\t\tfa.film_id = f.film_id\n",
    "\tINNER JOIN\n",
    "\t\tactor as a\n",
    "\tON\n",
    "\t\ta.actor_id = fa.actor_id\n",
    "\tWHERE\n",
    "\t\tLEFT(f.title, 1) = LEFT(a.first_name, 1)) AS f2a\n",
    "GROUP BY\n",
    "\tf2a.film_id\n",
    "HAVING\n",
    "\tqtd_a > 2\n",
    "ORDER BY\n",
    "\tf2a.film_id;\n",
    "\"\"\"\n",
    "db(sql_ex10)"
   ]
  },
  {
   "cell_type": "code",
   "execution_count": null,
   "metadata": {},
   "outputs": [],
   "source": [
    "ia.sender(answer=\"sql_ex10\", task=\"views\", question=\"ex10\", answer_type=\"pyvar\")"
   ]
  },
  {
   "cell_type": "markdown",
   "metadata": {},
   "source": [
    "Semana do \"DAN HARRIS\": liste os clientes (nome e sobrenome) que nunca assistiram um filme do ator \"DAN HARRIS\" ou que já assistiram mas a ultima vez em que assistiram um filme dele foi antes de '2005-06-01'. Ordene pelo nome e sobrenome do cliente.\n",
    "\n",
    "Considerem que a pessoa pode ter assistido um filme de Dan Harris se:\n",
    "\n",
    "- Devolveu em 2005-06-01 ou depois\n",
    "- Alugou em 2005-06-01 ou depois\n",
    "- Alugou antes de 2005-06-01 e ainda não devolveu"
   ]
  },
  {
   "cell_type": "code",
   "execution_count": 10,
   "metadata": {},
   "outputs": [
    {
     "name": "stdout",
     "output_type": "stream",
     "text": [
      "Executando query:\n",
      "('AARON', 'SELBY')\n",
      "('AGNES', 'BISHOP')\n",
      "('ALAN', 'KAHN')\n",
      "('ALBERT', 'CROUSE')\n",
      "('ALICIA', 'MILLS')\n",
      "('ALLAN', 'CORNISH')\n",
      "('ALLEN', 'BUTTERFIELD')\n",
      "('ALLISON', 'STANLEY')\n",
      "('AMANDA', 'CARTER')\n",
      "('AMY', 'LOPEZ')\n",
      "('ANA', 'BRADLEY')\n",
      "('ANDREA', 'HENDERSON')\n",
      "('ANDREW', 'PURDY')\n",
      "('ANGEL', 'BARCLAY')\n",
      "('ANITA', 'MORALES')\n",
      "('ANN', 'EVANS')\n",
      "('ANNA', 'HILL')\n",
      "('ANNE', 'POWELL')\n",
      "('ANNETTE', 'OLSON')\n",
      "('ANNIE', 'RUSSELL')\n",
      "('ANTHONY', 'SCHWAB')\n",
      "('ANTONIO', 'MEEK')\n",
      "('ARMANDO', 'GRUBER')\n",
      "('AUDREY', 'RAY')\n",
      "('AUSTIN', 'CINTRON')\n",
      "('BEATRICE', 'ARNOLD')\n",
      "('BECKY', 'MILES')\n",
      "('BEN', 'EASTER')\n",
      "('BERNARD', 'COLBY')\n",
      "('BESSIE', 'MORRISON')\n",
      "('BETH', 'FRANKLIN')\n",
      "('BILLIE', 'HORTON')\n",
      "('BILLY', 'POULIN')\n",
      "('BOB', 'PFEIFFER')\n",
      "('BRAD', 'MCCURDY')\n",
      "('BRANDY', 'GRAVES')\n",
      "('BRENT', 'HARKINS')\n",
      "('BRETT', 'CORNWELL')\n",
      "('BRIAN', 'WYMAN')\n",
      "('BRITTANY', 'RILEY')\n",
      "('BYRON', 'BOX')\n",
      "('CALVIN', 'MARTEL')\n",
      "('CARLA', 'GUTIERREZ')\n",
      "('CAROLE', 'BARNETT')\n",
      "('CARRIE', 'PORTER')\n",
      "('CASEY', 'MENA')\n",
      "('CATHY', 'SPENCER')\n",
      "('CECIL', 'VINES')\n",
      "('CHARLES', 'KOWALSKI')\n",
      "('CHARLOTTE', 'HUNTER')\n",
      "('CHERYL', 'MURPHY')\n",
      "('CHESTER', 'BENNER')\n",
      "('CHRISTIAN', 'JUNG')\n",
      "('CHRISTINA', 'RAMIREZ')\n",
      "('CHRISTINE', 'ROBERTS')\n",
      "('CHRISTOPHER', 'GRECO')\n",
      "('CLARA', 'SHAW')\n",
      "('CLARENCE', 'GAMEZ')\n",
      "('CLAUDIA', 'FULLER')\n",
      "('CODY', 'NOLEN')\n",
      "('CONSTANCE', 'REID')\n",
      "('COREY', 'HAUSER')\n",
      "('COURTNEY', 'DAY')\n",
      "('CRAIG', 'MORRELL')\n",
      "('CRYSTAL', 'FORD')\n",
      "('CURTIS', 'IRBY')\n",
      "('CYNTHIA', 'YOUNG')\n",
      "('DALE', 'RATCLIFF')\n",
      "('DAN', 'PAINE')\n",
      "('DANA', 'HART')\n",
      "('DANIEL', 'CABRAL')\n",
      "('DARREN', 'WINDHAM')\n",
      "('DAVE', 'GARDINER')\n",
      "('DAWN', 'SULLIVAN')\n",
      "('DEANNA', 'BYRD')\n",
      "('DEBBIE', 'REYES')\n",
      "('DELORES', 'HANSEN')\n",
      "('DEREK', 'BLAKELY')\n",
      "('DIANA', 'ALEXANDER')\n",
      "('DIANE', 'COLLINS')\n",
      "('DIANNE', 'SHELTON')\n",
      "('DON', 'BONE')\n",
      "('DONALD', 'MAHON')\n",
      "('DORA', 'MEDINA')\n",
      "('DUANE', 'TUBBS')\n",
      "('DUSTIN', 'GILLETTE')\n",
      "('DWIGHT', 'LOMBARDI')\n",
      "('EDDIE', 'TOMLIN')\n",
      "('EDITH', 'MCDONALD')\n",
      "('EDNA', 'WEST')\n",
      "('EDUARDO', 'HIATT')\n",
      "('EDWIN', 'BURK')\n",
      "('EILEEN', 'CARR')\n",
      "('ELEANOR', 'HUNT')\n",
      "('ELIZABETH', 'BROWN')\n",
      "('ELLA', 'OLIVER')\n",
      "('ELLEN', 'SIMPSON')\n",
      "('EMILY', 'DIAZ')\n",
      "('ERIC', 'ROBERT')\n",
      "('ERICA', 'MATTHEWS')\n",
      "('ERIK', 'GUILLEN')\n",
      "('ERIKA', 'PENA')\n",
      "('ERIN', 'DUNN')\n",
      "('ERNEST', 'STEPP')\n",
      "('ETHEL', 'WEBB')\n",
      "('EUGENE', 'CULPEPPER')\n",
      "('EVA', 'RAMOS')\n",
      "('EVELYN', 'MORGAN')\n",
      "('FELIX', 'GAFFNEY')\n",
      "('FLORENCE', 'WOODS')\n",
      "('FLOYD', 'GANDY')\n",
      "('FRANCISCO', 'SKIDMORE')\n",
      "('FRANKLIN', 'TROUTMAN')\n",
      "('GAIL', 'KNIGHT')\n",
      "('GARY', 'COY')\n",
      "('GENE', 'SANBORN')\n",
      "('GEORGE', 'LINTON')\n",
      "('GEORGIA', 'JACOBS')\n",
      "('GERALDINE', 'PERKINS')\n",
      "('GILBERT', 'SLEDGE')\n",
      "('GINA', 'WILLIAMSON')\n",
      "('GLEN', 'TALBERT')\n",
      "('GLENDA', 'FRAZIER')\n",
      "('GLORIA', 'COOK')\n",
      "('GREGORY', 'MAULDIN')\n",
      "('GWENDOLYN', 'MAY')\n",
      "('HAROLD', 'MARTINO')\n",
      "('HARRY', 'ARCE')\n",
      "('HARVEY', 'GUAJARDO')\n",
      "('HAZEL', 'WARREN')\n",
      "('HEIDI', 'LARSON')\n",
      "('HENRY', 'BILLINGSLEY')\n",
      "('HERMAN', 'DEVORE')\n",
      "('HUGH', 'WALDROP')\n",
      "('IAN', 'STILL')\n",
      "('IDA', 'ANDREWS')\n",
      "('IRMA', 'PEARSON')\n",
      "('JACK', 'FOUST')\n",
      "('JAMIE', 'WAUGH')\n",
      "('JANE', 'BENNETT')\n",
      "('JANICE', 'WARD')\n",
      "('JEAN', 'BELL')\n",
      "('JEANETTE', 'GREENE')\n",
      "('JEANNE', 'LAWSON')\n",
      "('JEFFREY', 'SPEAR')\n",
      "('JENNY', 'CASTRO')\n",
      "('JEREMY', 'HURTADO')\n",
      "('JEROME', 'KENYON')\n",
      "('JESSIE', 'BANKS')\n",
      "('JESUS', 'MCCARTNEY')\n",
      "('JILL', 'HAWKINS')\n",
      "('JIM', 'REA')\n",
      "('JO', 'FOWLER')\n",
      "('JOAN', 'COOPER')\n",
      "('JOE', 'GILLILAND')\n",
      "('JORDAN', 'ARCHULETA')\n",
      "('JOSEPHINE', 'GOMEZ')\n",
      "('JOYCE', 'EDWARDS')\n",
      "('JUANITA', 'MASON')\n",
      "('JUDITH', 'COX')\n",
      "('JULIE', 'SANCHEZ')\n",
      "('KAREN', 'JACKSON')\n",
      "('KARL', 'SEAL')\n",
      "('KATHERINE', 'RIVERA')\n",
      "('KATIE', 'ELLIOTT')\n",
      "('KAY', 'CALDWELL')\n",
      "('KELLY', 'TORRES')\n",
      "('KENNETH', 'GOODEN')\n",
      "('KIM', 'CRUZ')\n",
      "('KIMBERLY', 'LEE')\n",
      "('KIRK', 'STCLAIR')\n",
      "('KRISTEN', 'CHAVEZ')\n",
      "('KURT', 'EMMONS')\n",
      "('LANCE', 'PEMBERTON')\n",
      "('LAURA', 'RODRIGUEZ')\n",
      "('LAURIE', 'LAWRENCE')\n",
      "('LAWRENCE', 'LAWTON')\n",
      "('LEAH', 'CURTIS')\n",
      "('LENA', 'JENSEN')\n",
      "('LEO', 'EBERT')\n",
      "('LEONA', 'OBRIEN')\n",
      "('LEONARD', 'SCHOFIELD')\n",
      "('LESLIE', 'SEWARD')\n",
      "('LILLIAN', 'GRIFFIN')\n",
      "('LINDA', 'WILLIAMS')\n",
      "('LISA', 'ANDERSON')\n",
      "('LLOYD', 'DOWD')\n",
      "('LONNIE', 'TIRADO')\n",
      "('LORRAINE', 'STEPHENS')\n",
      "('LOUISE', 'JENKINS')\n",
      "('LUCILLE', 'HOLMES')\n",
      "('LUIS', 'YANEZ')\n",
      "('LYDIA', 'BURKE')\n",
      "('LYNN', 'PAYNE')\n",
      "('MARGARET', 'MOORE')\n",
      "('MARIE', 'TURNER')\n",
      "('MARION', 'SNYDER')\n",
      "('MARJORIE', 'TUCKER')\n",
      "('MARK', 'RINEHART')\n",
      "('MARTHA', 'GONZALEZ')\n",
      "('MARTIN', 'BALES')\n",
      "('MARVIN', 'YEE')\n",
      "('MARY', 'SMITH')\n",
      "('MATTHEW', 'MAHAN')\n",
      "('MAURICE', 'CRAWLEY')\n",
      "('MEGAN', 'PALMER')\n",
      "('MELANIE', 'ARMSTRONG')\n",
      "('MELVIN', 'ELLINGTON')\n",
      "('MICHELLE', 'CLARK')\n",
      "('MIKE', 'WAY')\n",
      "('MILDRED', 'BAILEY')\n",
      "('MILTON', 'HOWLAND')\n",
      "('MIRIAM', 'MCKINNEY')\n",
      "('MISTY', 'LAMBERT')\n",
      "('MITCHELL', 'WESTMORELAND')\n",
      "('NANCY', 'THOMAS')\n",
      "('NATALIE', 'MEYER')\n",
      "('NATHAN', 'RUNYON')\n",
      "('NATHANIEL', 'ADAM')\n",
      "('NELLIE', 'GARRETT')\n",
      "('NICHOLAS', 'BARFIELD')\n",
      "('NICOLE', 'PETERSON')\n",
      "('NORMA', 'GONZALES')\n",
      "('PAMELA', 'BAKER')\n",
      "('PATRICK', 'NEWSOM')\n",
      "('PAUL', 'TROUT')\n",
      "('PAULA', 'BRYANT')\n",
      "('PAULINE', 'HENRY')\n",
      "('PEGGY', 'MYERS')\n",
      "('PENNY', 'NEAL')\n",
      "('PETER', 'MENARD')\n",
      "('PHILIP', 'CAUSEY')\n",
      "('PHYLLIS', 'FOSTER')\n",
      "('PRISCILLA', 'LOWE')\n",
      "('RACHEL', 'BARNES')\n",
      "('RAFAEL', 'ABNEY')\n",
      "('RAMON', 'CHOATE')\n",
      "('RANDALL', 'NEUMANN')\n",
      "('RAUL', 'FORTIER')\n",
      "('REBECCA', 'SCOTT')\n",
      "('REGINA', 'BERRY')\n",
      "('RENE', 'MCALISTER')\n",
      "('RENEE', 'LANE')\n",
      "('RICARDO', 'MEADOR')\n",
      "('RICHARD', 'MCCRARY')\n",
      "('ROBERT', 'BAUGHMAN')\n",
      "('ROBERTA', 'HARPER')\n",
      "('ROLAND', 'SOUTH')\n",
      "('ROSA', 'REYNOLDS')\n",
      "('ROY', 'WHITING')\n",
      "('RUSSELL', 'BRINSON')\n",
      "('RYAN', 'SALISBURY')\n",
      "('SAM', 'MCDUFFIE')\n",
      "('SAMANTHA', 'DUNCAN')\n",
      "('SANDRA', 'MARTIN')\n",
      "('SARA', 'PERRY')\n",
      "('SHANE', 'MILLARD')\n",
      "('SHARON', 'ROBINSON')\n",
      "('SHERRI', 'RHODES')\n",
      "('STACEY', 'MONTGOMERY')\n",
      "('STEPHANIE', 'MITCHELL')\n",
      "('STEPHEN', 'QUALLS')\n",
      "('STEVE', 'MACKENZIE')\n",
      "('SYLVIA', 'ORTIZ')\n",
      "('TAMMY', 'SANDERS')\n",
      "('TARA', 'RYAN')\n",
      "('TED', 'BREAUX')\n",
      "('TERRENCE', 'GUNDERSON')\n",
      "('TERRY', 'CARLSON')\n",
      "('TERRY', 'GRISSOM')\n",
      "('THERESA', 'WATSON')\n",
      "('THOMAS', 'GRIGSBY')\n",
      "('TODD', 'TAN')\n",
      "('TONI', 'HOLT')\n",
      "('TONY', 'CARRANZA')\n",
      "('TONYA', 'CHAPMAN')\n",
      "('TRACY', 'COLE')\n",
      "('TROY', 'QUIGLEY')\n",
      "('VALERIE', 'BLACK')\n",
      "('VERA', 'MCCOY')\n",
      "('VERNON', 'CHAPA')\n",
      "('VICKI', 'FIELDS')\n",
      "('VICTORIA', 'GIBSON')\n",
      "('VIOLA', 'HANSON')\n",
      "('VIOLET', 'RODRIQUEZ')\n",
      "('VIRGINIA', 'GREEN')\n",
      "('WALTER', 'PERRYMAN')\n",
      "('WANDA', 'PATTERSON')\n",
      "('WARREN', 'SHERROD')\n",
      "('WAYNE', 'TRUONG')\n",
      "('WENDY', 'HARRISON')\n",
      "('WESLEY', 'BULL')\n",
      "('WILLARD', 'LUMPKIN')\n",
      "('WILLIAM', 'SATTERFIELD')\n",
      "('WILLIE', 'MARKHAM')\n",
      "('WILMA', 'RICHARDS')\n",
      "('YVONNE', 'WATKINS')\n"
     ]
    }
   ],
   "source": [
    "sql_ex11 = \"\"\"\n",
    "   \n",
    "SELECT \n",
    "\tc.first_name, c.last_name\n",
    "FROM\n",
    "\tcustomer as c\n",
    "WHERE\n",
    "\tc.customer_id NOT IN (SELECT\n",
    "\tDISTINCT c.customer_id\n",
    "FROM \n",
    "\tinventory as i\n",
    "INNER JOIN \n",
    "\tfilm as f\n",
    "ON\n",
    "\tf.film_id = i.film_id\n",
    "INNER JOIN\n",
    "\trental as r\n",
    "ON\n",
    "\tr.inventory_id = i.inventory_id\n",
    "INNER JOIN\n",
    "\tcustomer as c\n",
    "ON\n",
    "\tr.customer_id = c.customer_id\n",
    "WHERE\n",
    "\t (f.film_id IN (SELECT\n",
    "\t\t\t\t\tfilm_id\n",
    "\t\t\t\tFROM \n",
    "\t\t\t\t\tfilm_actor as fa\n",
    "\t\t\t\tINNER JOIN\n",
    "\t\t\t\t\tactor as a\n",
    "\t\t\t\tON\n",
    "\t\t\t\t\ta.actor_id = fa.actor_id\n",
    "\t\t\t\tWHERE\n",
    "\t\t\t\t\ta.first_name = 'DAN'\n",
    "\t\t\t\tAND\n",
    "\t\t\t\t\ta.last_name = 'HARRIS')\n",
    "AND\n",
    "\t(r.return_date >= '2005-06-01' \n",
    "\tOR\n",
    "\tr.rental_date >= '2005-06-01'\n",
    "\tOR\n",
    "\t(r.rental_date < '2005-06-01' AND r.return_date IS NULL))))\n",
    "ORDER BY\n",
    "\tc.first_name, c.last_name;\n",
    "\n",
    "\"\"\"\n",
    "db(sql_ex11)"
   ]
  },
  {
   "cell_type": "code",
   "execution_count": 4,
   "metadata": {},
   "outputs": [
    {
     "data": {
      "application/vnd.jupyter.widget-view+json": {
       "model_id": "40b1dd574e2646e0bbe858422f4e1ea3",
       "version_major": 2,
       "version_minor": 0
      },
      "text/plain": [
       "interactive(children=(Button(description='Enviar ex11', style=ButtonStyle()), Output()), _dom_classes=('widget…"
      ]
     },
     "execution_count": 4,
     "metadata": {},
     "output_type": "execute_result"
    }
   ],
   "source": [
    "ia.sender(answer=\"sql_ex11\", task=\"views\", question=\"ex11\", answer_type=\"pyvar\")"
   ]
  },
  {
   "cell_type": "markdown",
   "metadata": {},
   "source": [
    "- Faça uma consulta que retorne, para cada ator, a seguinte informação:\n",
    "\n",
    "| first_name | last_name | filmes por categoria |\n",
    "|--|--|--|\n",
    "| PENELOPE | GUINESS | Animation: ANACONDA CONFESSIONS; Children: LANGUAGE COWBOY; Classics: COLOR PHILADELPHIA, WESTWARD SEABISCUIT; Comedy: VERTIGO NORTHWEST; Documentary: ACADEMY DINOSAUR; Family: KING EVOLUTION, SPLASH GUMP; Foreign: MULHOLLAND BEAST; Games: BULWORTH COMMANDMENTS, HUMAN GRAFFITI; Horror: ELEPHANT TROJAN, LADY STAGE, RULES HUMAN; Music: WIZARD COLDBLOODED; New: ANGELS LIFE, OKLAHOMA JUMANJI; Sci-Fi: CHEAPER CLYDE; Sports: GLEAMING JAWBREAKER |\n",
    "| NICK | WAHLBERG | Action: BULL SHAWSHANK; Animation: FIGHT JAWBREAKER; Children: JERSEY SASSY; Classics: DRACULA CRYSTAL, GILBERT PELICAN; Comedy: MALLRATS UNITED, RUSHMORE MERMAID; Documentary: ADAPTATION HOLES; Drama: WARDROBE PHANTOM; Family: APACHE DIVINE, CHISUM BEHAVIOR, INDIAN LOVE, MAGUIRE APACHE; Foreign: BABY HALL, HAPPINESS UNITED; Games: ROOF CHAMPION; Music: LUCKY FLYING; New: DESTINY SATURDAY, FLASH WARS, JEKYLL FROGMEN, MASK PEACH; Sci-Fi: CHAINSAW UPTOWN, GOODFELLAS SALUTE; Travel: LIAISONS SWEET, SMILE EARRING |\n",
    "| etc | etc | etc |\n",
    "\n",
    "Ordene pelo nome e sobrenome do ator.\n",
    "\n",
    "Dica: use `GROUP_CONCAT` para agrupar todas as strings de uma coluna em uma string só, e `CONCAT` para unir strings particulares."
   ]
  },
  {
   "cell_type": "code",
   "execution_count": null,
   "metadata": {},
   "outputs": [],
   "source": [
    "sql_ex12 = \"\"\"\n",
    "-- SUA QUERY AQUI!\n",
    "\"\"\"\n",
    "\n",
    "db(sql_ex12)"
   ]
  },
  {
   "cell_type": "code",
   "execution_count": null,
   "metadata": {},
   "outputs": [],
   "source": [
    "ia.sender(answer=\"sql_ex12\", task=\"views\", question=\"ex12\", answer_type=\"pyvar\")"
   ]
  },
  {
   "cell_type": "markdown",
   "metadata": {},
   "source": [
    "## Conclusão"
   ]
  },
  {
   "cell_type": "markdown",
   "metadata": {},
   "source": [
    "Façamos uma pausa para apreciar quão longe estamos: já conseguimos criar nossas tabelas, inserir informação, removê-la, atualizá-la, e consultar nossa base de maneiras bem sofisticadas! Vimos desde `SELECT` simples até buscas mais complexas envolvendo várias etapas de processamento para obter o dado desejado.\n",
    "\n",
    "Por hoje é só, feche sua conexão e bom descanso!"
   ]
  },
  {
   "cell_type": "code",
   "execution_count": null,
   "metadata": {},
   "outputs": [],
   "source": [
    "connection.close()"
   ]
  },
  {
   "cell_type": "markdown",
   "metadata": {},
   "source": [
    "## Conferir Notas\n",
    "\n",
    "Confira se as notas na atividade são as esperadas!\n",
    "\n",
    "Primeiro na atividade atual!"
   ]
  },
  {
   "cell_type": "code",
   "execution_count": 13,
   "metadata": {},
   "outputs": [
    {
     "data": {
      "text/markdown": [
       "|    | Tarefa   |   Nota |\n",
       "|---:|:---------|-------:|\n",
       "|  0 | views    |   8.33 |"
      ],
      "text/plain": [
       "<IPython.core.display.Markdown object>"
      ]
     },
     "metadata": {},
     "output_type": "display_data"
    }
   ],
   "source": [
    "ia.grades(by=\"TASK\", task=\"views\")"
   ]
  },
  {
   "cell_type": "code",
   "execution_count": 14,
   "metadata": {},
   "outputs": [
    {
     "data": {
      "text/markdown": [
       "|    | Atividade   | Exercício   |   Peso |   Nota |\n",
       "|---:|:------------|:------------|-------:|-------:|\n",
       "|  0 | views       | ex01        |      1 |     10 |\n",
       "|  1 | views       | ex02        |      1 |     10 |\n",
       "|  2 | views       | ex03        |      1 |     10 |\n",
       "|  3 | views       | ex04        |      1 |     10 |\n",
       "|  4 | views       | ex05        |      1 |      0 |\n",
       "|  5 | views       | ex06        |      1 |     10 |\n",
       "|  6 | views       | ex07        |      1 |     10 |\n",
       "|  7 | views       | ex08        |      1 |     10 |\n",
       "|  8 | views       | ex09        |      1 |     10 |\n",
       "|  9 | views       | ex10        |      1 |     10 |\n",
       "| 10 | views       | ex11        |      1 |     10 |\n",
       "| 11 | views       | ex12        |      1 |      0 |"
      ],
      "text/plain": [
       "<IPython.core.display.Markdown object>"
      ]
     },
     "metadata": {},
     "output_type": "display_data"
    }
   ],
   "source": [
    "ia.grades(task=\"views\")"
   ]
  },
  {
   "cell_type": "code",
   "execution_count": 15,
   "metadata": {},
   "outputs": [
    {
     "data": {
      "text/markdown": [
       "|    | Tarefa       |   Nota |\n",
       "|---:|:-------------|-------:|\n",
       "|  0 | agg_join     |  10    |\n",
       "|  1 | ddl          |  10    |\n",
       "|  2 | dml          |  10    |\n",
       "|  3 | group_having |  10    |\n",
       "|  4 | newborn      |  10    |\n",
       "|  5 | select01     |  10    |\n",
       "|  6 | sql_review1  |   0    |\n",
       "|  7 | views        |   8.33 |"
      ],
      "text/plain": [
       "<IPython.core.display.Markdown object>"
      ]
     },
     "metadata": {},
     "output_type": "display_data"
    }
   ],
   "source": [
    "ia.grades(by=\"task\")"
   ]
  },
  {
   "cell_type": "code",
   "execution_count": null,
   "metadata": {},
   "outputs": [],
   "source": []
  }
 ],
 "metadata": {
  "kernelspec": {
   "display_name": "Python 3 (ipykernel)",
   "language": "python",
   "name": "python3"
  },
  "language_info": {
   "codemirror_mode": {
    "name": "ipython",
    "version": 3
   },
   "file_extension": ".py",
   "mimetype": "text/x-python",
   "name": "python",
   "nbconvert_exporter": "python",
   "pygments_lexer": "ipython3",
   "version": "3.11.7"
  }
 },
 "nbformat": 4,
 "nbformat_minor": 4
}
