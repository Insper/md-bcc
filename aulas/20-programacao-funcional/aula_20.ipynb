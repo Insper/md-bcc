{
 "cells": [
  {
   "cell_type": "markdown",
   "metadata": {},
   "source": [
    "# Programação funcional"
   ]
  },
  {
   "cell_type": "markdown",
   "metadata": {},
   "source": [
    "## Exercícios para entrega\n",
    "\n",
    "Esta aula tem atividade para entrega, confira os prazos e exercícios"
   ]
  },
  {
   "cell_type": "code",
   "execution_count": 2,
   "metadata": {},
   "outputs": [
    {
     "data": {
      "text/plain": [
       "True"
      ]
     },
     "execution_count": 2,
     "metadata": {},
     "output_type": "execute_result"
    }
   ],
   "source": [
    "import insperautograder.jupyter as ia\n",
    "from dotenv import load_dotenv\n",
    "from functools import reduce\n",
    "\n",
    "load_dotenv()"
   ]
  },
  {
   "cell_type": "code",
   "execution_count": 3,
   "metadata": {},
   "outputs": [
    {
     "data": {
      "text/markdown": [
       "|    | Atividade            | De                        | Até                       |\n",
       "|---:|:---------------------|:--------------------------|:--------------------------|\n",
       "|  0 | newborn              | 2024-02-01 03:00:00+00:00 | 2024-05-30 03:00:00+00:00 |\n",
       "|  1 | select01             | 2024-02-08 03:00:00+00:00 | 2024-02-19 02:59:59+00:00 |\n",
       "|  2 | ddl                  | 2024-02-22 03:00:00+00:00 | 2024-02-27 02:59:59+00:00 |\n",
       "|  3 | dml                  | 2024-02-26 03:00:00+00:00 | 2024-03-03 02:59:59+00:00 |\n",
       "|  4 | group_having         | 2024-02-29 03:00:00+00:00 | 2024-03-12 02:59:59+00:00 |\n",
       "|  5 | views                | 2024-02-29 03:00:00+00:00 | 2024-03-20 02:59:59+00:00 |\n",
       "|  6 | agg_join             | 2024-02-29 03:00:00+00:00 | 2024-03-05 02:59:59+00:00 |\n",
       "|  7 | sql_review1          | 2024-03-11 03:00:00+00:00 | 2024-03-20 02:59:59+00:00 |\n",
       "|  8 | permissions          | 2024-03-18 03:00:00+00:00 | 2024-03-26 02:59:59+00:00 |\n",
       "|  9 | desafio_normalizacao | 2024-03-21 03:00:00+00:00 | 2024-04-15 02:59:59+00:00 |\n",
       "| 10 | ai_md_23_1           | 2024-03-25 03:00:00+00:00 | 2024-04-01 15:00:00+00:00 |\n",
       "| 11 | ai_md_23_2           | 2024-03-25 03:00:00+00:00 | 2024-04-01 15:00:00+00:00 |\n",
       "| 12 | ai_md_24_1           | 2024-04-01 03:00:00+00:00 | 2024-04-01 18:35:00+00:00 |\n",
       "| 13 | triggers             | 2024-04-18 03:00:00+00:00 | 2024-04-27 02:59:59+00:00 |\n",
       "| 14 | functional           | 2024-04-25 03:00:00+00:00 | 2024-05-04 02:59:59+00:00 |\n",
       "| 15 | spark                | 2024-05-02 03:00:00+00:00 | 2024-05-11 02:59:59+00:00 |"
      ],
      "text/plain": [
       "<IPython.core.display.Markdown object>"
      ]
     },
     "metadata": {},
     "output_type": "display_data"
    }
   ],
   "source": [
    "ia.tasks()"
   ]
  },
  {
   "cell_type": "code",
   "execution_count": 4,
   "metadata": {},
   "outputs": [
    {
     "data": {
      "text/markdown": [
       "|    | Atividade   | Exercício   |   Peso |   Nota |\n",
       "|---:|:------------|:------------|-------:|-------:|\n",
       "|  0 | functional  | ex01        |      1 |     10 |\n",
       "|  1 | functional  | ex02        |      1 |     10 |\n",
       "|  2 | functional  | ex03        |      1 |     10 |\n",
       "|  3 | functional  | ex04        |      1 |      0 |\n",
       "|  4 | functional  | ex05        |      1 |      0 |\n",
       "|  5 | functional  | ex06        |      1 |      0 |\n",
       "|  6 | functional  | ex07        |      1 |      0 |"
      ],
      "text/plain": [
       "<IPython.core.display.Markdown object>"
      ]
     },
     "metadata": {},
     "output_type": "display_data"
    }
   ],
   "source": [
    "ia.grades(task=\"functional\")"
   ]
  },
  {
   "cell_type": "code",
   "execution_count": 5,
   "metadata": {},
   "outputs": [
    {
     "data": {
      "text/markdown": [
       "|    | Tarefa     |   Nota |\n",
       "|---:|:-----------|-------:|\n",
       "|  0 | functional |   4.29 |"
      ],
      "text/plain": [
       "<IPython.core.display.Markdown object>"
      ]
     },
     "metadata": {},
     "output_type": "display_data"
    }
   ],
   "source": [
    "ia.grades(by=\"task\", task=\"functional\")"
   ]
  },
  {
   "cell_type": "markdown",
   "metadata": {},
   "source": [
    "## Funções como objetos de primeira classe\n",
    "\n",
    "[Wikipedia: First-Class_function](https://en.wikipedia.org/wiki/First-class_function)\n",
    "\n",
    "Python trata funções como objetos de primeira classe. Ou seja: funções podem ser passadas como argumentos, retornadas como valor, e atribuidas a variáveis. Compare com outras linguagens:\n",
    "\n",
    "- Java: funções não existem, apenas classes e objetos. Em Java, sempre que queremos trabalhar com o conceito de funções como objetos de primeira classe devemos simular este conceito através de classes. (Em Java 8 temos lambdas, mas estes são construídos através desta idéia de simular funções com classes.)\n",
    "\n",
    "- C: Podemos simular funções de primeira classe através do uso de ponteiros para funções.\n",
    "\n",
    "- Assembler: Que função? Só existe ```CALL``` e ```RET```!\n",
    "\n",
    "Mas o que isso significa? Vamos entender na prática. Considere uma função que soma 1 ao valor passado e retorna este resultado."
   ]
  },
  {
   "cell_type": "code",
   "execution_count": 5,
   "metadata": {},
   "outputs": [
    {
     "name": "stdout",
     "output_type": "stream",
     "text": [
      "13\n"
     ]
    }
   ],
   "source": [
    "def soma_um(x):\n",
    "    return x + 1\n",
    "\n",
    "\n",
    "print(soma_um(12))"
   ]
  },
  {
   "cell_type": "markdown",
   "metadata": {},
   "source": [
    "Podemos atribuir esta função a uma variável!"
   ]
  },
  {
   "cell_type": "code",
   "execution_count": 6,
   "metadata": {},
   "outputs": [
    {
     "name": "stdout",
     "output_type": "stream",
     "text": [
      "13\n"
     ]
    }
   ],
   "source": [
    "minha_funcao = soma_um\n",
    "\n",
    "print(minha_funcao(12))"
   ]
  },
  {
   "cell_type": "markdown",
   "metadata": {},
   "source": [
    "Podemos também passar esta função como argumento de outras funções:"
   ]
  },
  {
   "cell_type": "code",
   "execution_count": 7,
   "metadata": {},
   "outputs": [
    {
     "name": "stdout",
     "output_type": "stream",
     "text": [
      "O valor passado é 12\n",
      "aplicando 1 vez(es), o resultado é 13\n",
      "aplicando 2 vez(es), o resultado é 14\n",
      "aplicando 3 vez(es), o resultado é 15\n",
      "aplicando 4 vez(es), o resultado é 16\n",
      "aplicando 5 vez(es), o resultado é 17\n",
      "O valor retornado será 17\n"
     ]
    },
    {
     "data": {
      "text/plain": [
       "17"
      ]
     },
     "execution_count": 7,
     "metadata": {},
     "output_type": "execute_result"
    }
   ],
   "source": [
    "def aplique_funcao(func, valor, repeticoes=1):\n",
    "    print(f\"O valor passado é {valor}\")\n",
    "    for i in range(repeticoes):\n",
    "        valor = func(valor)\n",
    "        print(f\"aplicando {i + 1} vez(es), o resultado é {valor}\")\n",
    "    print(f\"O valor retornado será {valor}\")\n",
    "    return valor\n",
    "\n",
    "\n",
    "aplique_funcao(soma_um, 12, 5)"
   ]
  },
  {
   "cell_type": "markdown",
   "metadata": {},
   "source": [
    "Em Python podemos criar uma função em qualquer parte de nosso código."
   ]
  },
  {
   "cell_type": "code",
   "execution_count": 8,
   "metadata": {},
   "outputs": [
    {
     "name": "stdout",
     "output_type": "stream",
     "text": [
      "Antes de criar a função\n",
      "Agora temos uma nova função.\n",
      "33\n"
     ]
    }
   ],
   "source": [
    "print(\"Antes de criar a função\")\n",
    "\n",
    "\n",
    "def triplica_valor(x):\n",
    "    return 3 * x\n",
    "\n",
    "\n",
    "print(\"Agora temos uma nova função.\")\n",
    "print(triplica_valor(11))"
   ]
  },
  {
   "cell_type": "markdown",
   "metadata": {},
   "source": [
    "Podemos inclusive criar uma função dentro de uma função:"
   ]
  },
  {
   "cell_type": "code",
   "execution_count": 9,
   "metadata": {},
   "outputs": [],
   "source": [
    "import random\n",
    "\n",
    "\n",
    "def my_sorting_function(vec):\n",
    "    def my_inner_sorting_function(vec, inicio, fim):\n",
    "        if inicio == fim:\n",
    "            return\n",
    "\n",
    "        def particiona(vec, inicio, fim):\n",
    "            pivot = vec[inicio]\n",
    "            meio = inicio + 1\n",
    "            final_atual = inicio + 1\n",
    "\n",
    "            def troca(vec, i, j):\n",
    "                aux = vec[i]\n",
    "                vec[i] = vec[j]\n",
    "                vec[j] = aux\n",
    "\n",
    "            while final_atual < fim:\n",
    "                # Invariante:\n",
    "                # vec[(inicio + 1) : meio] < pivot\n",
    "                # vec[meio : final_atual] >= pivot\n",
    "\n",
    "                # Se o novo elemento for menor que o pivot, ele pertence à partição inferior.\n",
    "                if vec[final_atual] < pivot:\n",
    "                    troca(vec, final_atual, meio)\n",
    "                    meio += 1\n",
    "\n",
    "                final_atual += 1\n",
    "\n",
    "            # Posiciona o pivot na sua posição correta.\n",
    "            troca(vec, inicio, meio - 1)\n",
    "\n",
    "            return meio - 1\n",
    "\n",
    "        p = particiona(vec, inicio, fim)\n",
    "        my_inner_sorting_function(vec, inicio, p)\n",
    "        my_inner_sorting_function(vec, p + 1, fim)\n",
    "\n",
    "    my_inner_sorting_function(vec, 0, len(vec))"
   ]
  },
  {
   "cell_type": "code",
   "execution_count": 10,
   "metadata": {},
   "outputs": [
    {
     "data": {
      "text/plain": [
       "[1, 2, 3, 4]"
      ]
     },
     "execution_count": 10,
     "metadata": {},
     "output_type": "execute_result"
    }
   ],
   "source": [
    "my_vec = [3, 1, 4, 2]\n",
    "my_sorting_function(my_vec)\n",
    "my_vec"
   ]
  },
  {
   "cell_type": "code",
   "execution_count": 11,
   "metadata": {},
   "outputs": [
    {
     "name": "stdout",
     "output_type": "stream",
     "text": [
      "True\n"
     ]
    }
   ],
   "source": [
    "def test_sorting_function(\n",
    "    sorting_function,\n",
    "    num_tests=1000,\n",
    "    vec_size=101,\n",
    "    rand_range=100,\n",
    "):\n",
    "    def is_sorted(x):\n",
    "        for i in range(len(x) - 1):\n",
    "            if x[i] > x[i + 1]:\n",
    "                return False\n",
    "        return True\n",
    "\n",
    "    for i in range(num_tests):\n",
    "        vec = [random.randrange(rand_range) for x in range(vec_size)]\n",
    "        sorting_function(vec)\n",
    "        if not is_sorted(vec):\n",
    "            return False\n",
    "\n",
    "    return True\n",
    "\n",
    "\n",
    "print(test_sorting_function(my_sorting_function))"
   ]
  },
  {
   "cell_type": "markdown",
   "metadata": {},
   "source": [
    "## Lambda\n",
    "\n",
    "Podemos criar funções anônimas em Python, chamadas *lambda*. Lambdas são normalmente usados quando precisamos de uma função simples, que se resume a um *statement*. Veja este exemplo:"
   ]
  },
  {
   "cell_type": "code",
   "execution_count": 12,
   "metadata": {},
   "outputs": [
    {
     "name": "stdout",
     "output_type": "stream",
     "text": [
      "[2, 3, 5, 7]\n",
      "[4, 9, 25, 49]\n"
     ]
    }
   ],
   "source": [
    "def mapeia(func, vec):\n",
    "    resultado = []\n",
    "    for value in vec:\n",
    "        resultado.append(func(value))\n",
    "    return resultado\n",
    "\n",
    "\n",
    "def quadrado(x):\n",
    "    return x * x\n",
    "\n",
    "\n",
    "data = [2, 3, 5, 7]\n",
    "res = mapeia(quadrado, data)\n",
    "\n",
    "print(data)\n",
    "print(res)"
   ]
  },
  {
   "cell_type": "markdown",
   "metadata": {},
   "source": [
    "Note que a função ```quadrado()``` é muito simples. Nestes casos podemos usar um lambda:"
   ]
  },
  {
   "cell_type": "code",
   "execution_count": 13,
   "metadata": {},
   "outputs": [
    {
     "name": "stdout",
     "output_type": "stream",
     "text": [
      "[4, 9, 25, 49]\n"
     ]
    }
   ],
   "source": [
    "res2 = mapeia(lambda x: x * x, data)\n",
    "print(res2)"
   ]
  },
  {
   "cell_type": "markdown",
   "metadata": {},
   "source": [
    "Veja como o lambda funciona: usamos a *keyword* ```lambda``` seguida dos argumentos da função e um dois-pontos. Em seguida vem uma expressão, que será avaliada e produzirá o valor retornado. Podemos usar mais de um argumento, como no exemplo abaixo:"
   ]
  },
  {
   "cell_type": "code",
   "execution_count": 14,
   "metadata": {},
   "outputs": [
    {
     "name": "stdout",
     "output_type": "stream",
     "text": [
      "[0, 1, 2, 3, 4, 5, 6, 7, 8, 9]\n",
      "45\n"
     ]
    }
   ],
   "source": [
    "def reduz(func, vec, valor_inicial):\n",
    "    valor = valor_inicial\n",
    "    for item in vec:\n",
    "        valor = func(item, valor)\n",
    "    return valor\n",
    "\n",
    "\n",
    "vec = list(range(10))\n",
    "soma = reduz(lambda x, y: x + y, vec, 0)\n",
    "\n",
    "print(vec)\n",
    "print(soma)"
   ]
  },
  {
   "cell_type": "markdown",
   "metadata": {},
   "source": [
    "Funções lambda não são essenciais à programação em Python, fica a seu cargo usar lambdas ou funções com nome. Mesmo o criador da linguagem Python (Guido van Rossum, o \"*Benevolent Dictator For Life*\" do Python) se arrepende de ter criado lambdas, e queria te-los removido do Python 3, mas a comunidade em geral acha lambdas úteis. Fica a seu cargo, não existe regra geral para adotar ou rejeitar o uso de lambdas."
   ]
  },
  {
   "cell_type": "markdown",
   "metadata": {},
   "source": [
    "### Exercício 1\n",
    "\n",
    "Faça uma função ```filtra(func, vec)``` que recebe uma função ```func(valor)``` e uma lista ```vec```, e retorna uma lista com os valores de ```vec``` para os quais ```func(valor)``` é ```True```."
   ]
  },
  {
   "cell_type": "code",
   "execution_count": 15,
   "metadata": {},
   "outputs": [],
   "source": [
    "def filtra(func, vec):\n",
    "    # Seu código aqui.\n",
    "    return [x for x in vec if func(x) == True]"
   ]
  },
  {
   "cell_type": "code",
   "execution_count": 16,
   "metadata": {},
   "outputs": [
    {
     "name": "stdout",
     "output_type": "stream",
     "text": [
      "[0, 1, 2, 3, 4, 5, 6, 7, 8, 9]\n",
      "[0, 2, 4, 6, 8]\n"
     ]
    }
   ],
   "source": [
    "# Exemplo para testes.\n",
    "x = list(range(10))\n",
    "print(x)\n",
    "\n",
    "def par(a):\n",
    "    return a % 2 == 0\n",
    "\n",
    "# Aplica a função \"par\" na lista \"x\"\n",
    "y = filtra(par, x)\n",
    "print(y)"
   ]
  },
  {
   "cell_type": "code",
   "execution_count": 17,
   "metadata": {},
   "outputs": [
    {
     "data": {
      "application/vnd.jupyter.widget-view+json": {
       "model_id": "bdb326fcd98e448d938837cd9acb05aa",
       "version_major": 2,
       "version_minor": 0
      },
      "text/plain": [
       "interactive(children=(Button(description='Enviar ex01', style=ButtonStyle()), Output()), _dom_classes=('widget…"
      ]
     },
     "execution_count": 17,
     "metadata": {},
     "output_type": "execute_result"
    }
   ],
   "source": [
    "ia.sender(answer=\"filtra\", task=\"functional\", question=\"ex01\", answer_type=\"pycode\")"
   ]
  },
  {
   "cell_type": "markdown",
   "metadata": {},
   "source": [
    "## Closures\n",
    "\n",
    "https://www.programiz.com/python-programming/closure\n",
    "\n",
    "Talvez você tenha percebido por acidente que em um escopo qualquer de Python temos acesso às variáveis do escopo e de escopos externos. Por exemplo:"
   ]
  },
  {
   "cell_type": "code",
   "execution_count": 18,
   "metadata": {},
   "outputs": [
    {
     "name": "stdout",
     "output_type": "stream",
     "text": [
      "8\n",
      "10\n"
     ]
    }
   ],
   "source": [
    "x = 5\n",
    "\n",
    "\n",
    "def func(value):\n",
    "    return x + value\n",
    "\n",
    "\n",
    "print(func(3))\n",
    "\n",
    "x = 7\n",
    "print(func(3))"
   ]
  },
  {
   "cell_type": "markdown",
   "metadata": {},
   "source": [
    "Isso normalmente é fonte de complicações, e deve ser evitado a todo custo! Existe uma exceção: *closures*.\n",
    "\n",
    "Em Python, *closure* é o nome dado à uma construção muito particular:\n",
    "\n",
    "- Temos uma função definida dentro de uma função.\n",
    "- Esta função interna usa variáveis do escopo da função externa.\n",
    "- A função externa retorna a função interna.\n",
    "\n",
    "Confuso? Vejamos um exemplo:"
   ]
  },
  {
   "cell_type": "code",
   "execution_count": 19,
   "metadata": {},
   "outputs": [
    {
     "name": "stdout",
     "output_type": "stream",
     "text": [
      "4\n"
     ]
    }
   ],
   "source": [
    "# Eis um exemplo de closure\n",
    "def aumentador(incremento):\n",
    "    def _aumentador(x):\n",
    "        return x + incremento\n",
    "\n",
    "    return _aumentador\n",
    "\n",
    "\n",
    "soma_um = aumentador(1)\n",
    "soma_cinco = aumentador(5)\n",
    "print(soma_um(3))"
   ]
  },
  {
   "cell_type": "code",
   "execution_count": 20,
   "metadata": {},
   "outputs": [
    {
     "name": "stdout",
     "output_type": "stream",
     "text": [
      "name 'aumentador' is not defined\n"
     ]
    }
   ],
   "source": [
    "# A partir de agora podemos até mesmo destruir aumentador()\n",
    "del aumentador\n",
    "\n",
    "# Veja que aumentador não existe mais:\n",
    "try:\n",
    "    aux = aumentador(3)\n",
    "except NameError as e:\n",
    "    print(e)"
   ]
  },
  {
   "cell_type": "code",
   "execution_count": 21,
   "metadata": {},
   "outputs": [
    {
     "name": "stdout",
     "output_type": "stream",
     "text": [
      "6\n",
      "10\n"
     ]
    }
   ],
   "source": [
    "# Porém soma_um() continua firme!\n",
    "print(soma_um(5))\n",
    "print(soma_cinco(5))"
   ]
  },
  {
   "cell_type": "markdown",
   "metadata": {},
   "source": [
    "Em um closure o sistema faz um \"backup\" das variáveis do escopo externo, **mas apenas nas condições de closure**. Confira os atributos de ```soma_um``` (afinal funções são objetos):"
   ]
  },
  {
   "cell_type": "code",
   "execution_count": 22,
   "metadata": {},
   "outputs": [
    {
     "data": {
      "text/plain": [
       "['__annotations__',\n",
       " '__builtins__',\n",
       " '__call__',\n",
       " '__class__',\n",
       " '__closure__',\n",
       " '__code__',\n",
       " '__defaults__',\n",
       " '__delattr__',\n",
       " '__dict__',\n",
       " '__dir__',\n",
       " '__doc__',\n",
       " '__eq__',\n",
       " '__format__',\n",
       " '__ge__',\n",
       " '__get__',\n",
       " '__getattribute__',\n",
       " '__getstate__',\n",
       " '__globals__',\n",
       " '__gt__',\n",
       " '__hash__',\n",
       " '__init__',\n",
       " '__init_subclass__',\n",
       " '__kwdefaults__',\n",
       " '__le__',\n",
       " '__lt__',\n",
       " '__module__',\n",
       " '__name__',\n",
       " '__ne__',\n",
       " '__new__',\n",
       " '__qualname__',\n",
       " '__reduce__',\n",
       " '__reduce_ex__',\n",
       " '__repr__',\n",
       " '__setattr__',\n",
       " '__sizeof__',\n",
       " '__str__',\n",
       " '__subclasshook__']"
      ]
     },
     "execution_count": 22,
     "metadata": {},
     "output_type": "execute_result"
    }
   ],
   "source": [
    "dir(soma_um)"
   ]
  },
  {
   "cell_type": "markdown",
   "metadata": {},
   "source": [
    "Observe que temos um atributo \"```__closure__```\". Vejamos o que está contido neste atributo:"
   ]
  },
  {
   "cell_type": "code",
   "execution_count": 23,
   "metadata": {},
   "outputs": [
    {
     "data": {
      "text/plain": [
       "['__add__',\n",
       " '__class__',\n",
       " '__class_getitem__',\n",
       " '__contains__',\n",
       " '__delattr__',\n",
       " '__dir__',\n",
       " '__doc__',\n",
       " '__eq__',\n",
       " '__format__',\n",
       " '__ge__',\n",
       " '__getattribute__',\n",
       " '__getitem__',\n",
       " '__getnewargs__',\n",
       " '__getstate__',\n",
       " '__gt__',\n",
       " '__hash__',\n",
       " '__init__',\n",
       " '__init_subclass__',\n",
       " '__iter__',\n",
       " '__le__',\n",
       " '__len__',\n",
       " '__lt__',\n",
       " '__mul__',\n",
       " '__ne__',\n",
       " '__new__',\n",
       " '__reduce__',\n",
       " '__reduce_ex__',\n",
       " '__repr__',\n",
       " '__rmul__',\n",
       " '__setattr__',\n",
       " '__sizeof__',\n",
       " '__str__',\n",
       " '__subclasshook__',\n",
       " 'count',\n",
       " 'index']"
      ]
     },
     "execution_count": 23,
     "metadata": {},
     "output_type": "execute_result"
    }
   ],
   "source": [
    "dir(soma_cinco.__closure__)"
   ]
  },
  {
   "cell_type": "code",
   "execution_count": 24,
   "metadata": {},
   "outputs": [
    {
     "data": {
      "text/plain": [
       "1"
      ]
     },
     "execution_count": 24,
     "metadata": {},
     "output_type": "execute_result"
    }
   ],
   "source": [
    "len(soma_cinco.__closure__)"
   ]
  },
  {
   "cell_type": "code",
   "execution_count": 25,
   "metadata": {},
   "outputs": [
    {
     "data": {
      "text/plain": [
       "['__class__',\n",
       " '__delattr__',\n",
       " '__dir__',\n",
       " '__doc__',\n",
       " '__eq__',\n",
       " '__format__',\n",
       " '__ge__',\n",
       " '__getattribute__',\n",
       " '__getstate__',\n",
       " '__gt__',\n",
       " '__hash__',\n",
       " '__init__',\n",
       " '__init_subclass__',\n",
       " '__le__',\n",
       " '__lt__',\n",
       " '__ne__',\n",
       " '__new__',\n",
       " '__reduce__',\n",
       " '__reduce_ex__',\n",
       " '__repr__',\n",
       " '__setattr__',\n",
       " '__sizeof__',\n",
       " '__str__',\n",
       " '__subclasshook__',\n",
       " 'cell_contents']"
      ]
     },
     "execution_count": 25,
     "metadata": {},
     "output_type": "execute_result"
    }
   ],
   "source": [
    "dir(soma_cinco.__closure__[0])"
   ]
  },
  {
   "cell_type": "code",
   "execution_count": 26,
   "metadata": {},
   "outputs": [
    {
     "data": {
      "text/plain": [
       "5"
      ]
     },
     "execution_count": 26,
     "metadata": {},
     "output_type": "execute_result"
    }
   ],
   "source": [
    "soma_cinco.__closure__[0].cell_contents"
   ]
  },
  {
   "cell_type": "markdown",
   "metadata": {},
   "source": [
    "Observe que o valor foi guardado no closure.\n",
    "\n",
    "Ok, mas e daí? Para que servem os *closures*?"
   ]
  },
  {
   "cell_type": "markdown",
   "metadata": {},
   "source": [
    "### Decorators"
   ]
  },
  {
   "cell_type": "code",
   "execution_count": 27,
   "metadata": {},
   "outputs": [
    {
     "name": "stdout",
     "output_type": "stream",
     "text": [
      "Argumentos posicionais: (1, 2)\n",
      "Argumentos nomeados: {'z': 3}\n",
      "Comentário: Insper\n",
      "Resultado: 6\n",
      "6\n"
     ]
    }
   ],
   "source": [
    "# Eis o decorator\n",
    "def temp_dec(nome):\n",
    "    def imprime_args(func):\n",
    "        def func_wrapper(*args, **kwargs):\n",
    "            resultado = func(*args, **kwargs)\n",
    "            print(\"Argumentos posicionais: {}\".format(args))\n",
    "            print(\"Argumentos nomeados: {}\".format(kwargs))\n",
    "            print(\"Comentário: {}\".format(nome))\n",
    "            print(\"Resultado: {}\".format(resultado))\n",
    "            return resultado\n",
    "\n",
    "        return func_wrapper\n",
    "\n",
    "    return imprime_args\n",
    "\n",
    "\n",
    "# Aplicação do decorator\n",
    "@temp_dec(\"Insper\")\n",
    "def uma_funcao_qualquer(x, y, z):\n",
    "    return x + y + z\n",
    "\n",
    "\n",
    "p = uma_funcao_qualquer(1, 2, z=3)\n",
    "print(p)"
   ]
  },
  {
   "cell_type": "markdown",
   "metadata": {},
   "source": [
    "### Exercício 2\n",
    "\n",
    "Caching: faça um decorator para guardar um dicionário de valores já calculados de uma função. Se em uma nova chamada tivermos como argumento um valor já visto, retorna direto do dicionário, senão realmente chama a função sendo decorada.\n",
    "\n",
    "Utilize mensagens no padrão:\n",
    "\n",
    "```python\n",
    "print(f\"Retornando valor cacheado de {val}\")\n",
    "print(f\"Tenho que calcular para {val}\")\n",
    "print(f\"Retornou ({val}) -> ({resultado})\")\n",
    "```\n",
    "\n",
    "Sua função deve se chamar `caching`."
   ]
  },
  {
   "cell_type": "code",
   "execution_count": 39,
   "metadata": {},
   "outputs": [
    {
     "name": "stdout",
     "output_type": "stream",
     "text": [
      "--------------------------------------------------\n",
      "Tenho que calcular para 4\n",
      "Calculando fat(4)\n",
      "Tenho que calcular para 3\n",
      "Calculando fat(3)\n",
      "Tenho que calcular para 2\n",
      "Calculando fat(2)\n",
      "Tenho que calcular para 1\n",
      "Calculando fat(1)\n",
      "Tenho que calcular para 0\n",
      "Calculando fat(0)\n",
      "Retornou (0) -> (1)\n",
      "Retornou (1) -> (1)\n",
      "Retornou (2) -> (2)\n",
      "Retornou (3) -> (6)\n",
      "Retornou (4) -> (24)\n",
      "Fatorial(4) = 24\n",
      "--------------------------------------------------\n",
      "Retornando valor cacheado de 2\n",
      "Fatorial(2) = 2\n",
      "--------------------------------------------------\n",
      "Tenho que calcular para 6\n",
      "Calculando fat(6)\n",
      "Tenho que calcular para 5\n",
      "Calculando fat(5)\n",
      "Retornando valor cacheado de 4\n",
      "Retornou (5) -> (120)\n",
      "Retornou (6) -> (720)\n",
      "Fatorial(6) = 720\n",
      "--------------------------------------------------\n"
     ]
    }
   ],
   "source": [
    "def caching():\n",
    "    def funcao_dic(func):\n",
    "        dicio = {}\n",
    "        def func_wrapper(*args, **kwargs):\n",
    "\n",
    "            if args[0] not in dicio:\n",
    "                print(f\"Tenho que calcular para {args[0]}\")\n",
    "                dicio[args[0]] = func(args[0])\n",
    "                print(f\"Retornou ({args[0]}) -> ({dicio[args[0]]})\")\n",
    "\n",
    "            else:\n",
    "                print(f\"Retornando valor cacheado de {args[0]}\")\n",
    "\n",
    "            return dicio[args[0]]\n",
    "\n",
    "        return func_wrapper\n",
    "\n",
    "    return funcao_dic\n",
    "\n",
    "\n",
    "# Aplicação do decorator para testes\n",
    "@caching()\n",
    "def fatorial(x):\n",
    "    print(f\"Calculando fat({x})\")\n",
    "    return 1 if x <= 0 else x * fatorial(x - 1)\n",
    "\n",
    "\n",
    "print(\"-\" * 50)\n",
    "print(f\"Fatorial(4) = {fatorial(4)}\")\n",
    "print(\"-\" * 50)\n",
    "print(f\"Fatorial(2) = {fatorial(2)}\")\n",
    "print(\"-\" * 50)\n",
    "print(f\"Fatorial(6) = {fatorial(6)}\")\n",
    "print(\"-\" * 50)"
   ]
  },
  {
   "cell_type": "code",
   "execution_count": 40,
   "metadata": {},
   "outputs": [
    {
     "data": {
      "application/vnd.jupyter.widget-view+json": {
       "model_id": "bdfda99658f749a0a8406c48cb93854b",
       "version_major": 2,
       "version_minor": 0
      },
      "text/plain": [
       "interactive(children=(Button(description='Enviar ex02', style=ButtonStyle()), Output()), _dom_classes=('widget…"
      ]
     },
     "execution_count": 40,
     "metadata": {},
     "output_type": "execute_result"
    }
   ],
   "source": [
    "ia.sender(answer=\"caching\", task=\"functional\", question=\"ex02\", answer_type=\"pycode\")"
   ]
  },
  {
   "cell_type": "markdown",
   "metadata": {},
   "source": [
    "Este padrão é tão comum que o Python já oferece esse decorator no pacote ```functools```. Veja este exemplo obtido da documentação da biblioteca:"
   ]
  },
  {
   "cell_type": "code",
   "execution_count": 35,
   "metadata": {},
   "outputs": [
    {
     "data": {
      "text/plain": [
       "[0, 1, 1, 2, 3, 5, 8, 13, 21, 34, 55, 89, 144, 233, 377, 610]"
      ]
     },
     "execution_count": 35,
     "metadata": {},
     "output_type": "execute_result"
    }
   ],
   "source": [
    "import functools\n",
    "\n",
    "\n",
    "@functools.lru_cache(maxsize=None)\n",
    "def fib(n):\n",
    "    if n < 2:\n",
    "        return n\n",
    "    return fib(n - 1) + fib(n - 2)\n",
    "\n",
    "\n",
    "[fib(n) for n in range(16)]"
   ]
  },
  {
   "cell_type": "code",
   "execution_count": 36,
   "metadata": {},
   "outputs": [
    {
     "data": {
      "text/plain": [
       "CacheInfo(hits=28, misses=16, maxsize=None, currsize=16)"
      ]
     },
     "execution_count": 36,
     "metadata": {},
     "output_type": "execute_result"
    }
   ],
   "source": [
    "fib.cache_info()"
   ]
  },
  {
   "cell_type": "markdown",
   "metadata": {},
   "source": [
    "### Aplicação parcial de argumentos\n",
    "\n",
    "Eis um *closure* que recebe uma função que opera em dois argumentos (uma $f(x,y)$) e um valor $x_0$ e \"congela\" o primeiro valor, resultando em uma $g(y) = f(x_0,y)$\"."
   ]
  },
  {
   "cell_type": "code",
   "execution_count": 41,
   "metadata": {},
   "outputs": [],
   "source": [
    "def aplica_primeiro_argumento(func, x):\n",
    "    def wrapper(y):\n",
    "        return func(x, y)\n",
    "\n",
    "    return wrapper"
   ]
  },
  {
   "cell_type": "markdown",
   "metadata": {},
   "source": [
    "Testando:"
   ]
  },
  {
   "cell_type": "code",
   "execution_count": 42,
   "metadata": {},
   "outputs": [
    {
     "name": "stdout",
     "output_type": "stream",
     "text": [
      "7\n",
      "7\n"
     ]
    }
   ],
   "source": [
    "def soma_dois_args(x, y):\n",
    "    return x + y\n",
    "\n",
    "\n",
    "print(soma_dois_args(2, 5))\n",
    "\n",
    "soma_cinco = aplica_primeiro_argumento(soma_dois_args, 5)\n",
    "print(soma_cinco(2))"
   ]
  },
  {
   "cell_type": "markdown",
   "metadata": {},
   "source": [
    "A aplicação parcial de argumentos é uma ferramenta tão comum em programação funcional que o Python tem uma função mais genérica para isso no pacote ```functools```:"
   ]
  },
  {
   "cell_type": "code",
   "execution_count": null,
   "metadata": {},
   "outputs": [],
   "source": [
    "soma_3 = functools.partial(soma_dois_args, 3)\n",
    "print(soma_3(10))"
   ]
  },
  {
   "cell_type": "markdown",
   "metadata": {},
   "source": [
    "## List comprehensions\n",
    "\n",
    "Antes de prosseguirmos na exploração de programação funcional em Python, vamos aprender sobre *list comprehensions*. Considere a função abaixo que retorna uma nova lista onde cada item é o quadrado do item equivalente na lista passada como argumento."
   ]
  },
  {
   "cell_type": "code",
   "execution_count": 43,
   "metadata": {},
   "outputs": [
    {
     "name": "stdout",
     "output_type": "stream",
     "text": [
      "[4, 9, 25]\n"
     ]
    }
   ],
   "source": [
    "def lista_quadrado(vec):\n",
    "    res = []\n",
    "    for item in vec:\n",
    "        res.append(item ** 2)\n",
    "    return res\n",
    "\n",
    "\n",
    "vec = [2, 3, 5]\n",
    "vec_quad = lista_quadrado(vec)\n",
    "\n",
    "print(vec_quad)"
   ]
  },
  {
   "cell_type": "markdown",
   "metadata": {},
   "source": [
    "Vamos fazer o mesmo com *list comprehension*:"
   ]
  },
  {
   "cell_type": "code",
   "execution_count": 44,
   "metadata": {},
   "outputs": [
    {
     "name": "stdout",
     "output_type": "stream",
     "text": [
      "[4, 9, 25]\n"
     ]
    }
   ],
   "source": [
    "vec_quad_2 = [x ** 2 for x in vec]\n",
    "print(vec_quad_2)"
   ]
  },
  {
   "cell_type": "code",
   "execution_count": 45,
   "metadata": {},
   "outputs": [
    {
     "name": "stdout",
     "output_type": "stream",
     "text": [
      "[4, 9, 25]\n"
     ]
    }
   ],
   "source": [
    "vec_quad_3 = []\n",
    "for x in vec:\n",
    "    vec_quad_3.append(x * x)\n",
    "print(vec_quad_3)"
   ]
  },
  {
   "cell_type": "markdown",
   "metadata": {},
   "source": [
    "Podemos também filtrar uma lista:"
   ]
  },
  {
   "cell_type": "code",
   "execution_count": 46,
   "metadata": {},
   "outputs": [
    {
     "name": "stdout",
     "output_type": "stream",
     "text": [
      "[0, 2, 4, 6, 8, 10, 12, 14, 16, 18]\n"
     ]
    }
   ],
   "source": [
    "vec = list(range(20))\n",
    "vec_even = [x for x in vec if x % 2 == 0]\n",
    "print(vec_even)"
   ]
  },
  {
   "cell_type": "markdown",
   "metadata": {},
   "source": [
    "É possível, mas não muito recomendável, fazer multiplos `for` em um *list comprehension*:"
   ]
  },
  {
   "cell_type": "code",
   "execution_count": 47,
   "metadata": {},
   "outputs": [
    {
     "data": {
      "text/plain": [
       "[(1, 'a'), (1, 'b'), (2, 'a'), (2, 'b'), (3, 'a'), (3, 'b')]"
      ]
     },
     "execution_count": 47,
     "metadata": {},
     "output_type": "execute_result"
    }
   ],
   "source": [
    "res = [(x, y) for x in [1, 2, 3] for y in [\"a\", \"b\"]]\n",
    "res"
   ]
  },
  {
   "cell_type": "markdown",
   "metadata": {},
   "source": [
    "Isto é equivalente a:"
   ]
  },
  {
   "cell_type": "code",
   "execution_count": 48,
   "metadata": {},
   "outputs": [
    {
     "data": {
      "text/plain": [
       "[(1, 'a'), (1, 'b'), (2, 'a'), (2, 'b'), (3, 'a'), (3, 'b')]"
      ]
     },
     "execution_count": 48,
     "metadata": {},
     "output_type": "execute_result"
    }
   ],
   "source": [
    "res = []\n",
    "for x in [1, 2, 3]:\n",
    "    for y in [\"a\", \"b\"]:\n",
    "        res.append((x, y))\n",
    "res"
   ]
  },
  {
   "cell_type": "markdown",
   "metadata": {},
   "source": [
    "Podemos inclusive estabelecer uma relação de dependência do segundo `for` em relação ao primeiro:"
   ]
  },
  {
   "cell_type": "code",
   "execution_count": 49,
   "metadata": {},
   "outputs": [
    {
     "data": {
      "text/plain": [
       "[(0, 0), (0, 1), (0, 2), (1, 1), (1, 2), (2, 2)]"
      ]
     },
     "execution_count": 49,
     "metadata": {},
     "output_type": "execute_result"
    }
   ],
   "source": [
    "res = [(i, j) for i in range(3) for j in range(i, 3)]\n",
    "res"
   ]
  },
  {
   "cell_type": "markdown",
   "metadata": {},
   "source": [
    "Isto é equivalente a:"
   ]
  },
  {
   "cell_type": "code",
   "execution_count": null,
   "metadata": {},
   "outputs": [],
   "source": [
    "res = []\n",
    "for i in range(3):\n",
    "    for j in range(i, 3):\n",
    "        res.append((i, j))\n",
    "res"
   ]
  },
  {
   "cell_type": "markdown",
   "metadata": {},
   "source": [
    "Podemos tambem incluir condicionais:"
   ]
  },
  {
   "cell_type": "code",
   "execution_count": null,
   "metadata": {},
   "outputs": [],
   "source": [
    "res = [(i, j) for i in range(5) if i % 2 == 0 for j in range(i, 5) if j % 2 == 0]\n",
    "res"
   ]
  },
  {
   "cell_type": "markdown",
   "metadata": {},
   "source": [
    "Isto é equivalente à:"
   ]
  },
  {
   "cell_type": "code",
   "execution_count": null,
   "metadata": {},
   "outputs": [],
   "source": [
    "res = []\n",
    "for i in range(5):\n",
    "    if i % 2 == 0:\n",
    "        for j in range(i, 5):\n",
    "            if j % 2 == 0:\n",
    "                res.append((i, j))\n",
    "res"
   ]
  },
  {
   "cell_type": "markdown",
   "metadata": {},
   "source": [
    "## ```zip()```\n",
    "\n",
    "Outra característica útil de Python é a função ```zip()```. Esta função recebe dois iteráveis e retorna um novo iterável formado por pares obtidos através da fusão elemento-a-elemento dos iteráveis iniciais. O iterável de pares que é retornado itera até que um dos iteráveis originais esteja esgotado. Por exemplo:"
   ]
  },
  {
   "cell_type": "code",
   "execution_count": 50,
   "metadata": {
    "scrolled": true
   },
   "outputs": [
    {
     "name": "stdout",
     "output_type": "stream",
     "text": [
      "<zip object at 0x0000019F4A9ABD80>\n"
     ]
    }
   ],
   "source": [
    "x1 = [2, 3, 5]\n",
    "x2 = [\"abobora\", \"batata\", \"chuchu\", \"tomate\"]\n",
    "\n",
    "y = zip(x1, x2)\n",
    "print(y)"
   ]
  },
  {
   "cell_type": "code",
   "execution_count": 51,
   "metadata": {
    "scrolled": true
   },
   "outputs": [
    {
     "name": "stdout",
     "output_type": "stream",
     "text": [
      "[(2, 'abobora'), (3, 'batata'), (5, 'chuchu')]\n"
     ]
    }
   ],
   "source": [
    "print(list(y))"
   ]
  },
  {
   "cell_type": "code",
   "execution_count": 52,
   "metadata": {},
   "outputs": [
    {
     "name": "stdout",
     "output_type": "stream",
     "text": [
      "[(2, 'abobora'), (3, 'batata'), (5, 'chuchu')]\n"
     ]
    }
   ],
   "source": [
    "print([x for x in zip(x1, x2)])"
   ]
  },
  {
   "cell_type": "code",
   "execution_count": 53,
   "metadata": {},
   "outputs": [
    {
     "name": "stdout",
     "output_type": "stream",
     "text": [
      "abobora, 2\n",
      "batata, 3\n",
      "chuchu, 5\n"
     ]
    }
   ],
   "source": [
    "for primo, comida in zip(x1, x2):\n",
    "    print(f\"{comida}, {primo}\")"
   ]
  },
  {
   "cell_type": "markdown",
   "metadata": {},
   "source": [
    "### Exercício 3\n",
    "\n",
    "Use ```sum()```, ```zip()``` e *list comprehension* para implementar o produto escalar de dois vetores em $\\mathbb{R}^n$:\n",
    "\n",
    "$$\\left<x, y\\right> = \\sum_{i=1}^{n} x_i y_i$$"
   ]
  },
  {
   "cell_type": "code",
   "execution_count": 56,
   "metadata": {},
   "outputs": [],
   "source": [
    "def dot_prod(x, y):\n",
    "    # Seu código AQUI!\n",
    "    pairs = zip(x, y)\n",
    "    return sum([x[0] * x[1] for x in pairs])"
   ]
  },
  {
   "cell_type": "code",
   "execution_count": 57,
   "metadata": {},
   "outputs": [
    {
     "name": "stdout",
     "output_type": "stream",
     "text": [
      "[0, 1, 2, 3, 4, 5, 6, 7, 8, 9]\n",
      "[0, 1, 2, 3, 4, 5, 6, 7, 8, 9]\n",
      "285\n"
     ]
    }
   ],
   "source": [
    "# Código para testes\n",
    "\n",
    "x = list(range(10))\n",
    "y = list(range(10))\n",
    "\n",
    "print(x)\n",
    "print(y)\n",
    "\n",
    "res_dot_prod = dot_prod(x, y)\n",
    "print(res_dot_prod)"
   ]
  },
  {
   "cell_type": "code",
   "execution_count": 58,
   "metadata": {},
   "outputs": [
    {
     "data": {
      "application/vnd.jupyter.widget-view+json": {
       "model_id": "7025ed6fd3e04c09aed558962b2430ea",
       "version_major": 2,
       "version_minor": 0
      },
      "text/plain": [
       "interactive(children=(Button(description='Enviar ex03', style=ButtonStyle()), Output()), _dom_classes=('widget…"
      ]
     },
     "execution_count": 58,
     "metadata": {},
     "output_type": "execute_result"
    }
   ],
   "source": [
    "ia.sender(answer=\"dot_prod\", task=\"functional\", question=\"ex03\", answer_type=\"pycode\")"
   ]
  },
  {
   "cell_type": "markdown",
   "metadata": {},
   "source": [
    "Voltamos agora à programação original."
   ]
  },
  {
   "cell_type": "markdown",
   "metadata": {},
   "source": [
    "## Funções puras\n",
    "\n",
    "Uma função pura é uma função sem *efeitos colaterais* (*side-effects*): não altera a entrada, nem resulta em respostas diferentes para chamadas iguais.\n",
    "\n",
    "Considere a função a seguir:"
   ]
  },
  {
   "cell_type": "code",
   "execution_count": 6,
   "metadata": {},
   "outputs": [
    {
     "name": "stdout",
     "output_type": "stream",
     "text": [
      "[2, 3, 4]\n",
      "[2, 3, 4]\n"
     ]
    }
   ],
   "source": [
    "def soma_um_em_tudo(vec):\n",
    "    res = vec\n",
    "    for i in range(len(res)):\n",
    "        res[i] += 1\n",
    "    return res\n",
    "\n",
    "\n",
    "x = [1, 2, 3]\n",
    "y = soma_um_em_tudo(x)\n",
    "\n",
    "print(x)\n",
    "print(y)"
   ]
  },
  {
   "cell_type": "markdown",
   "metadata": {},
   "source": [
    "Observe que a chamada da função resultou na modificação do vetor de entrada! Esta é uma função com efeitos colaterais.\n",
    "\n",
    "Considere agora esta outra versão:"
   ]
  },
  {
   "cell_type": "code",
   "execution_count": 7,
   "metadata": {},
   "outputs": [
    {
     "name": "stdout",
     "output_type": "stream",
     "text": [
      "[1, 2, 3]\n",
      "[2, 3, 4]\n"
     ]
    }
   ],
   "source": [
    "def soma_um_em_tudo(vec):\n",
    "    res = vec.copy()\n",
    "    for i in range(len(res)):\n",
    "        res[i] += 1\n",
    "    return res\n",
    "\n",
    "\n",
    "x = [1, 2, 3]\n",
    "y = soma_um_em_tudo(x)\n",
    "\n",
    "print(x)\n",
    "print(y)"
   ]
  },
  {
   "cell_type": "markdown",
   "metadata": {},
   "source": [
    "Agora tudo bem, temos uma função pura.\n",
    "\n",
    "Veja este outro exemplo:"
   ]
  },
  {
   "cell_type": "code",
   "execution_count": 8,
   "metadata": {},
   "outputs": [
    {
     "name": "stdout",
     "output_type": "stream",
     "text": [
      "2\n",
      "3\n"
     ]
    }
   ],
   "source": [
    "contador = 0\n",
    "\n",
    "\n",
    "def foo(x):\n",
    "    global contador\n",
    "    contador += 1\n",
    "    return x + contador\n",
    "\n",
    "\n",
    "print(foo(1))\n",
    "print(foo(1))"
   ]
  },
  {
   "cell_type": "markdown",
   "metadata": {},
   "source": [
    "Este também é um exemplo de função com efeitos colaterais.\n",
    "\n",
    "Funções puras são importantes porque:\n",
    "\n",
    "- São mais fáceis de debugar;\n",
    "- Podem ser cacheadas externamente;\n",
    "- Podem ser paralelizáveis;\n",
    "- Permitem demonstrar, em certos casos, que o sistema funciona matematicamente."
   ]
  },
  {
   "cell_type": "markdown",
   "metadata": {},
   "source": [
    "## Higher-order functions\n",
    "\n",
    "Funções que recebem outras funções como argumento são chamadas de funções de ordem superior (*higher-order functions*). Algumas das mais importantes são ```map()```, ```filter()``` e ```reduce()```.\n",
    "\n",
    "### ```map()```\n",
    "\n",
    "A função ```map(func, iteravel)``` recebe uma função (preferencialmente pura) ```func``` e uma estrutura de dados iterável (como uma lista), e retorna um iterador onde cada elemento corresponde a um elemento do iterável inicial após aplicação da função. Por exemplo:"
   ]
  },
  {
   "cell_type": "code",
   "execution_count": 62,
   "metadata": {},
   "outputs": [
    {
     "name": "stdout",
     "output_type": "stream",
     "text": [
      "<map object at 0x0000019F4A3BD0F0>\n"
     ]
    }
   ],
   "source": [
    "vec = [2, 3, 5]\n",
    "aux = map(lambda x: x ** 2, vec)\n",
    "print(aux)"
   ]
  },
  {
   "cell_type": "code",
   "execution_count": 63,
   "metadata": {},
   "outputs": [
    {
     "name": "stdout",
     "output_type": "stream",
     "text": [
      "[4, 9, 25]\n"
     ]
    }
   ],
   "source": [
    "resultado = list(aux)\n",
    "print(resultado)"
   ]
  },
  {
   "cell_type": "markdown",
   "metadata": {},
   "source": [
    "Note que poderíamos ter escrito um loop for para obter esse resultado. Com o map() não precisamos escrever loops (uma vantagem), e podemos deixar - em princípio - o Python decidir se quer rodar essa operação de mapeamento em paralelo, dividindo o trabalho entre vários *cores* (uma IMENSA vantagem!). \n",
    "\n",
    "### ```filter()```\n",
    "\n",
    "A função ```filter(func, iteravel)``` recebe uma função ```func``` e um iterável e retorna um iterável cujos itens são aqueles onde ```func()``` retornou True ao ser aplicada aos itens do iteravel original. Por exemplo:"
   ]
  },
  {
   "cell_type": "code",
   "execution_count": 9,
   "metadata": {},
   "outputs": [
    {
     "name": "stdout",
     "output_type": "stream",
     "text": [
      "<filter object at 0x000001CEA6FEE200>\n"
     ]
    }
   ],
   "source": [
    "vec = list(range(10))\n",
    "aux = filter(lambda x: x % 2 == 1, vec)\n",
    "print(aux)"
   ]
  },
  {
   "cell_type": "code",
   "execution_count": 10,
   "metadata": {},
   "outputs": [
    {
     "name": "stdout",
     "output_type": "stream",
     "text": [
      "[1, 3, 5, 7, 9]\n"
     ]
    }
   ],
   "source": [
    "resultado = list(aux)\n",
    "print(resultado)"
   ]
  },
  {
   "cell_type": "markdown",
   "metadata": {},
   "source": [
    "### ```reduce()```\n",
    "A função ```functools.reduce(func, iterable, initial)``` recebe uma função ```func(x,y)```, um iterável e um valor inicial, e combina os valores do iterável através da aplicação repetida de ```func()``` que serve para combinar os valores dois-a-dois, exatamente como na função ```reduz()``` acima. Se o valor inicial não for passado então o primeiro valor do iterável servirá para iniciar o processo. Por exemplo:"
   ]
  },
  {
   "cell_type": "code",
   "execution_count": 11,
   "metadata": {},
   "outputs": [
    {
     "name": "stdout",
     "output_type": "stream",
     "text": [
      "45\n"
     ]
    }
   ],
   "source": [
    "from functools import reduce\n",
    "\n",
    "vec = list(range(10))\n",
    "soma = reduce(lambda x, y: x + y, vec)\n",
    "print(soma)"
   ]
  },
  {
   "cell_type": "markdown",
   "metadata": {},
   "source": [
    "### Exercício 4\n",
    "\n",
    "Escreva uma função que receba uma lista de números e retorne uma nova lista contendo o quadrado do valor absoluto de cada número da lista original.\n",
    "\n",
    "Não use loops: use `map()`, `filter()` e `reduce()`.\n",
    "\n",
    "Sua função deve ter a assinatura `def calc_quadrado_abs(vec)`."
   ]
  },
  {
   "cell_type": "code",
   "execution_count": 21,
   "metadata": {},
   "outputs": [],
   "source": [
    "def calc_quadrado_abs(vec):\n",
    "    # Seu código AQUI!\n",
    "    return list(map(lambda x: x**2, vec))"
   ]
  },
  {
   "cell_type": "code",
   "execution_count": 22,
   "metadata": {},
   "outputs": [
    {
     "name": "stdout",
     "output_type": "stream",
     "text": [
      "[1, 1]\n",
      "[25, 9, 0, 1, 4, 9]\n"
     ]
    }
   ],
   "source": [
    "# Caso para testar\n",
    "numbers = [-1, 1]\n",
    "print(calc_quadrado_abs(numbers))\n",
    "\n",
    "numbers = [-5, -3 , 0, 1, 2, 3]\n",
    "print(calc_quadrado_abs(numbers))"
   ]
  },
  {
   "cell_type": "code",
   "execution_count": 23,
   "metadata": {
    "scrolled": true
   },
   "outputs": [
    {
     "data": {
      "application/vnd.jupyter.widget-view+json": {
       "model_id": "1533b5b21a7041a9b08b04ab2fea892e",
       "version_major": 2,
       "version_minor": 0
      },
      "text/plain": [
       "interactive(children=(Button(description='Enviar ex04', style=ButtonStyle()), Output()), _dom_classes=('widget…"
      ]
     },
     "execution_count": 23,
     "metadata": {},
     "output_type": "execute_result"
    }
   ],
   "source": [
    "ia.sender(answer=\"calc_quadrado_abs\", task=\"functional\", question=\"ex04\", answer_type=\"pycode\")"
   ]
  },
  {
   "cell_type": "markdown",
   "metadata": {},
   "source": [
    "### Exercício 5\n",
    "\n",
    "Escreva uma função que receba uma lista de palavras e retorne uma nova lista contendo apenas as palavras com mais de 5 caracteres.\n",
    "\n",
    "Não use loops: use `map()`, `filter()` e `reduce()`.\n",
    "\n",
    "Sua função deve ter a assinatura `def filtra_palavras_longas(palavras)`."
   ]
  },
  {
   "cell_type": "code",
   "execution_count": 24,
   "metadata": {},
   "outputs": [],
   "source": [
    "def filtra_palavras_longas(palavras):\n",
    "    # Seu código AQUI!\n",
    "    return list(filter(lambda x: len(x) >5, palavras))"
   ]
  },
  {
   "cell_type": "code",
   "execution_count": 25,
   "metadata": {},
   "outputs": [
    {
     "name": "stdout",
     "output_type": "stream",
     "text": [
      "['megadados', 'funcional']\n"
     ]
    }
   ],
   "source": [
    "# Caso para testar\n",
    "palavras = [\"ai\", \"ois\", \"megadados\", \"mysql\", \"funcional\", \"2077\"]\n",
    "print(filtra_palavras_longas(palavras))"
   ]
  },
  {
   "cell_type": "code",
   "execution_count": 26,
   "metadata": {},
   "outputs": [
    {
     "data": {
      "application/vnd.jupyter.widget-view+json": {
       "model_id": "f2490f2326e34d778fc0a695a40a036c",
       "version_major": 2,
       "version_minor": 0
      },
      "text/plain": [
       "interactive(children=(Button(description='Enviar ex05', style=ButtonStyle()), Output()), _dom_classes=('widget…"
      ]
     },
     "execution_count": 26,
     "metadata": {},
     "output_type": "execute_result"
    }
   ],
   "source": [
    "ia.sender(answer=\"filtra_palavras_longas\", task=\"functional\", question=\"ex05\", answer_type=\"pycode\")"
   ]
  },
  {
   "cell_type": "markdown",
   "metadata": {},
   "source": [
    "### Exercício 6\n",
    "\n",
    "Escreva uma função que receba uma lista de palavras e retorne a concatenação de todas as palavras.\n",
    "\n",
    "Não use loops nem join: use `map()`, `filter()` e `reduce()`.\n",
    "\n",
    "Sua função deve ter a assinatura `def concatena_palavras(palavras)`."
   ]
  },
  {
   "cell_type": "code",
   "execution_count": 27,
   "metadata": {},
   "outputs": [],
   "source": [
    "def concatena_palavras(palavras):\n",
    "    # Seu código AQUI!\n",
    "    return reduce(lambda x, y: x + y, palavras)"
   ]
  },
  {
   "cell_type": "code",
   "execution_count": 28,
   "metadata": {},
   "outputs": [
    {
     "name": "stdout",
     "output_type": "stream",
     "text": [
      "aioismegadadosmysqlfuncional2077\n"
     ]
    }
   ],
   "source": [
    "# Caso para testar\n",
    "palavras = [\"ai\", \"ois\", \"megadados\", \"mysql\", \"funcional\", \"2077\"]\n",
    "print(concatena_palavras(palavras))"
   ]
  },
  {
   "cell_type": "code",
   "execution_count": 29,
   "metadata": {},
   "outputs": [
    {
     "data": {
      "application/vnd.jupyter.widget-view+json": {
       "model_id": "bcd36f6903b9405a9df8c66998679f0d",
       "version_major": 2,
       "version_minor": 0
      },
      "text/plain": [
       "interactive(children=(Button(description='Enviar ex06', style=ButtonStyle()), Output()), _dom_classes=('widget…"
      ]
     },
     "execution_count": 29,
     "metadata": {},
     "output_type": "execute_result"
    }
   ],
   "source": [
    "ia.sender(answer=\"concatena_palavras\", task=\"functional\", question=\"ex06\", answer_type=\"pycode\")"
   ]
  },
  {
   "cell_type": "markdown",
   "metadata": {},
   "source": [
    "### Exercício 7\n",
    "\n",
    "Escreva um programa que calcula o quadrado dos elementos de uma lista, apenas para os valores positivos.\n",
    "\n",
    "Não use loops: use `map()`, `filter()` e `reduce()`.\n",
    "\n",
    "Sua função deve ter a assinatura `def calc_quadrado(vec)`."
   ]
  },
  {
   "cell_type": "code",
   "execution_count": 48,
   "metadata": {},
   "outputs": [],
   "source": [
    "def calc_quadrado(vec):\n",
    "    # Seu código AQUI!\n",
    "    validos = list(map(lambda x: x**2, filter(lambda y: y > 0, vec)))\n",
    "    if len(validos) == 0:\n",
    "        return 0\n",
    "    return reduce(lambda x, y: x+y ,validos)"
   ]
  },
  {
   "cell_type": "code",
   "execution_count": 49,
   "metadata": {},
   "outputs": [
    {
     "name": "stdout",
     "output_type": "stream",
     "text": [
      "30\n"
     ]
    }
   ],
   "source": [
    "# Um caso para testar\n",
    "# resultado_esperado: 1**2 + 2**2 + 3**2 + 4**2 = 1 + 4 + 9 + 16 = 30\n",
    "\n",
    "vec = list(range(-2, 5))\n",
    "print(calc_quadrado(vec))"
   ]
  },
  {
   "cell_type": "code",
   "execution_count": 50,
   "metadata": {},
   "outputs": [
    {
     "data": {
      "application/vnd.jupyter.widget-view+json": {
       "model_id": "099bc6d8858148938a71624e26902d39",
       "version_major": 2,
       "version_minor": 0
      },
      "text/plain": [
       "interactive(children=(Button(description='Enviar ex07', style=ButtonStyle()), Output()), _dom_classes=('widget…"
      ]
     },
     "execution_count": 50,
     "metadata": {},
     "output_type": "execute_result"
    }
   ],
   "source": [
    "ia.sender(answer=\"calc_quadrado\", task=\"functional\", question=\"ex07\", answer_type=\"pycode\")"
   ]
  },
  {
   "cell_type": "markdown",
   "metadata": {},
   "source": [
    "Como você pode ver, ficou meio esquisito mas funciona. Vamos agora construir uma classe auxiliar que permite encadear as operações:"
   ]
  },
  {
   "cell_type": "code",
   "execution_count": 33,
   "metadata": {},
   "outputs": [],
   "source": [
    "class MeuDataFrameCaseiro:\n",
    "    def __init__(self, dados):\n",
    "        self.dados = dados\n",
    "\n",
    "    def map(self, func):\n",
    "        novos_dados = list(map(func, self.dados))\n",
    "        return MeuDataFrameCaseiro(novos_dados)\n",
    "\n",
    "    def filter(self, func):\n",
    "        novos_dados = list(filter(func, self.dados))\n",
    "        return MeuDataFrameCaseiro(novos_dados)\n",
    "\n",
    "    def reduce(self, func, init):\n",
    "        return reduce(func, self.dados, init)"
   ]
  },
  {
   "cell_type": "markdown",
   "metadata": {},
   "source": [
    "Usando essa classe fica mais intuitivo escrever nossa tarefa acima:"
   ]
  },
  {
   "cell_type": "code",
   "execution_count": 34,
   "metadata": {},
   "outputs": [
    {
     "data": {
      "text/plain": [
       "30"
      ]
     },
     "execution_count": 34,
     "metadata": {},
     "output_type": "execute_result"
    }
   ],
   "source": [
    "df = MeuDataFrameCaseiro(vec)\n",
    "\n",
    "df.filter(lambda x: x > 0).map(lambda x: x ** 2).reduce(lambda x, y: x + y, 0)"
   ]
  },
  {
   "cell_type": "markdown",
   "metadata": {},
   "source": [
    "### Exercício 8\n",
    "\n",
    "O código abaixo le as linhas de um arquivo CSV contendo dados sobre pacientes e se estes apareceram nas suas consultas médicas agendadas ou se faltaram.\n",
    "\n",
    "Escreva um programa que calcula a média de idade dos homens que faltaram às consultas.\n",
    "\n",
    "Não use loops, use apenas programação funcional."
   ]
  },
  {
   "cell_type": "code",
   "execution_count": 35,
   "metadata": {},
   "outputs": [
    {
     "name": "stdout",
     "output_type": "stream",
     "text": [
      "0: PatientId\n",
      "1: AppointmentID\n",
      "2: Gender\n",
      "3: ScheduledDay\n",
      "4: AppointmentDay\n",
      "5: Age\n",
      "6: Neighbourhood\n",
      "7: Scholarship\n",
      "8: Hipertension\n",
      "9: Diabetes\n",
      "10: Alcoholism\n",
      "11: Handcap\n",
      "12: SMS_received\n",
      "13: No-show\n"
     ]
    }
   ],
   "source": [
    "import functools\n",
    "\n",
    "import numpy as np\n",
    "\n",
    "filename = \"pacientes.csv\"\n",
    "\n",
    "with open(filename, \"r\", encoding=\"utf-8\") as f:\n",
    "    name_row = f.readline().strip().split(\",\")\n",
    "    data = [x.strip().split(\",\") for x in f]\n",
    "\n",
    "for i, name in enumerate(name_row):\n",
    "    print(\"{}: {}\".format(i, name))"
   ]
  },
  {
   "cell_type": "code",
   "execution_count": 39,
   "metadata": {},
   "outputs": [
    {
     "name": "stdout",
     "output_type": "stream",
     "text": [
      "[['29872499824296', '5642903', 'F', '2016-04-29T18:38:08Z', '2016-04-29T00:00:00Z', '62', 'JARDIM DA PENHA', '0', '1', '0', '0', '0', '0', 'No'], ['558997776694438', '5642503', 'M', '2016-04-29T16:08:27Z', '2016-04-29T00:00:00Z', '56', 'JARDIM DA PENHA', '0', '0', '0', '0', '0', '0', 'No'], ['4262962299951', '5642549', 'F', '2016-04-29T16:19:04Z', '2016-04-29T00:00:00Z', '62', 'MATA DA PRAIA', '0', '0', '0', '0', '0', '0', 'No'], ['867951213174', '5642828', 'F', '2016-04-29T17:29:31Z', '2016-04-29T00:00:00Z', '8', 'PONTAL DE CAMBURI', '0', '0', '0', '0', '0', '0', 'No'], ['8841186448183', '5642494', 'F', '2016-04-29T16:07:23Z', '2016-04-29T00:00:00Z', '56', 'JARDIM DA PENHA', '0', '1', '1', '0', '0', '0', 'No'], ['95985133231274', '5626772', 'F', '2016-04-27T08:36:51Z', '2016-04-29T00:00:00Z', '76', 'REPÚBLICA', '0', '1', '0', '0', '0', '0', 'No'], ['733688164476661', '5630279', 'F', '2016-04-27T15:05:12Z', '2016-04-29T00:00:00Z', '23', 'GOIABEIRAS', '0', '0', '0', '0', '0', '0', 'Yes'], ['3449833394123', '5630575', 'F', '2016-04-27T15:39:58Z', '2016-04-29T00:00:00Z', '39', 'GOIABEIRAS', '0', '0', '0', '0', '0', '0', 'Yes'], ['56394729949972', '5638447', 'F', '2016-04-29T08:02:16Z', '2016-04-29T00:00:00Z', '21', 'ANDORINHAS', '0', '0', '0', '0', '0', '0', 'No'], ['78124564369297', '5629123', 'F', '2016-04-27T12:48:25Z', '2016-04-29T00:00:00Z', '19', 'CONQUISTA', '0', '0', '0', '0', '0', '0', 'No']]\n"
     ]
    }
   ],
   "source": [
    "print(data[:10])"
   ]
  },
  {
   "cell_type": "code",
   "execution_count": 40,
   "metadata": {},
   "outputs": [],
   "source": [
    "# Sua resposta AQUI!\n",
    "df = MeuDataFrameCaseiro(data)"
   ]
  },
  {
   "cell_type": "code",
   "execution_count": null,
   "metadata": {},
   "outputs": [],
   "source": []
  },
  {
   "cell_type": "markdown",
   "metadata": {},
   "source": [
    "### Conferir notas"
   ]
  },
  {
   "cell_type": "code",
   "execution_count": 51,
   "metadata": {},
   "outputs": [
    {
     "data": {
      "text/markdown": [
       "|    | Tarefa     |   Nota |\n",
       "|---:|:-----------|-------:|\n",
       "|  0 | functional |     10 |"
      ],
      "text/plain": [
       "<IPython.core.display.Markdown object>"
      ]
     },
     "metadata": {},
     "output_type": "display_data"
    }
   ],
   "source": [
    "ia.grades(by=\"task\", task=\"functional\")"
   ]
  },
  {
   "cell_type": "code",
   "execution_count": 52,
   "metadata": {},
   "outputs": [
    {
     "data": {
      "text/markdown": [
       "|    | Atividade   | Exercício   |   Peso |   Nota |\n",
       "|---:|:------------|:------------|-------:|-------:|\n",
       "|  0 | functional  | ex01        |      1 |     10 |\n",
       "|  1 | functional  | ex02        |      1 |     10 |\n",
       "|  2 | functional  | ex03        |      1 |     10 |\n",
       "|  3 | functional  | ex04        |      1 |     10 |\n",
       "|  4 | functional  | ex05        |      1 |     10 |\n",
       "|  5 | functional  | ex06        |      1 |     10 |\n",
       "|  6 | functional  | ex07        |      1 |     10 |"
      ],
      "text/plain": [
       "<IPython.core.display.Markdown object>"
      ]
     },
     "metadata": {},
     "output_type": "display_data"
    }
   ],
   "source": [
    "ia.grades(task=\"functional\")"
   ]
  },
  {
   "cell_type": "markdown",
   "metadata": {},
   "source": [
    "## Gabarito"
   ]
  },
  {
   "cell_type": "code",
   "execution_count": null,
   "metadata": {},
   "outputs": [],
   "source": [
    "# Exercício 2\n",
    "def caching():\n",
    "    def closure(f):\n",
    "        cache = {}\n",
    "\n",
    "        def func_wrapper(*args, **kwargs):\n",
    "            val = args[0]\n",
    "            if val in cache:\n",
    "                print(f\"Retornando valor cacheado de {val}\")\n",
    "                resultado = cache[val]\n",
    "            else:\n",
    "                print(f\"Tenho que calcular para {val}\")\n",
    "                resultado = f(*args, **kwargs)\n",
    "                print(f\"Retornou ({val}) -> ({resultado})\")\n",
    "                cache[val] = resultado\n",
    "            return resultado\n",
    "\n",
    "        return func_wrapper\n",
    "\n",
    "    return closure"
   ]
  },
  {
   "cell_type": "code",
   "execution_count": null,
   "metadata": {},
   "outputs": [],
   "source": []
  }
 ],
 "metadata": {
  "kernelspec": {
   "display_name": "Python 3 (ipykernel)",
   "language": "python",
   "name": "python3"
  },
  "language_info": {
   "codemirror_mode": {
    "name": "ipython",
    "version": 3
   },
   "file_extension": ".py",
   "mimetype": "text/x-python",
   "name": "python",
   "nbconvert_exporter": "python",
   "pygments_lexer": "ipython3",
   "version": "3.11.7"
  }
 },
 "nbformat": 4,
 "nbformat_minor": 4
}
